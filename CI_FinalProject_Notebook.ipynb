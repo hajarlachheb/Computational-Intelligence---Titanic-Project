{
  "nbformat": 4,
  "nbformat_minor": 0,
  "metadata": {
    "colab": {
      "provenance": [],
      "collapsed_sections": [
        "E5LlkWLEyJJ9",
        "NbICiw3kGFD2",
        "tRj5yZ7_xyjW",
        "37H68ML2N1yC",
        "CJPr1sJ6XP-B",
        "6jw1SH5FtX0k",
        "UbBKaBr_tao2"
      ],
      "toc_visible": true
    },
    "kernelspec": {
      "name": "python3",
      "display_name": "Python 3"
    },
    "language_info": {
      "name": "python"
    }
  },
  "cells": [
    {
      "cell_type": "markdown",
      "source": [
        "# Titanic Final Project\n"
      ],
      "metadata": {
        "id": "bNaupi1hCunb"
      }
    },
    {
      "cell_type": "markdown",
      "source": [
        "Members: Joel Haupt, Miquel Sugrañes, Saurabh Nagarkar, Hajar Laccheb\n",
        "--\n",
        "\n",
        "**MAI - Master in Artificial Intelligence**\n",
        "\n",
        "**Computational Intelligence - 2022/2023**\n",
        "\n",
        "----\n",
        "\n",
        "This _python_ Notebook contains all the code necessary to run the different experiments explained in the report with which it comes.\n",
        "\n",
        "In order to run experimens data must be retrieved (it is also attached as part of the project's delivery) and saved into Google Drive, specifying the right path, which can be set below by the user.\n",
        "\n",
        "Notice that the number of epochs for the training of the MLP models can be set by the user by changing them in the desired case.\n",
        "\n",
        "----\n"
      ],
      "metadata": {
        "id": "Wj1khkz5Cy00"
      }
    },
    {
      "cell_type": "markdown",
      "source": [
        "## Imports and preprocessing"
      ],
      "metadata": {
        "id": "E5LlkWLEyJJ9"
      }
    },
    {
      "cell_type": "code",
      "execution_count": null,
      "metadata": {
        "colab": {
          "base_uri": "https://localhost:8080/"
        },
        "id": "LmnHVcLqiJK0",
        "outputId": "358025ca-9f72-4c4b-d07f-81ebb761c586"
      },
      "outputs": [
        {
          "output_type": "stream",
          "name": "stdout",
          "text": [
            "Mounted at /content/drive\n"
          ]
        }
      ],
      "source": [
        "# Mount Google Drive session\n",
        "from google.colab import drive\n",
        "drive.mount('/content/drive')"
      ]
    },
    {
      "cell_type": "markdown",
      "source": [
        "### Import libraries and data"
      ],
      "metadata": {
        "id": "NbICiw3kGFD2"
      }
    },
    {
      "cell_type": "code",
      "source": [
        "# Import necessary libraries\n",
        "import os\n",
        "import pandas as pd\n",
        "from sklearn import preprocessing\n",
        "from sklearn.model_selection import train_test_split\n",
        "from sklearn.linear_model import LogisticRegression\n",
        "from sklearn.metrics import accuracy_score\n",
        "from sklearn.metrics import confusion_matrix\n",
        "import seaborn as sns\n",
        "import matplotlib.pyplot as plt\n",
        "from sklearn.preprocessing import StandardScaler\n",
        "from keras.models import Sequential\n",
        "from keras.layers import Dense, Dropout\n",
        "import numpy as np"
      ],
      "metadata": {
        "id": "GW9hFMUYjbsP"
      },
      "execution_count": null,
      "outputs": []
    },
    {
      "cell_type": "code",
      "source": [
        "# Set data path\n",
        "data_path = '/content/drive/MyDrive/Master/CI/titanic_dataset'\n",
        "train_data_path = os.path.join(data_path, 'train.csv')\n",
        "test_data_path = os.path.join(data_path, 'test.csv')"
      ],
      "metadata": {
        "id": "9svteXfSjLOW"
      },
      "execution_count": null,
      "outputs": []
    },
    {
      "cell_type": "code",
      "source": [
        "# Import data and store them in a pandas DataFrame\n",
        "train_data = pd.read_csv(train_data_path)\n",
        "test_data = pd.read_csv(test_data_path)"
      ],
      "metadata": {
        "id": "OT8b07cxjXmD"
      },
      "execution_count": null,
      "outputs": []
    },
    {
      "cell_type": "markdown",
      "source": [
        "### Preprocessing"
      ],
      "metadata": {
        "id": "tRj5yZ7_xyjW"
      }
    },
    {
      "cell_type": "code",
      "source": [
        "# Show first 5 rows of training data\n",
        "train_data.head()"
      ],
      "metadata": {
        "colab": {
          "base_uri": "https://localhost:8080/",
          "height": 299
        },
        "id": "uf54LIv6lSet",
        "outputId": "d7d11c08-038d-4656-8d48-4d779761ecab"
      },
      "execution_count": null,
      "outputs": [
        {
          "output_type": "execute_result",
          "data": {
            "text/plain": [
              "   PassengerId  Survived  Pclass  \\\n",
              "0            1         0       3   \n",
              "1            2         1       1   \n",
              "2            3         1       3   \n",
              "3            4         1       1   \n",
              "4            5         0       3   \n",
              "\n",
              "                                                Name     Sex   Age  SibSp  \\\n",
              "0                            Braund, Mr. Owen Harris    male  22.0      1   \n",
              "1  Cumings, Mrs. John Bradley (Florence Briggs Th...  female  38.0      1   \n",
              "2                             Heikkinen, Miss. Laina  female  26.0      0   \n",
              "3       Futrelle, Mrs. Jacques Heath (Lily May Peel)  female  35.0      1   \n",
              "4                           Allen, Mr. William Henry    male  35.0      0   \n",
              "\n",
              "   Parch            Ticket     Fare Cabin Embarked  \n",
              "0      0         A/5 21171   7.2500   NaN        S  \n",
              "1      0          PC 17599  71.2833   C85        C  \n",
              "2      0  STON/O2. 3101282   7.9250   NaN        S  \n",
              "3      0            113803  53.1000  C123        S  \n",
              "4      0            373450   8.0500   NaN        S  "
            ],
            "text/html": [
              "\n",
              "  <div id=\"df-ea4c0354-c058-4583-9757-7b6fea8aeec7\">\n",
              "    <div class=\"colab-df-container\">\n",
              "      <div>\n",
              "<style scoped>\n",
              "    .dataframe tbody tr th:only-of-type {\n",
              "        vertical-align: middle;\n",
              "    }\n",
              "\n",
              "    .dataframe tbody tr th {\n",
              "        vertical-align: top;\n",
              "    }\n",
              "\n",
              "    .dataframe thead th {\n",
              "        text-align: right;\n",
              "    }\n",
              "</style>\n",
              "<table border=\"1\" class=\"dataframe\">\n",
              "  <thead>\n",
              "    <tr style=\"text-align: right;\">\n",
              "      <th></th>\n",
              "      <th>PassengerId</th>\n",
              "      <th>Survived</th>\n",
              "      <th>Pclass</th>\n",
              "      <th>Name</th>\n",
              "      <th>Sex</th>\n",
              "      <th>Age</th>\n",
              "      <th>SibSp</th>\n",
              "      <th>Parch</th>\n",
              "      <th>Ticket</th>\n",
              "      <th>Fare</th>\n",
              "      <th>Cabin</th>\n",
              "      <th>Embarked</th>\n",
              "    </tr>\n",
              "  </thead>\n",
              "  <tbody>\n",
              "    <tr>\n",
              "      <th>0</th>\n",
              "      <td>1</td>\n",
              "      <td>0</td>\n",
              "      <td>3</td>\n",
              "      <td>Braund, Mr. Owen Harris</td>\n",
              "      <td>male</td>\n",
              "      <td>22.0</td>\n",
              "      <td>1</td>\n",
              "      <td>0</td>\n",
              "      <td>A/5 21171</td>\n",
              "      <td>7.2500</td>\n",
              "      <td>NaN</td>\n",
              "      <td>S</td>\n",
              "    </tr>\n",
              "    <tr>\n",
              "      <th>1</th>\n",
              "      <td>2</td>\n",
              "      <td>1</td>\n",
              "      <td>1</td>\n",
              "      <td>Cumings, Mrs. John Bradley (Florence Briggs Th...</td>\n",
              "      <td>female</td>\n",
              "      <td>38.0</td>\n",
              "      <td>1</td>\n",
              "      <td>0</td>\n",
              "      <td>PC 17599</td>\n",
              "      <td>71.2833</td>\n",
              "      <td>C85</td>\n",
              "      <td>C</td>\n",
              "    </tr>\n",
              "    <tr>\n",
              "      <th>2</th>\n",
              "      <td>3</td>\n",
              "      <td>1</td>\n",
              "      <td>3</td>\n",
              "      <td>Heikkinen, Miss. Laina</td>\n",
              "      <td>female</td>\n",
              "      <td>26.0</td>\n",
              "      <td>0</td>\n",
              "      <td>0</td>\n",
              "      <td>STON/O2. 3101282</td>\n",
              "      <td>7.9250</td>\n",
              "      <td>NaN</td>\n",
              "      <td>S</td>\n",
              "    </tr>\n",
              "    <tr>\n",
              "      <th>3</th>\n",
              "      <td>4</td>\n",
              "      <td>1</td>\n",
              "      <td>1</td>\n",
              "      <td>Futrelle, Mrs. Jacques Heath (Lily May Peel)</td>\n",
              "      <td>female</td>\n",
              "      <td>35.0</td>\n",
              "      <td>1</td>\n",
              "      <td>0</td>\n",
              "      <td>113803</td>\n",
              "      <td>53.1000</td>\n",
              "      <td>C123</td>\n",
              "      <td>S</td>\n",
              "    </tr>\n",
              "    <tr>\n",
              "      <th>4</th>\n",
              "      <td>5</td>\n",
              "      <td>0</td>\n",
              "      <td>3</td>\n",
              "      <td>Allen, Mr. William Henry</td>\n",
              "      <td>male</td>\n",
              "      <td>35.0</td>\n",
              "      <td>0</td>\n",
              "      <td>0</td>\n",
              "      <td>373450</td>\n",
              "      <td>8.0500</td>\n",
              "      <td>NaN</td>\n",
              "      <td>S</td>\n",
              "    </tr>\n",
              "  </tbody>\n",
              "</table>\n",
              "</div>\n",
              "      <button class=\"colab-df-convert\" onclick=\"convertToInteractive('df-ea4c0354-c058-4583-9757-7b6fea8aeec7')\"\n",
              "              title=\"Convert this dataframe to an interactive table.\"\n",
              "              style=\"display:none;\">\n",
              "        \n",
              "  <svg xmlns=\"http://www.w3.org/2000/svg\" height=\"24px\"viewBox=\"0 0 24 24\"\n",
              "       width=\"24px\">\n",
              "    <path d=\"M0 0h24v24H0V0z\" fill=\"none\"/>\n",
              "    <path d=\"M18.56 5.44l.94 2.06.94-2.06 2.06-.94-2.06-.94-.94-2.06-.94 2.06-2.06.94zm-11 1L8.5 8.5l.94-2.06 2.06-.94-2.06-.94L8.5 2.5l-.94 2.06-2.06.94zm10 10l.94 2.06.94-2.06 2.06-.94-2.06-.94-.94-2.06-.94 2.06-2.06.94z\"/><path d=\"M17.41 7.96l-1.37-1.37c-.4-.4-.92-.59-1.43-.59-.52 0-1.04.2-1.43.59L10.3 9.45l-7.72 7.72c-.78.78-.78 2.05 0 2.83L4 21.41c.39.39.9.59 1.41.59.51 0 1.02-.2 1.41-.59l7.78-7.78 2.81-2.81c.8-.78.8-2.07 0-2.86zM5.41 20L4 18.59l7.72-7.72 1.47 1.35L5.41 20z\"/>\n",
              "  </svg>\n",
              "      </button>\n",
              "      \n",
              "  <style>\n",
              "    .colab-df-container {\n",
              "      display:flex;\n",
              "      flex-wrap:wrap;\n",
              "      gap: 12px;\n",
              "    }\n",
              "\n",
              "    .colab-df-convert {\n",
              "      background-color: #E8F0FE;\n",
              "      border: none;\n",
              "      border-radius: 50%;\n",
              "      cursor: pointer;\n",
              "      display: none;\n",
              "      fill: #1967D2;\n",
              "      height: 32px;\n",
              "      padding: 0 0 0 0;\n",
              "      width: 32px;\n",
              "    }\n",
              "\n",
              "    .colab-df-convert:hover {\n",
              "      background-color: #E2EBFA;\n",
              "      box-shadow: 0px 1px 2px rgba(60, 64, 67, 0.3), 0px 1px 3px 1px rgba(60, 64, 67, 0.15);\n",
              "      fill: #174EA6;\n",
              "    }\n",
              "\n",
              "    [theme=dark] .colab-df-convert {\n",
              "      background-color: #3B4455;\n",
              "      fill: #D2E3FC;\n",
              "    }\n",
              "\n",
              "    [theme=dark] .colab-df-convert:hover {\n",
              "      background-color: #434B5C;\n",
              "      box-shadow: 0px 1px 3px 1px rgba(0, 0, 0, 0.15);\n",
              "      filter: drop-shadow(0px 1px 2px rgba(0, 0, 0, 0.3));\n",
              "      fill: #FFFFFF;\n",
              "    }\n",
              "  </style>\n",
              "\n",
              "      <script>\n",
              "        const buttonEl =\n",
              "          document.querySelector('#df-ea4c0354-c058-4583-9757-7b6fea8aeec7 button.colab-df-convert');\n",
              "        buttonEl.style.display =\n",
              "          google.colab.kernel.accessAllowed ? 'block' : 'none';\n",
              "\n",
              "        async function convertToInteractive(key) {\n",
              "          const element = document.querySelector('#df-ea4c0354-c058-4583-9757-7b6fea8aeec7');\n",
              "          const dataTable =\n",
              "            await google.colab.kernel.invokeFunction('convertToInteractive',\n",
              "                                                     [key], {});\n",
              "          if (!dataTable) return;\n",
              "\n",
              "          const docLinkHtml = 'Like what you see? Visit the ' +\n",
              "            '<a target=\"_blank\" href=https://colab.research.google.com/notebooks/data_table.ipynb>data table notebook</a>'\n",
              "            + ' to learn more about interactive tables.';\n",
              "          element.innerHTML = '';\n",
              "          dataTable['output_type'] = 'display_data';\n",
              "          await google.colab.output.renderOutput(dataTable, element);\n",
              "          const docLink = document.createElement('div');\n",
              "          docLink.innerHTML = docLinkHtml;\n",
              "          element.appendChild(docLink);\n",
              "        }\n",
              "      </script>\n",
              "    </div>\n",
              "  </div>\n",
              "  "
            ]
          },
          "metadata": {},
          "execution_count": 76
        }
      ]
    },
    {
      "cell_type": "code",
      "source": [
        "# Show training data shape\n",
        "train_data.shape"
      ],
      "metadata": {
        "colab": {
          "base_uri": "https://localhost:8080/"
        },
        "id": "UgFN01KcoHLt",
        "outputId": "73796a63-23ae-4bb5-b79c-0e2390655dcb"
      },
      "execution_count": null,
      "outputs": [
        {
          "output_type": "execute_result",
          "data": {
            "text/plain": [
              "(891, 12)"
            ]
          },
          "metadata": {},
          "execution_count": 77
        }
      ]
    },
    {
      "cell_type": "code",
      "source": [
        "# Show training data decription\n",
        "train_data.describe()"
      ],
      "metadata": {
        "colab": {
          "base_uri": "https://localhost:8080/",
          "height": 297
        },
        "id": "yLyYHtOOlw4o",
        "outputId": "71295ab7-ebd6-4220-cc2d-a662d686bec4"
      },
      "execution_count": null,
      "outputs": [
        {
          "output_type": "execute_result",
          "data": {
            "text/plain": [
              "       PassengerId    Survived      Pclass         Age       SibSp  \\\n",
              "count   891.000000  891.000000  891.000000  714.000000  891.000000   \n",
              "mean    446.000000    0.383838    2.308642   29.699118    0.523008   \n",
              "std     257.353842    0.486592    0.836071   14.526497    1.102743   \n",
              "min       1.000000    0.000000    1.000000    0.420000    0.000000   \n",
              "25%     223.500000    0.000000    2.000000   20.125000    0.000000   \n",
              "50%     446.000000    0.000000    3.000000   28.000000    0.000000   \n",
              "75%     668.500000    1.000000    3.000000   38.000000    1.000000   \n",
              "max     891.000000    1.000000    3.000000   80.000000    8.000000   \n",
              "\n",
              "            Parch        Fare  \n",
              "count  891.000000  891.000000  \n",
              "mean     0.381594   32.204208  \n",
              "std      0.806057   49.693429  \n",
              "min      0.000000    0.000000  \n",
              "25%      0.000000    7.910400  \n",
              "50%      0.000000   14.454200  \n",
              "75%      0.000000   31.000000  \n",
              "max      6.000000  512.329200  "
            ],
            "text/html": [
              "\n",
              "  <div id=\"df-59c2e31c-d0da-4a28-afd4-45620dc08b64\">\n",
              "    <div class=\"colab-df-container\">\n",
              "      <div>\n",
              "<style scoped>\n",
              "    .dataframe tbody tr th:only-of-type {\n",
              "        vertical-align: middle;\n",
              "    }\n",
              "\n",
              "    .dataframe tbody tr th {\n",
              "        vertical-align: top;\n",
              "    }\n",
              "\n",
              "    .dataframe thead th {\n",
              "        text-align: right;\n",
              "    }\n",
              "</style>\n",
              "<table border=\"1\" class=\"dataframe\">\n",
              "  <thead>\n",
              "    <tr style=\"text-align: right;\">\n",
              "      <th></th>\n",
              "      <th>PassengerId</th>\n",
              "      <th>Survived</th>\n",
              "      <th>Pclass</th>\n",
              "      <th>Age</th>\n",
              "      <th>SibSp</th>\n",
              "      <th>Parch</th>\n",
              "      <th>Fare</th>\n",
              "    </tr>\n",
              "  </thead>\n",
              "  <tbody>\n",
              "    <tr>\n",
              "      <th>count</th>\n",
              "      <td>891.000000</td>\n",
              "      <td>891.000000</td>\n",
              "      <td>891.000000</td>\n",
              "      <td>714.000000</td>\n",
              "      <td>891.000000</td>\n",
              "      <td>891.000000</td>\n",
              "      <td>891.000000</td>\n",
              "    </tr>\n",
              "    <tr>\n",
              "      <th>mean</th>\n",
              "      <td>446.000000</td>\n",
              "      <td>0.383838</td>\n",
              "      <td>2.308642</td>\n",
              "      <td>29.699118</td>\n",
              "      <td>0.523008</td>\n",
              "      <td>0.381594</td>\n",
              "      <td>32.204208</td>\n",
              "    </tr>\n",
              "    <tr>\n",
              "      <th>std</th>\n",
              "      <td>257.353842</td>\n",
              "      <td>0.486592</td>\n",
              "      <td>0.836071</td>\n",
              "      <td>14.526497</td>\n",
              "      <td>1.102743</td>\n",
              "      <td>0.806057</td>\n",
              "      <td>49.693429</td>\n",
              "    </tr>\n",
              "    <tr>\n",
              "      <th>min</th>\n",
              "      <td>1.000000</td>\n",
              "      <td>0.000000</td>\n",
              "      <td>1.000000</td>\n",
              "      <td>0.420000</td>\n",
              "      <td>0.000000</td>\n",
              "      <td>0.000000</td>\n",
              "      <td>0.000000</td>\n",
              "    </tr>\n",
              "    <tr>\n",
              "      <th>25%</th>\n",
              "      <td>223.500000</td>\n",
              "      <td>0.000000</td>\n",
              "      <td>2.000000</td>\n",
              "      <td>20.125000</td>\n",
              "      <td>0.000000</td>\n",
              "      <td>0.000000</td>\n",
              "      <td>7.910400</td>\n",
              "    </tr>\n",
              "    <tr>\n",
              "      <th>50%</th>\n",
              "      <td>446.000000</td>\n",
              "      <td>0.000000</td>\n",
              "      <td>3.000000</td>\n",
              "      <td>28.000000</td>\n",
              "      <td>0.000000</td>\n",
              "      <td>0.000000</td>\n",
              "      <td>14.454200</td>\n",
              "    </tr>\n",
              "    <tr>\n",
              "      <th>75%</th>\n",
              "      <td>668.500000</td>\n",
              "      <td>1.000000</td>\n",
              "      <td>3.000000</td>\n",
              "      <td>38.000000</td>\n",
              "      <td>1.000000</td>\n",
              "      <td>0.000000</td>\n",
              "      <td>31.000000</td>\n",
              "    </tr>\n",
              "    <tr>\n",
              "      <th>max</th>\n",
              "      <td>891.000000</td>\n",
              "      <td>1.000000</td>\n",
              "      <td>3.000000</td>\n",
              "      <td>80.000000</td>\n",
              "      <td>8.000000</td>\n",
              "      <td>6.000000</td>\n",
              "      <td>512.329200</td>\n",
              "    </tr>\n",
              "  </tbody>\n",
              "</table>\n",
              "</div>\n",
              "      <button class=\"colab-df-convert\" onclick=\"convertToInteractive('df-59c2e31c-d0da-4a28-afd4-45620dc08b64')\"\n",
              "              title=\"Convert this dataframe to an interactive table.\"\n",
              "              style=\"display:none;\">\n",
              "        \n",
              "  <svg xmlns=\"http://www.w3.org/2000/svg\" height=\"24px\"viewBox=\"0 0 24 24\"\n",
              "       width=\"24px\">\n",
              "    <path d=\"M0 0h24v24H0V0z\" fill=\"none\"/>\n",
              "    <path d=\"M18.56 5.44l.94 2.06.94-2.06 2.06-.94-2.06-.94-.94-2.06-.94 2.06-2.06.94zm-11 1L8.5 8.5l.94-2.06 2.06-.94-2.06-.94L8.5 2.5l-.94 2.06-2.06.94zm10 10l.94 2.06.94-2.06 2.06-.94-2.06-.94-.94-2.06-.94 2.06-2.06.94z\"/><path d=\"M17.41 7.96l-1.37-1.37c-.4-.4-.92-.59-1.43-.59-.52 0-1.04.2-1.43.59L10.3 9.45l-7.72 7.72c-.78.78-.78 2.05 0 2.83L4 21.41c.39.39.9.59 1.41.59.51 0 1.02-.2 1.41-.59l7.78-7.78 2.81-2.81c.8-.78.8-2.07 0-2.86zM5.41 20L4 18.59l7.72-7.72 1.47 1.35L5.41 20z\"/>\n",
              "  </svg>\n",
              "      </button>\n",
              "      \n",
              "  <style>\n",
              "    .colab-df-container {\n",
              "      display:flex;\n",
              "      flex-wrap:wrap;\n",
              "      gap: 12px;\n",
              "    }\n",
              "\n",
              "    .colab-df-convert {\n",
              "      background-color: #E8F0FE;\n",
              "      border: none;\n",
              "      border-radius: 50%;\n",
              "      cursor: pointer;\n",
              "      display: none;\n",
              "      fill: #1967D2;\n",
              "      height: 32px;\n",
              "      padding: 0 0 0 0;\n",
              "      width: 32px;\n",
              "    }\n",
              "\n",
              "    .colab-df-convert:hover {\n",
              "      background-color: #E2EBFA;\n",
              "      box-shadow: 0px 1px 2px rgba(60, 64, 67, 0.3), 0px 1px 3px 1px rgba(60, 64, 67, 0.15);\n",
              "      fill: #174EA6;\n",
              "    }\n",
              "\n",
              "    [theme=dark] .colab-df-convert {\n",
              "      background-color: #3B4455;\n",
              "      fill: #D2E3FC;\n",
              "    }\n",
              "\n",
              "    [theme=dark] .colab-df-convert:hover {\n",
              "      background-color: #434B5C;\n",
              "      box-shadow: 0px 1px 3px 1px rgba(0, 0, 0, 0.15);\n",
              "      filter: drop-shadow(0px 1px 2px rgba(0, 0, 0, 0.3));\n",
              "      fill: #FFFFFF;\n",
              "    }\n",
              "  </style>\n",
              "\n",
              "      <script>\n",
              "        const buttonEl =\n",
              "          document.querySelector('#df-59c2e31c-d0da-4a28-afd4-45620dc08b64 button.colab-df-convert');\n",
              "        buttonEl.style.display =\n",
              "          google.colab.kernel.accessAllowed ? 'block' : 'none';\n",
              "\n",
              "        async function convertToInteractive(key) {\n",
              "          const element = document.querySelector('#df-59c2e31c-d0da-4a28-afd4-45620dc08b64');\n",
              "          const dataTable =\n",
              "            await google.colab.kernel.invokeFunction('convertToInteractive',\n",
              "                                                     [key], {});\n",
              "          if (!dataTable) return;\n",
              "\n",
              "          const docLinkHtml = 'Like what you see? Visit the ' +\n",
              "            '<a target=\"_blank\" href=https://colab.research.google.com/notebooks/data_table.ipynb>data table notebook</a>'\n",
              "            + ' to learn more about interactive tables.';\n",
              "          element.innerHTML = '';\n",
              "          dataTable['output_type'] = 'display_data';\n",
              "          await google.colab.output.renderOutput(dataTable, element);\n",
              "          const docLink = document.createElement('div');\n",
              "          docLink.innerHTML = docLinkHtml;\n",
              "          element.appendChild(docLink);\n",
              "        }\n",
              "      </script>\n",
              "    </div>\n",
              "  </div>\n",
              "  "
            ]
          },
          "metadata": {},
          "execution_count": 78
        }
      ]
    },
    {
      "cell_type": "code",
      "source": [
        "# Show training data information\n",
        "train_data.info()"
      ],
      "metadata": {
        "colab": {
          "base_uri": "https://localhost:8080/"
        },
        "id": "1uSaVE2dl84I",
        "outputId": "4fc6fc74-d329-48cc-8a26-42e5a3dea909"
      },
      "execution_count": null,
      "outputs": [
        {
          "output_type": "stream",
          "name": "stdout",
          "text": [
            "<class 'pandas.core.frame.DataFrame'>\n",
            "RangeIndex: 891 entries, 0 to 890\n",
            "Data columns (total 12 columns):\n",
            " #   Column       Non-Null Count  Dtype  \n",
            "---  ------       --------------  -----  \n",
            " 0   PassengerId  891 non-null    int64  \n",
            " 1   Survived     891 non-null    int64  \n",
            " 2   Pclass       891 non-null    int64  \n",
            " 3   Name         891 non-null    object \n",
            " 4   Sex          891 non-null    object \n",
            " 5   Age          714 non-null    float64\n",
            " 6   SibSp        891 non-null    int64  \n",
            " 7   Parch        891 non-null    int64  \n",
            " 8   Ticket       891 non-null    object \n",
            " 9   Fare         891 non-null    float64\n",
            " 10  Cabin        204 non-null    object \n",
            " 11  Embarked     889 non-null    object \n",
            "dtypes: float64(2), int64(5), object(5)\n",
            "memory usage: 83.7+ KB\n"
          ]
        }
      ]
    },
    {
      "cell_type": "code",
      "source": [
        "# Select indices for instances to be deleted and print them\n",
        "indices1 = train_data[train_data['Embarked'].isnull()].index.tolist()\n",
        "indices2 = train_data[train_data['Age'].isnull()].index.tolist()\n",
        "train_indices_to_delete = sorted(indices1 + indices2)\n",
        "print(train_indices_to_delete)"
      ],
      "metadata": {
        "colab": {
          "base_uri": "https://localhost:8080/"
        },
        "id": "XQno6p4oob40",
        "outputId": "33b22a21-1f73-4539-ef5a-1c318c831d47"
      },
      "execution_count": null,
      "outputs": [
        {
          "output_type": "stream",
          "name": "stdout",
          "text": [
            "[5, 17, 19, 26, 28, 29, 31, 32, 36, 42, 45, 46, 47, 48, 55, 61, 64, 65, 76, 77, 82, 87, 95, 101, 107, 109, 121, 126, 128, 140, 154, 158, 159, 166, 168, 176, 180, 181, 185, 186, 196, 198, 201, 214, 223, 229, 235, 240, 241, 250, 256, 260, 264, 270, 274, 277, 284, 295, 298, 300, 301, 303, 304, 306, 324, 330, 334, 335, 347, 351, 354, 358, 359, 364, 367, 368, 375, 384, 388, 409, 410, 411, 413, 415, 420, 425, 428, 431, 444, 451, 454, 457, 459, 464, 466, 468, 470, 475, 481, 485, 490, 495, 497, 502, 507, 511, 517, 522, 524, 527, 531, 533, 538, 547, 552, 557, 560, 563, 564, 568, 573, 578, 584, 589, 593, 596, 598, 601, 602, 611, 612, 613, 629, 633, 639, 643, 648, 650, 653, 656, 667, 669, 674, 680, 692, 697, 709, 711, 718, 727, 732, 738, 739, 740, 760, 766, 768, 773, 776, 778, 783, 790, 792, 793, 815, 825, 826, 828, 829, 832, 837, 839, 846, 849, 859, 863, 868, 878, 888]\n"
          ]
        }
      ]
    },
    {
      "cell_type": "code",
      "source": [
        "# Show first 5 rows of test data \n",
        "test_data.head()"
      ],
      "metadata": {
        "colab": {
          "base_uri": "https://localhost:8080/",
          "height": 204
        },
        "id": "rmcDMaAklUtR",
        "outputId": "d329b859-06f2-4c66-e6dc-55fdaf0eb42c"
      },
      "execution_count": null,
      "outputs": [
        {
          "output_type": "execute_result",
          "data": {
            "text/plain": [
              "   PassengerId  Pclass                                          Name     Sex  \\\n",
              "0          892       3                              Kelly, Mr. James    male   \n",
              "1          893       3              Wilkes, Mrs. James (Ellen Needs)  female   \n",
              "2          894       2                     Myles, Mr. Thomas Francis    male   \n",
              "3          895       3                              Wirz, Mr. Albert    male   \n",
              "4          896       3  Hirvonen, Mrs. Alexander (Helga E Lindqvist)  female   \n",
              "\n",
              "    Age  SibSp  Parch   Ticket     Fare Cabin Embarked  \n",
              "0  34.5      0      0   330911   7.8292   NaN        Q  \n",
              "1  47.0      1      0   363272   7.0000   NaN        S  \n",
              "2  62.0      0      0   240276   9.6875   NaN        Q  \n",
              "3  27.0      0      0   315154   8.6625   NaN        S  \n",
              "4  22.0      1      1  3101298  12.2875   NaN        S  "
            ],
            "text/html": [
              "\n",
              "  <div id=\"df-613ab433-44b4-4785-9d0f-c9950b992a83\">\n",
              "    <div class=\"colab-df-container\">\n",
              "      <div>\n",
              "<style scoped>\n",
              "    .dataframe tbody tr th:only-of-type {\n",
              "        vertical-align: middle;\n",
              "    }\n",
              "\n",
              "    .dataframe tbody tr th {\n",
              "        vertical-align: top;\n",
              "    }\n",
              "\n",
              "    .dataframe thead th {\n",
              "        text-align: right;\n",
              "    }\n",
              "</style>\n",
              "<table border=\"1\" class=\"dataframe\">\n",
              "  <thead>\n",
              "    <tr style=\"text-align: right;\">\n",
              "      <th></th>\n",
              "      <th>PassengerId</th>\n",
              "      <th>Pclass</th>\n",
              "      <th>Name</th>\n",
              "      <th>Sex</th>\n",
              "      <th>Age</th>\n",
              "      <th>SibSp</th>\n",
              "      <th>Parch</th>\n",
              "      <th>Ticket</th>\n",
              "      <th>Fare</th>\n",
              "      <th>Cabin</th>\n",
              "      <th>Embarked</th>\n",
              "    </tr>\n",
              "  </thead>\n",
              "  <tbody>\n",
              "    <tr>\n",
              "      <th>0</th>\n",
              "      <td>892</td>\n",
              "      <td>3</td>\n",
              "      <td>Kelly, Mr. James</td>\n",
              "      <td>male</td>\n",
              "      <td>34.5</td>\n",
              "      <td>0</td>\n",
              "      <td>0</td>\n",
              "      <td>330911</td>\n",
              "      <td>7.8292</td>\n",
              "      <td>NaN</td>\n",
              "      <td>Q</td>\n",
              "    </tr>\n",
              "    <tr>\n",
              "      <th>1</th>\n",
              "      <td>893</td>\n",
              "      <td>3</td>\n",
              "      <td>Wilkes, Mrs. James (Ellen Needs)</td>\n",
              "      <td>female</td>\n",
              "      <td>47.0</td>\n",
              "      <td>1</td>\n",
              "      <td>0</td>\n",
              "      <td>363272</td>\n",
              "      <td>7.0000</td>\n",
              "      <td>NaN</td>\n",
              "      <td>S</td>\n",
              "    </tr>\n",
              "    <tr>\n",
              "      <th>2</th>\n",
              "      <td>894</td>\n",
              "      <td>2</td>\n",
              "      <td>Myles, Mr. Thomas Francis</td>\n",
              "      <td>male</td>\n",
              "      <td>62.0</td>\n",
              "      <td>0</td>\n",
              "      <td>0</td>\n",
              "      <td>240276</td>\n",
              "      <td>9.6875</td>\n",
              "      <td>NaN</td>\n",
              "      <td>Q</td>\n",
              "    </tr>\n",
              "    <tr>\n",
              "      <th>3</th>\n",
              "      <td>895</td>\n",
              "      <td>3</td>\n",
              "      <td>Wirz, Mr. Albert</td>\n",
              "      <td>male</td>\n",
              "      <td>27.0</td>\n",
              "      <td>0</td>\n",
              "      <td>0</td>\n",
              "      <td>315154</td>\n",
              "      <td>8.6625</td>\n",
              "      <td>NaN</td>\n",
              "      <td>S</td>\n",
              "    </tr>\n",
              "    <tr>\n",
              "      <th>4</th>\n",
              "      <td>896</td>\n",
              "      <td>3</td>\n",
              "      <td>Hirvonen, Mrs. Alexander (Helga E Lindqvist)</td>\n",
              "      <td>female</td>\n",
              "      <td>22.0</td>\n",
              "      <td>1</td>\n",
              "      <td>1</td>\n",
              "      <td>3101298</td>\n",
              "      <td>12.2875</td>\n",
              "      <td>NaN</td>\n",
              "      <td>S</td>\n",
              "    </tr>\n",
              "  </tbody>\n",
              "</table>\n",
              "</div>\n",
              "      <button class=\"colab-df-convert\" onclick=\"convertToInteractive('df-613ab433-44b4-4785-9d0f-c9950b992a83')\"\n",
              "              title=\"Convert this dataframe to an interactive table.\"\n",
              "              style=\"display:none;\">\n",
              "        \n",
              "  <svg xmlns=\"http://www.w3.org/2000/svg\" height=\"24px\"viewBox=\"0 0 24 24\"\n",
              "       width=\"24px\">\n",
              "    <path d=\"M0 0h24v24H0V0z\" fill=\"none\"/>\n",
              "    <path d=\"M18.56 5.44l.94 2.06.94-2.06 2.06-.94-2.06-.94-.94-2.06-.94 2.06-2.06.94zm-11 1L8.5 8.5l.94-2.06 2.06-.94-2.06-.94L8.5 2.5l-.94 2.06-2.06.94zm10 10l.94 2.06.94-2.06 2.06-.94-2.06-.94-.94-2.06-.94 2.06-2.06.94z\"/><path d=\"M17.41 7.96l-1.37-1.37c-.4-.4-.92-.59-1.43-.59-.52 0-1.04.2-1.43.59L10.3 9.45l-7.72 7.72c-.78.78-.78 2.05 0 2.83L4 21.41c.39.39.9.59 1.41.59.51 0 1.02-.2 1.41-.59l7.78-7.78 2.81-2.81c.8-.78.8-2.07 0-2.86zM5.41 20L4 18.59l7.72-7.72 1.47 1.35L5.41 20z\"/>\n",
              "  </svg>\n",
              "      </button>\n",
              "      \n",
              "  <style>\n",
              "    .colab-df-container {\n",
              "      display:flex;\n",
              "      flex-wrap:wrap;\n",
              "      gap: 12px;\n",
              "    }\n",
              "\n",
              "    .colab-df-convert {\n",
              "      background-color: #E8F0FE;\n",
              "      border: none;\n",
              "      border-radius: 50%;\n",
              "      cursor: pointer;\n",
              "      display: none;\n",
              "      fill: #1967D2;\n",
              "      height: 32px;\n",
              "      padding: 0 0 0 0;\n",
              "      width: 32px;\n",
              "    }\n",
              "\n",
              "    .colab-df-convert:hover {\n",
              "      background-color: #E2EBFA;\n",
              "      box-shadow: 0px 1px 2px rgba(60, 64, 67, 0.3), 0px 1px 3px 1px rgba(60, 64, 67, 0.15);\n",
              "      fill: #174EA6;\n",
              "    }\n",
              "\n",
              "    [theme=dark] .colab-df-convert {\n",
              "      background-color: #3B4455;\n",
              "      fill: #D2E3FC;\n",
              "    }\n",
              "\n",
              "    [theme=dark] .colab-df-convert:hover {\n",
              "      background-color: #434B5C;\n",
              "      box-shadow: 0px 1px 3px 1px rgba(0, 0, 0, 0.15);\n",
              "      filter: drop-shadow(0px 1px 2px rgba(0, 0, 0, 0.3));\n",
              "      fill: #FFFFFF;\n",
              "    }\n",
              "  </style>\n",
              "\n",
              "      <script>\n",
              "        const buttonEl =\n",
              "          document.querySelector('#df-613ab433-44b4-4785-9d0f-c9950b992a83 button.colab-df-convert');\n",
              "        buttonEl.style.display =\n",
              "          google.colab.kernel.accessAllowed ? 'block' : 'none';\n",
              "\n",
              "        async function convertToInteractive(key) {\n",
              "          const element = document.querySelector('#df-613ab433-44b4-4785-9d0f-c9950b992a83');\n",
              "          const dataTable =\n",
              "            await google.colab.kernel.invokeFunction('convertToInteractive',\n",
              "                                                     [key], {});\n",
              "          if (!dataTable) return;\n",
              "\n",
              "          const docLinkHtml = 'Like what you see? Visit the ' +\n",
              "            '<a target=\"_blank\" href=https://colab.research.google.com/notebooks/data_table.ipynb>data table notebook</a>'\n",
              "            + ' to learn more about interactive tables.';\n",
              "          element.innerHTML = '';\n",
              "          dataTable['output_type'] = 'display_data';\n",
              "          await google.colab.output.renderOutput(dataTable, element);\n",
              "          const docLink = document.createElement('div');\n",
              "          docLink.innerHTML = docLinkHtml;\n",
              "          element.appendChild(docLink);\n",
              "        }\n",
              "      </script>\n",
              "    </div>\n",
              "  </div>\n",
              "  "
            ]
          },
          "metadata": {},
          "execution_count": 81
        }
      ]
    },
    {
      "cell_type": "code",
      "source": [
        "# Show test data shape\n",
        "test_data.shape"
      ],
      "metadata": {
        "colab": {
          "base_uri": "https://localhost:8080/"
        },
        "id": "14ywlU_stXsP",
        "outputId": "9b6ef1f8-1a68-49a3-c457-db88723e9e85"
      },
      "execution_count": null,
      "outputs": [
        {
          "output_type": "execute_result",
          "data": {
            "text/plain": [
              "(418, 11)"
            ]
          },
          "metadata": {},
          "execution_count": 82
        }
      ]
    },
    {
      "cell_type": "code",
      "source": [
        "# Show test data description\n",
        "test_data.describe()"
      ],
      "metadata": {
        "colab": {
          "base_uri": "https://localhost:8080/",
          "height": 297
        },
        "id": "i1n2bZagtRCa",
        "outputId": "7b343667-c910-428b-efde-9fccae9e1cfe"
      },
      "execution_count": null,
      "outputs": [
        {
          "output_type": "execute_result",
          "data": {
            "text/plain": [
              "       PassengerId      Pclass         Age       SibSp       Parch        Fare\n",
              "count   418.000000  418.000000  332.000000  418.000000  418.000000  417.000000\n",
              "mean   1100.500000    2.265550   30.272590    0.447368    0.392344   35.627188\n",
              "std     120.810458    0.841838   14.181209    0.896760    0.981429   55.907576\n",
              "min     892.000000    1.000000    0.170000    0.000000    0.000000    0.000000\n",
              "25%     996.250000    1.000000   21.000000    0.000000    0.000000    7.895800\n",
              "50%    1100.500000    3.000000   27.000000    0.000000    0.000000   14.454200\n",
              "75%    1204.750000    3.000000   39.000000    1.000000    0.000000   31.500000\n",
              "max    1309.000000    3.000000   76.000000    8.000000    9.000000  512.329200"
            ],
            "text/html": [
              "\n",
              "  <div id=\"df-0531a230-c996-41dc-8295-79daf6941259\">\n",
              "    <div class=\"colab-df-container\">\n",
              "      <div>\n",
              "<style scoped>\n",
              "    .dataframe tbody tr th:only-of-type {\n",
              "        vertical-align: middle;\n",
              "    }\n",
              "\n",
              "    .dataframe tbody tr th {\n",
              "        vertical-align: top;\n",
              "    }\n",
              "\n",
              "    .dataframe thead th {\n",
              "        text-align: right;\n",
              "    }\n",
              "</style>\n",
              "<table border=\"1\" class=\"dataframe\">\n",
              "  <thead>\n",
              "    <tr style=\"text-align: right;\">\n",
              "      <th></th>\n",
              "      <th>PassengerId</th>\n",
              "      <th>Pclass</th>\n",
              "      <th>Age</th>\n",
              "      <th>SibSp</th>\n",
              "      <th>Parch</th>\n",
              "      <th>Fare</th>\n",
              "    </tr>\n",
              "  </thead>\n",
              "  <tbody>\n",
              "    <tr>\n",
              "      <th>count</th>\n",
              "      <td>418.000000</td>\n",
              "      <td>418.000000</td>\n",
              "      <td>332.000000</td>\n",
              "      <td>418.000000</td>\n",
              "      <td>418.000000</td>\n",
              "      <td>417.000000</td>\n",
              "    </tr>\n",
              "    <tr>\n",
              "      <th>mean</th>\n",
              "      <td>1100.500000</td>\n",
              "      <td>2.265550</td>\n",
              "      <td>30.272590</td>\n",
              "      <td>0.447368</td>\n",
              "      <td>0.392344</td>\n",
              "      <td>35.627188</td>\n",
              "    </tr>\n",
              "    <tr>\n",
              "      <th>std</th>\n",
              "      <td>120.810458</td>\n",
              "      <td>0.841838</td>\n",
              "      <td>14.181209</td>\n",
              "      <td>0.896760</td>\n",
              "      <td>0.981429</td>\n",
              "      <td>55.907576</td>\n",
              "    </tr>\n",
              "    <tr>\n",
              "      <th>min</th>\n",
              "      <td>892.000000</td>\n",
              "      <td>1.000000</td>\n",
              "      <td>0.170000</td>\n",
              "      <td>0.000000</td>\n",
              "      <td>0.000000</td>\n",
              "      <td>0.000000</td>\n",
              "    </tr>\n",
              "    <tr>\n",
              "      <th>25%</th>\n",
              "      <td>996.250000</td>\n",
              "      <td>1.000000</td>\n",
              "      <td>21.000000</td>\n",
              "      <td>0.000000</td>\n",
              "      <td>0.000000</td>\n",
              "      <td>7.895800</td>\n",
              "    </tr>\n",
              "    <tr>\n",
              "      <th>50%</th>\n",
              "      <td>1100.500000</td>\n",
              "      <td>3.000000</td>\n",
              "      <td>27.000000</td>\n",
              "      <td>0.000000</td>\n",
              "      <td>0.000000</td>\n",
              "      <td>14.454200</td>\n",
              "    </tr>\n",
              "    <tr>\n",
              "      <th>75%</th>\n",
              "      <td>1204.750000</td>\n",
              "      <td>3.000000</td>\n",
              "      <td>39.000000</td>\n",
              "      <td>1.000000</td>\n",
              "      <td>0.000000</td>\n",
              "      <td>31.500000</td>\n",
              "    </tr>\n",
              "    <tr>\n",
              "      <th>max</th>\n",
              "      <td>1309.000000</td>\n",
              "      <td>3.000000</td>\n",
              "      <td>76.000000</td>\n",
              "      <td>8.000000</td>\n",
              "      <td>9.000000</td>\n",
              "      <td>512.329200</td>\n",
              "    </tr>\n",
              "  </tbody>\n",
              "</table>\n",
              "</div>\n",
              "      <button class=\"colab-df-convert\" onclick=\"convertToInteractive('df-0531a230-c996-41dc-8295-79daf6941259')\"\n",
              "              title=\"Convert this dataframe to an interactive table.\"\n",
              "              style=\"display:none;\">\n",
              "        \n",
              "  <svg xmlns=\"http://www.w3.org/2000/svg\" height=\"24px\"viewBox=\"0 0 24 24\"\n",
              "       width=\"24px\">\n",
              "    <path d=\"M0 0h24v24H0V0z\" fill=\"none\"/>\n",
              "    <path d=\"M18.56 5.44l.94 2.06.94-2.06 2.06-.94-2.06-.94-.94-2.06-.94 2.06-2.06.94zm-11 1L8.5 8.5l.94-2.06 2.06-.94-2.06-.94L8.5 2.5l-.94 2.06-2.06.94zm10 10l.94 2.06.94-2.06 2.06-.94-2.06-.94-.94-2.06-.94 2.06-2.06.94z\"/><path d=\"M17.41 7.96l-1.37-1.37c-.4-.4-.92-.59-1.43-.59-.52 0-1.04.2-1.43.59L10.3 9.45l-7.72 7.72c-.78.78-.78 2.05 0 2.83L4 21.41c.39.39.9.59 1.41.59.51 0 1.02-.2 1.41-.59l7.78-7.78 2.81-2.81c.8-.78.8-2.07 0-2.86zM5.41 20L4 18.59l7.72-7.72 1.47 1.35L5.41 20z\"/>\n",
              "  </svg>\n",
              "      </button>\n",
              "      \n",
              "  <style>\n",
              "    .colab-df-container {\n",
              "      display:flex;\n",
              "      flex-wrap:wrap;\n",
              "      gap: 12px;\n",
              "    }\n",
              "\n",
              "    .colab-df-convert {\n",
              "      background-color: #E8F0FE;\n",
              "      border: none;\n",
              "      border-radius: 50%;\n",
              "      cursor: pointer;\n",
              "      display: none;\n",
              "      fill: #1967D2;\n",
              "      height: 32px;\n",
              "      padding: 0 0 0 0;\n",
              "      width: 32px;\n",
              "    }\n",
              "\n",
              "    .colab-df-convert:hover {\n",
              "      background-color: #E2EBFA;\n",
              "      box-shadow: 0px 1px 2px rgba(60, 64, 67, 0.3), 0px 1px 3px 1px rgba(60, 64, 67, 0.15);\n",
              "      fill: #174EA6;\n",
              "    }\n",
              "\n",
              "    [theme=dark] .colab-df-convert {\n",
              "      background-color: #3B4455;\n",
              "      fill: #D2E3FC;\n",
              "    }\n",
              "\n",
              "    [theme=dark] .colab-df-convert:hover {\n",
              "      background-color: #434B5C;\n",
              "      box-shadow: 0px 1px 3px 1px rgba(0, 0, 0, 0.15);\n",
              "      filter: drop-shadow(0px 1px 2px rgba(0, 0, 0, 0.3));\n",
              "      fill: #FFFFFF;\n",
              "    }\n",
              "  </style>\n",
              "\n",
              "      <script>\n",
              "        const buttonEl =\n",
              "          document.querySelector('#df-0531a230-c996-41dc-8295-79daf6941259 button.colab-df-convert');\n",
              "        buttonEl.style.display =\n",
              "          google.colab.kernel.accessAllowed ? 'block' : 'none';\n",
              "\n",
              "        async function convertToInteractive(key) {\n",
              "          const element = document.querySelector('#df-0531a230-c996-41dc-8295-79daf6941259');\n",
              "          const dataTable =\n",
              "            await google.colab.kernel.invokeFunction('convertToInteractive',\n",
              "                                                     [key], {});\n",
              "          if (!dataTable) return;\n",
              "\n",
              "          const docLinkHtml = 'Like what you see? Visit the ' +\n",
              "            '<a target=\"_blank\" href=https://colab.research.google.com/notebooks/data_table.ipynb>data table notebook</a>'\n",
              "            + ' to learn more about interactive tables.';\n",
              "          element.innerHTML = '';\n",
              "          dataTable['output_type'] = 'display_data';\n",
              "          await google.colab.output.renderOutput(dataTable, element);\n",
              "          const docLink = document.createElement('div');\n",
              "          docLink.innerHTML = docLinkHtml;\n",
              "          element.appendChild(docLink);\n",
              "        }\n",
              "      </script>\n",
              "    </div>\n",
              "  </div>\n",
              "  "
            ]
          },
          "metadata": {},
          "execution_count": 83
        }
      ]
    },
    {
      "cell_type": "code",
      "source": [
        "# Show test data information\n",
        "test_data.info()"
      ],
      "metadata": {
        "colab": {
          "base_uri": "https://localhost:8080/"
        },
        "id": "cjBDKZVdtTpd",
        "outputId": "c0414193-fc04-4c4c-a11a-95d625c6deb4"
      },
      "execution_count": null,
      "outputs": [
        {
          "output_type": "stream",
          "name": "stdout",
          "text": [
            "<class 'pandas.core.frame.DataFrame'>\n",
            "RangeIndex: 418 entries, 0 to 417\n",
            "Data columns (total 11 columns):\n",
            " #   Column       Non-Null Count  Dtype  \n",
            "---  ------       --------------  -----  \n",
            " 0   PassengerId  418 non-null    int64  \n",
            " 1   Pclass       418 non-null    int64  \n",
            " 2   Name         418 non-null    object \n",
            " 3   Sex          418 non-null    object \n",
            " 4   Age          332 non-null    float64\n",
            " 5   SibSp        418 non-null    int64  \n",
            " 6   Parch        418 non-null    int64  \n",
            " 7   Ticket       418 non-null    object \n",
            " 8   Fare         417 non-null    float64\n",
            " 9   Cabin        91 non-null     object \n",
            " 10  Embarked     418 non-null    object \n",
            "dtypes: float64(2), int64(4), object(5)\n",
            "memory usage: 36.0+ KB\n"
          ]
        }
      ]
    },
    {
      "cell_type": "code",
      "source": [
        "# Delete selected instances from train data\n",
        "train_data_df = train_data.drop(train_indices_to_delete)"
      ],
      "metadata": {
        "id": "IxjJ25lNx1e8"
      },
      "execution_count": null,
      "outputs": []
    },
    {
      "cell_type": "code",
      "source": [
        "# Store original test data into a different dataframe to perform preprocessing\n",
        "test_data_df = test_data"
      ],
      "metadata": {
        "id": "fO31cHCobka8"
      },
      "execution_count": null,
      "outputs": []
    },
    {
      "cell_type": "code",
      "source": [
        "# Deal with missing values using Expectation Maximization\n",
        "from sklearn.experimental import enable_iterative_imputer\n",
        "from sklearn.impute import IterativeImputer\n",
        "# Create an IterativeImputer object to handle missing values\n",
        "imputerAge = IterativeImputer()\n",
        "imputerFare = IterativeImputer()\n",
        "\n",
        "# Fit the imputer on the \"age\" column\n",
        "age = imputerAge.fit_transform(test_data_df[['Age']])\n",
        "test_data_df[['Age']] = np.round(age,2)\n",
        "\n",
        "# Fit the imputer on the \"fare\" column\n",
        "fare = imputerFare.fit_transform(test_data_df[['Fare']])\n",
        "test_data_df[['Fare']] = fare"
      ],
      "metadata": {
        "id": "rD_Alup2fNEf"
      },
      "execution_count": null,
      "outputs": []
    },
    {
      "cell_type": "code",
      "source": [
        "test_data_df.info()"
      ],
      "metadata": {
        "colab": {
          "base_uri": "https://localhost:8080/"
        },
        "id": "AfWuJKGafm9s",
        "outputId": "e486ae30-4e4b-4249-8969-9fa2b8600898"
      },
      "execution_count": null,
      "outputs": [
        {
          "output_type": "stream",
          "name": "stdout",
          "text": [
            "<class 'pandas.core.frame.DataFrame'>\n",
            "RangeIndex: 418 entries, 0 to 417\n",
            "Data columns (total 11 columns):\n",
            " #   Column       Non-Null Count  Dtype  \n",
            "---  ------       --------------  -----  \n",
            " 0   PassengerId  418 non-null    int64  \n",
            " 1   Pclass       418 non-null    int64  \n",
            " 2   Name         418 non-null    object \n",
            " 3   Sex          418 non-null    object \n",
            " 4   Age          418 non-null    float64\n",
            " 5   SibSp        418 non-null    int64  \n",
            " 6   Parch        418 non-null    int64  \n",
            " 7   Ticket       418 non-null    object \n",
            " 8   Fare         418 non-null    float64\n",
            " 9   Cabin        91 non-null     object \n",
            " 10  Embarked     418 non-null    object \n",
            "dtypes: float64(2), int64(4), object(5)\n",
            "memory usage: 36.0+ KB\n"
          ]
        }
      ]
    },
    {
      "cell_type": "code",
      "source": [
        "# Retrieve social titles from training data feature \"Name\"\n",
        "titles = set()\n",
        "for name in train_data_df['Name']:\n",
        "    titles.add(name.split(',')[1].split('.')[0].strip())\n",
        "print(titles)"
      ],
      "metadata": {
        "colab": {
          "base_uri": "https://localhost:8080/"
        },
        "id": "SGGiBxy48tDy",
        "outputId": "cfd4bfe0-aaf7-4287-8f55-08c4d7a8a0a3"
      },
      "execution_count": null,
      "outputs": [
        {
          "output_type": "stream",
          "name": "stdout",
          "text": [
            "{'Col', 'Mr', 'Jonkheer', 'Don', 'Miss', 'Dr', 'the Countess', 'Mrs', 'Lady', 'Mlle', 'Capt', 'Master', 'Ms', 'Major', 'Rev', 'Sir', 'Mme'}\n"
          ]
        }
      ]
    },
    {
      "cell_type": "code",
      "source": [
        "# Define dictionary to map title values\n",
        "title_dictionary = {\"Capt\": \"Officer\",\n",
        "                    \"Col\": \"Officer\",\n",
        "                    \"Major\": \"Officer\",\n",
        "                    \"Jonkheer\": \"Royalty\",\n",
        "                    \"Don\": \"Royalty\",\n",
        "                    \"Sir\" : \"Royalty\",\n",
        "                    \"Dr\": \"Officer\",\n",
        "                    \"Rev\": \"Officer\",\n",
        "                    \"the Countess\":\"Royalty\",\n",
        "                    \"Mme\": \"Mrs\",\n",
        "                    \"Mlle\": \"Miss\",\n",
        "                    \"Ms\": \"Mrs\",\n",
        "                    \"Mr\" : \"Mr\",\n",
        "                    \"Mrs\" : \"Mrs\",\n",
        "                    \"Miss\" : \"Miss\",\n",
        "                    \"Master\" : \"Master\",\n",
        "                    \"Lady\" : \"Royalty\"}"
      ],
      "metadata": {
        "id": "eTU0PZGp9mwr"
      },
      "execution_count": null,
      "outputs": []
    },
    {
      "cell_type": "code",
      "source": [
        "# Map title values retrieved from both tran and test data to title_dictionary\n",
        "train_data_df['Title'] = train_data_df['Name'].map(lambda name:name.split(',')[1].split('.')[0].strip())\n",
        "test_data_df['Title'] = test_data_df['Name'].map(lambda name:name.split(',')[1].split('.')[0].strip())\n",
        "train_data_df['Title'] = train_data_df.Title.map(title_dictionary)\n",
        "test_data_df['Title'] = test_data_df.Title.map(title_dictionary)\n",
        "train_data_df.head()"
      ],
      "metadata": {
        "colab": {
          "base_uri": "https://localhost:8080/",
          "height": 316
        },
        "id": "wsUqG7lz92l9",
        "outputId": "2336e55c-fe95-4cee-e014-ca067623c7da"
      },
      "execution_count": null,
      "outputs": [
        {
          "output_type": "execute_result",
          "data": {
            "text/plain": [
              "   PassengerId  Survived  Pclass  \\\n",
              "0            1         0       3   \n",
              "1            2         1       1   \n",
              "2            3         1       3   \n",
              "3            4         1       1   \n",
              "4            5         0       3   \n",
              "\n",
              "                                                Name     Sex   Age  SibSp  \\\n",
              "0                            Braund, Mr. Owen Harris    male  22.0      1   \n",
              "1  Cumings, Mrs. John Bradley (Florence Briggs Th...  female  38.0      1   \n",
              "2                             Heikkinen, Miss. Laina  female  26.0      0   \n",
              "3       Futrelle, Mrs. Jacques Heath (Lily May Peel)  female  35.0      1   \n",
              "4                           Allen, Mr. William Henry    male  35.0      0   \n",
              "\n",
              "   Parch            Ticket     Fare Cabin Embarked Title  \n",
              "0      0         A/5 21171   7.2500   NaN        S    Mr  \n",
              "1      0          PC 17599  71.2833   C85        C   Mrs  \n",
              "2      0  STON/O2. 3101282   7.9250   NaN        S  Miss  \n",
              "3      0            113803  53.1000  C123        S   Mrs  \n",
              "4      0            373450   8.0500   NaN        S    Mr  "
            ],
            "text/html": [
              "\n",
              "  <div id=\"df-3840145e-fee2-4bae-8536-3edc9b67ce48\">\n",
              "    <div class=\"colab-df-container\">\n",
              "      <div>\n",
              "<style scoped>\n",
              "    .dataframe tbody tr th:only-of-type {\n",
              "        vertical-align: middle;\n",
              "    }\n",
              "\n",
              "    .dataframe tbody tr th {\n",
              "        vertical-align: top;\n",
              "    }\n",
              "\n",
              "    .dataframe thead th {\n",
              "        text-align: right;\n",
              "    }\n",
              "</style>\n",
              "<table border=\"1\" class=\"dataframe\">\n",
              "  <thead>\n",
              "    <tr style=\"text-align: right;\">\n",
              "      <th></th>\n",
              "      <th>PassengerId</th>\n",
              "      <th>Survived</th>\n",
              "      <th>Pclass</th>\n",
              "      <th>Name</th>\n",
              "      <th>Sex</th>\n",
              "      <th>Age</th>\n",
              "      <th>SibSp</th>\n",
              "      <th>Parch</th>\n",
              "      <th>Ticket</th>\n",
              "      <th>Fare</th>\n",
              "      <th>Cabin</th>\n",
              "      <th>Embarked</th>\n",
              "      <th>Title</th>\n",
              "    </tr>\n",
              "  </thead>\n",
              "  <tbody>\n",
              "    <tr>\n",
              "      <th>0</th>\n",
              "      <td>1</td>\n",
              "      <td>0</td>\n",
              "      <td>3</td>\n",
              "      <td>Braund, Mr. Owen Harris</td>\n",
              "      <td>male</td>\n",
              "      <td>22.0</td>\n",
              "      <td>1</td>\n",
              "      <td>0</td>\n",
              "      <td>A/5 21171</td>\n",
              "      <td>7.2500</td>\n",
              "      <td>NaN</td>\n",
              "      <td>S</td>\n",
              "      <td>Mr</td>\n",
              "    </tr>\n",
              "    <tr>\n",
              "      <th>1</th>\n",
              "      <td>2</td>\n",
              "      <td>1</td>\n",
              "      <td>1</td>\n",
              "      <td>Cumings, Mrs. John Bradley (Florence Briggs Th...</td>\n",
              "      <td>female</td>\n",
              "      <td>38.0</td>\n",
              "      <td>1</td>\n",
              "      <td>0</td>\n",
              "      <td>PC 17599</td>\n",
              "      <td>71.2833</td>\n",
              "      <td>C85</td>\n",
              "      <td>C</td>\n",
              "      <td>Mrs</td>\n",
              "    </tr>\n",
              "    <tr>\n",
              "      <th>2</th>\n",
              "      <td>3</td>\n",
              "      <td>1</td>\n",
              "      <td>3</td>\n",
              "      <td>Heikkinen, Miss. Laina</td>\n",
              "      <td>female</td>\n",
              "      <td>26.0</td>\n",
              "      <td>0</td>\n",
              "      <td>0</td>\n",
              "      <td>STON/O2. 3101282</td>\n",
              "      <td>7.9250</td>\n",
              "      <td>NaN</td>\n",
              "      <td>S</td>\n",
              "      <td>Miss</td>\n",
              "    </tr>\n",
              "    <tr>\n",
              "      <th>3</th>\n",
              "      <td>4</td>\n",
              "      <td>1</td>\n",
              "      <td>1</td>\n",
              "      <td>Futrelle, Mrs. Jacques Heath (Lily May Peel)</td>\n",
              "      <td>female</td>\n",
              "      <td>35.0</td>\n",
              "      <td>1</td>\n",
              "      <td>0</td>\n",
              "      <td>113803</td>\n",
              "      <td>53.1000</td>\n",
              "      <td>C123</td>\n",
              "      <td>S</td>\n",
              "      <td>Mrs</td>\n",
              "    </tr>\n",
              "    <tr>\n",
              "      <th>4</th>\n",
              "      <td>5</td>\n",
              "      <td>0</td>\n",
              "      <td>3</td>\n",
              "      <td>Allen, Mr. William Henry</td>\n",
              "      <td>male</td>\n",
              "      <td>35.0</td>\n",
              "      <td>0</td>\n",
              "      <td>0</td>\n",
              "      <td>373450</td>\n",
              "      <td>8.0500</td>\n",
              "      <td>NaN</td>\n",
              "      <td>S</td>\n",
              "      <td>Mr</td>\n",
              "    </tr>\n",
              "  </tbody>\n",
              "</table>\n",
              "</div>\n",
              "      <button class=\"colab-df-convert\" onclick=\"convertToInteractive('df-3840145e-fee2-4bae-8536-3edc9b67ce48')\"\n",
              "              title=\"Convert this dataframe to an interactive table.\"\n",
              "              style=\"display:none;\">\n",
              "        \n",
              "  <svg xmlns=\"http://www.w3.org/2000/svg\" height=\"24px\"viewBox=\"0 0 24 24\"\n",
              "       width=\"24px\">\n",
              "    <path d=\"M0 0h24v24H0V0z\" fill=\"none\"/>\n",
              "    <path d=\"M18.56 5.44l.94 2.06.94-2.06 2.06-.94-2.06-.94-.94-2.06-.94 2.06-2.06.94zm-11 1L8.5 8.5l.94-2.06 2.06-.94-2.06-.94L8.5 2.5l-.94 2.06-2.06.94zm10 10l.94 2.06.94-2.06 2.06-.94-2.06-.94-.94-2.06-.94 2.06-2.06.94z\"/><path d=\"M17.41 7.96l-1.37-1.37c-.4-.4-.92-.59-1.43-.59-.52 0-1.04.2-1.43.59L10.3 9.45l-7.72 7.72c-.78.78-.78 2.05 0 2.83L4 21.41c.39.39.9.59 1.41.59.51 0 1.02-.2 1.41-.59l7.78-7.78 2.81-2.81c.8-.78.8-2.07 0-2.86zM5.41 20L4 18.59l7.72-7.72 1.47 1.35L5.41 20z\"/>\n",
              "  </svg>\n",
              "      </button>\n",
              "      \n",
              "  <style>\n",
              "    .colab-df-container {\n",
              "      display:flex;\n",
              "      flex-wrap:wrap;\n",
              "      gap: 12px;\n",
              "    }\n",
              "\n",
              "    .colab-df-convert {\n",
              "      background-color: #E8F0FE;\n",
              "      border: none;\n",
              "      border-radius: 50%;\n",
              "      cursor: pointer;\n",
              "      display: none;\n",
              "      fill: #1967D2;\n",
              "      height: 32px;\n",
              "      padding: 0 0 0 0;\n",
              "      width: 32px;\n",
              "    }\n",
              "\n",
              "    .colab-df-convert:hover {\n",
              "      background-color: #E2EBFA;\n",
              "      box-shadow: 0px 1px 2px rgba(60, 64, 67, 0.3), 0px 1px 3px 1px rgba(60, 64, 67, 0.15);\n",
              "      fill: #174EA6;\n",
              "    }\n",
              "\n",
              "    [theme=dark] .colab-df-convert {\n",
              "      background-color: #3B4455;\n",
              "      fill: #D2E3FC;\n",
              "    }\n",
              "\n",
              "    [theme=dark] .colab-df-convert:hover {\n",
              "      background-color: #434B5C;\n",
              "      box-shadow: 0px 1px 3px 1px rgba(0, 0, 0, 0.15);\n",
              "      filter: drop-shadow(0px 1px 2px rgba(0, 0, 0, 0.3));\n",
              "      fill: #FFFFFF;\n",
              "    }\n",
              "  </style>\n",
              "\n",
              "      <script>\n",
              "        const buttonEl =\n",
              "          document.querySelector('#df-3840145e-fee2-4bae-8536-3edc9b67ce48 button.colab-df-convert');\n",
              "        buttonEl.style.display =\n",
              "          google.colab.kernel.accessAllowed ? 'block' : 'none';\n",
              "\n",
              "        async function convertToInteractive(key) {\n",
              "          const element = document.querySelector('#df-3840145e-fee2-4bae-8536-3edc9b67ce48');\n",
              "          const dataTable =\n",
              "            await google.colab.kernel.invokeFunction('convertToInteractive',\n",
              "                                                     [key], {});\n",
              "          if (!dataTable) return;\n",
              "\n",
              "          const docLinkHtml = 'Like what you see? Visit the ' +\n",
              "            '<a target=\"_blank\" href=https://colab.research.google.com/notebooks/data_table.ipynb>data table notebook</a>'\n",
              "            + ' to learn more about interactive tables.';\n",
              "          element.innerHTML = '';\n",
              "          dataTable['output_type'] = 'display_data';\n",
              "          await google.colab.output.renderOutput(dataTable, element);\n",
              "          const docLink = document.createElement('div');\n",
              "          docLink.innerHTML = docLinkHtml;\n",
              "          element.appendChild(docLink);\n",
              "        }\n",
              "      </script>\n",
              "    </div>\n",
              "  </div>\n",
              "  "
            ]
          },
          "metadata": {},
          "execution_count": 91
        }
      ]
    },
    {
      "cell_type": "code",
      "source": [
        "# Drop undesired features from train and test dataframes\n",
        "train_data_df = train_data_df.drop([\"Cabin\", \"Ticket\", \"Name\"], axis=1)\n",
        "test_data_df = test_data_df.drop([\"Cabin\", \"Ticket\", \"Name\"], axis=1)"
      ],
      "metadata": {
        "id": "oW6OEw6V1TaK"
      },
      "execution_count": null,
      "outputs": []
    },
    {
      "cell_type": "markdown",
      "source": [
        "Once we have our data sets (in form of dataframes) we proceed to analyse the structure and type of variables that we have, to change data types or to arrange values."
      ],
      "metadata": {
        "id": "h1z8ATxnyo1t"
      }
    },
    {
      "cell_type": "code",
      "source": [
        "# Encode categorical variables into numerical ones\n",
        "train_data_df.Sex=train_data_df.Sex.map({'female':0, 'male':1})\n",
        "train_data_df.Embarked=train_data_df.Embarked.map({'S':0, 'C':1, 'Q':2})\n",
        "train_data_df.Title=train_data_df.Title.map({'Mr':0, 'Miss':1, 'Mrs':2,'Master':3,'Officer':4,'Royalty':5})\n",
        "\n",
        "test_data_df.Sex=test_data_df.Sex.map({'female':0, 'male':1})\n",
        "test_data_df.Embarked=test_data_df.Embarked.map({'S':0, 'C':1, 'Q':2})\n",
        "test_data_df.Title = test_data_df.Title.map({'Mr':0, 'Miss':1, 'Mrs':2,'Master':3,'Officer':4,'Royalty':5})"
      ],
      "metadata": {
        "id": "Td_5FB6G_LtM"
      },
      "execution_count": null,
      "outputs": []
    },
    {
      "cell_type": "code",
      "source": [
        "# Look for the instance with a NaN value in \"title\"\n",
        "test_data_df[test_data_df.Title.isnull()]"
      ],
      "metadata": {
        "colab": {
          "base_uri": "https://localhost:8080/",
          "height": 80
        },
        "id": "p7lC6DOma_9J",
        "outputId": "00bb4980-8a87-46e1-9016-8c1bdd31df1f"
      },
      "execution_count": null,
      "outputs": [
        {
          "output_type": "execute_result",
          "data": {
            "text/plain": [
              "     PassengerId  Pclass  Sex   Age  SibSp  Parch   Fare  Embarked  Title\n",
              "414         1306       1    0  39.0      0      0  108.9         1    NaN"
            ],
            "text/html": [
              "\n",
              "  <div id=\"df-b0273156-528f-4ea0-be61-513e94c6e5da\">\n",
              "    <div class=\"colab-df-container\">\n",
              "      <div>\n",
              "<style scoped>\n",
              "    .dataframe tbody tr th:only-of-type {\n",
              "        vertical-align: middle;\n",
              "    }\n",
              "\n",
              "    .dataframe tbody tr th {\n",
              "        vertical-align: top;\n",
              "    }\n",
              "\n",
              "    .dataframe thead th {\n",
              "        text-align: right;\n",
              "    }\n",
              "</style>\n",
              "<table border=\"1\" class=\"dataframe\">\n",
              "  <thead>\n",
              "    <tr style=\"text-align: right;\">\n",
              "      <th></th>\n",
              "      <th>PassengerId</th>\n",
              "      <th>Pclass</th>\n",
              "      <th>Sex</th>\n",
              "      <th>Age</th>\n",
              "      <th>SibSp</th>\n",
              "      <th>Parch</th>\n",
              "      <th>Fare</th>\n",
              "      <th>Embarked</th>\n",
              "      <th>Title</th>\n",
              "    </tr>\n",
              "  </thead>\n",
              "  <tbody>\n",
              "    <tr>\n",
              "      <th>414</th>\n",
              "      <td>1306</td>\n",
              "      <td>1</td>\n",
              "      <td>0</td>\n",
              "      <td>39.0</td>\n",
              "      <td>0</td>\n",
              "      <td>0</td>\n",
              "      <td>108.9</td>\n",
              "      <td>1</td>\n",
              "      <td>NaN</td>\n",
              "    </tr>\n",
              "  </tbody>\n",
              "</table>\n",
              "</div>\n",
              "      <button class=\"colab-df-convert\" onclick=\"convertToInteractive('df-b0273156-528f-4ea0-be61-513e94c6e5da')\"\n",
              "              title=\"Convert this dataframe to an interactive table.\"\n",
              "              style=\"display:none;\">\n",
              "        \n",
              "  <svg xmlns=\"http://www.w3.org/2000/svg\" height=\"24px\"viewBox=\"0 0 24 24\"\n",
              "       width=\"24px\">\n",
              "    <path d=\"M0 0h24v24H0V0z\" fill=\"none\"/>\n",
              "    <path d=\"M18.56 5.44l.94 2.06.94-2.06 2.06-.94-2.06-.94-.94-2.06-.94 2.06-2.06.94zm-11 1L8.5 8.5l.94-2.06 2.06-.94-2.06-.94L8.5 2.5l-.94 2.06-2.06.94zm10 10l.94 2.06.94-2.06 2.06-.94-2.06-.94-.94-2.06-.94 2.06-2.06.94z\"/><path d=\"M17.41 7.96l-1.37-1.37c-.4-.4-.92-.59-1.43-.59-.52 0-1.04.2-1.43.59L10.3 9.45l-7.72 7.72c-.78.78-.78 2.05 0 2.83L4 21.41c.39.39.9.59 1.41.59.51 0 1.02-.2 1.41-.59l7.78-7.78 2.81-2.81c.8-.78.8-2.07 0-2.86zM5.41 20L4 18.59l7.72-7.72 1.47 1.35L5.41 20z\"/>\n",
              "  </svg>\n",
              "      </button>\n",
              "      \n",
              "  <style>\n",
              "    .colab-df-container {\n",
              "      display:flex;\n",
              "      flex-wrap:wrap;\n",
              "      gap: 12px;\n",
              "    }\n",
              "\n",
              "    .colab-df-convert {\n",
              "      background-color: #E8F0FE;\n",
              "      border: none;\n",
              "      border-radius: 50%;\n",
              "      cursor: pointer;\n",
              "      display: none;\n",
              "      fill: #1967D2;\n",
              "      height: 32px;\n",
              "      padding: 0 0 0 0;\n",
              "      width: 32px;\n",
              "    }\n",
              "\n",
              "    .colab-df-convert:hover {\n",
              "      background-color: #E2EBFA;\n",
              "      box-shadow: 0px 1px 2px rgba(60, 64, 67, 0.3), 0px 1px 3px 1px rgba(60, 64, 67, 0.15);\n",
              "      fill: #174EA6;\n",
              "    }\n",
              "\n",
              "    [theme=dark] .colab-df-convert {\n",
              "      background-color: #3B4455;\n",
              "      fill: #D2E3FC;\n",
              "    }\n",
              "\n",
              "    [theme=dark] .colab-df-convert:hover {\n",
              "      background-color: #434B5C;\n",
              "      box-shadow: 0px 1px 3px 1px rgba(0, 0, 0, 0.15);\n",
              "      filter: drop-shadow(0px 1px 2px rgba(0, 0, 0, 0.3));\n",
              "      fill: #FFFFFF;\n",
              "    }\n",
              "  </style>\n",
              "\n",
              "      <script>\n",
              "        const buttonEl =\n",
              "          document.querySelector('#df-b0273156-528f-4ea0-be61-513e94c6e5da button.colab-df-convert');\n",
              "        buttonEl.style.display =\n",
              "          google.colab.kernel.accessAllowed ? 'block' : 'none';\n",
              "\n",
              "        async function convertToInteractive(key) {\n",
              "          const element = document.querySelector('#df-b0273156-528f-4ea0-be61-513e94c6e5da');\n",
              "          const dataTable =\n",
              "            await google.colab.kernel.invokeFunction('convertToInteractive',\n",
              "                                                     [key], {});\n",
              "          if (!dataTable) return;\n",
              "\n",
              "          const docLinkHtml = 'Like what you see? Visit the ' +\n",
              "            '<a target=\"_blank\" href=https://colab.research.google.com/notebooks/data_table.ipynb>data table notebook</a>'\n",
              "            + ' to learn more about interactive tables.';\n",
              "          element.innerHTML = '';\n",
              "          dataTable['output_type'] = 'display_data';\n",
              "          await google.colab.output.renderOutput(dataTable, element);\n",
              "          const docLink = document.createElement('div');\n",
              "          docLink.innerHTML = docLinkHtml;\n",
              "          element.appendChild(docLink);\n",
              "        }\n",
              "      </script>\n",
              "    </div>\n",
              "  </div>\n",
              "  "
            ]
          },
          "metadata": {},
          "execution_count": 94
        }
      ]
    },
    {
      "cell_type": "code",
      "source": [
        "# Fill missing 'Title' value\n",
        "test_data_df=test_data_df.fillna(2)"
      ],
      "metadata": {
        "id": "0HqbwmCndqOd"
      },
      "execution_count": null,
      "outputs": []
    },
    {
      "cell_type": "code",
      "source": [
        "# Perform min-max scaling\n",
        "train_data_df.Age = (train_data_df.Age-min(train_data_df.Age))/(max(train_data_df.Age)-min(train_data_df.Age))\n",
        "train_data_df.Fare = (train_data_df.Fare-min(train_data_df.Fare))/(max(train_data_df.Fare)-min(train_data_df.Fare))\n",
        "\n",
        "test_data_df.Age = (test_data_df.Age-min(test_data_df.Age))/(max(test_data_df.Age)-min(test_data_df.Age))\n",
        "test_data_df.Fare = (test_data_df.Fare-min(test_data_df.Fare))/(max(test_data_df.Fare)-min(test_data_df.Fare))"
      ],
      "metadata": {
        "id": "YhY8aqL-Iv9K"
      },
      "execution_count": null,
      "outputs": []
    },
    {
      "cell_type": "code",
      "source": [
        "# Show first 5 rows of train data\n",
        "train_data_df.head()"
      ],
      "metadata": {
        "colab": {
          "base_uri": "https://localhost:8080/",
          "height": 204
        },
        "id": "O-2h9xl1Et4_",
        "outputId": "52cc8ee0-523f-4dd2-c942-af2e407320ed"
      },
      "execution_count": null,
      "outputs": [
        {
          "output_type": "execute_result",
          "data": {
            "text/plain": [
              "   PassengerId  Survived  Pclass  Sex       Age  SibSp  Parch      Fare  \\\n",
              "0            1         0       3    1  0.271174      1      0  0.014151   \n",
              "1            2         1       1    0  0.472229      1      0  0.139136   \n",
              "2            3         1       3    0  0.321438      0      0  0.015469   \n",
              "3            4         1       1    0  0.434531      1      0  0.103644   \n",
              "4            5         0       3    1  0.434531      0      0  0.015713   \n",
              "\n",
              "   Embarked  Title  \n",
              "0         0      0  \n",
              "1         1      2  \n",
              "2         0      1  \n",
              "3         0      2  \n",
              "4         0      0  "
            ],
            "text/html": [
              "\n",
              "  <div id=\"df-0e0487c3-8755-4896-8571-328327d7ef59\">\n",
              "    <div class=\"colab-df-container\">\n",
              "      <div>\n",
              "<style scoped>\n",
              "    .dataframe tbody tr th:only-of-type {\n",
              "        vertical-align: middle;\n",
              "    }\n",
              "\n",
              "    .dataframe tbody tr th {\n",
              "        vertical-align: top;\n",
              "    }\n",
              "\n",
              "    .dataframe thead th {\n",
              "        text-align: right;\n",
              "    }\n",
              "</style>\n",
              "<table border=\"1\" class=\"dataframe\">\n",
              "  <thead>\n",
              "    <tr style=\"text-align: right;\">\n",
              "      <th></th>\n",
              "      <th>PassengerId</th>\n",
              "      <th>Survived</th>\n",
              "      <th>Pclass</th>\n",
              "      <th>Sex</th>\n",
              "      <th>Age</th>\n",
              "      <th>SibSp</th>\n",
              "      <th>Parch</th>\n",
              "      <th>Fare</th>\n",
              "      <th>Embarked</th>\n",
              "      <th>Title</th>\n",
              "    </tr>\n",
              "  </thead>\n",
              "  <tbody>\n",
              "    <tr>\n",
              "      <th>0</th>\n",
              "      <td>1</td>\n",
              "      <td>0</td>\n",
              "      <td>3</td>\n",
              "      <td>1</td>\n",
              "      <td>0.271174</td>\n",
              "      <td>1</td>\n",
              "      <td>0</td>\n",
              "      <td>0.014151</td>\n",
              "      <td>0</td>\n",
              "      <td>0</td>\n",
              "    </tr>\n",
              "    <tr>\n",
              "      <th>1</th>\n",
              "      <td>2</td>\n",
              "      <td>1</td>\n",
              "      <td>1</td>\n",
              "      <td>0</td>\n",
              "      <td>0.472229</td>\n",
              "      <td>1</td>\n",
              "      <td>0</td>\n",
              "      <td>0.139136</td>\n",
              "      <td>1</td>\n",
              "      <td>2</td>\n",
              "    </tr>\n",
              "    <tr>\n",
              "      <th>2</th>\n",
              "      <td>3</td>\n",
              "      <td>1</td>\n",
              "      <td>3</td>\n",
              "      <td>0</td>\n",
              "      <td>0.321438</td>\n",
              "      <td>0</td>\n",
              "      <td>0</td>\n",
              "      <td>0.015469</td>\n",
              "      <td>0</td>\n",
              "      <td>1</td>\n",
              "    </tr>\n",
              "    <tr>\n",
              "      <th>3</th>\n",
              "      <td>4</td>\n",
              "      <td>1</td>\n",
              "      <td>1</td>\n",
              "      <td>0</td>\n",
              "      <td>0.434531</td>\n",
              "      <td>1</td>\n",
              "      <td>0</td>\n",
              "      <td>0.103644</td>\n",
              "      <td>0</td>\n",
              "      <td>2</td>\n",
              "    </tr>\n",
              "    <tr>\n",
              "      <th>4</th>\n",
              "      <td>5</td>\n",
              "      <td>0</td>\n",
              "      <td>3</td>\n",
              "      <td>1</td>\n",
              "      <td>0.434531</td>\n",
              "      <td>0</td>\n",
              "      <td>0</td>\n",
              "      <td>0.015713</td>\n",
              "      <td>0</td>\n",
              "      <td>0</td>\n",
              "    </tr>\n",
              "  </tbody>\n",
              "</table>\n",
              "</div>\n",
              "      <button class=\"colab-df-convert\" onclick=\"convertToInteractive('df-0e0487c3-8755-4896-8571-328327d7ef59')\"\n",
              "              title=\"Convert this dataframe to an interactive table.\"\n",
              "              style=\"display:none;\">\n",
              "        \n",
              "  <svg xmlns=\"http://www.w3.org/2000/svg\" height=\"24px\"viewBox=\"0 0 24 24\"\n",
              "       width=\"24px\">\n",
              "    <path d=\"M0 0h24v24H0V0z\" fill=\"none\"/>\n",
              "    <path d=\"M18.56 5.44l.94 2.06.94-2.06 2.06-.94-2.06-.94-.94-2.06-.94 2.06-2.06.94zm-11 1L8.5 8.5l.94-2.06 2.06-.94-2.06-.94L8.5 2.5l-.94 2.06-2.06.94zm10 10l.94 2.06.94-2.06 2.06-.94-2.06-.94-.94-2.06-.94 2.06-2.06.94z\"/><path d=\"M17.41 7.96l-1.37-1.37c-.4-.4-.92-.59-1.43-.59-.52 0-1.04.2-1.43.59L10.3 9.45l-7.72 7.72c-.78.78-.78 2.05 0 2.83L4 21.41c.39.39.9.59 1.41.59.51 0 1.02-.2 1.41-.59l7.78-7.78 2.81-2.81c.8-.78.8-2.07 0-2.86zM5.41 20L4 18.59l7.72-7.72 1.47 1.35L5.41 20z\"/>\n",
              "  </svg>\n",
              "      </button>\n",
              "      \n",
              "  <style>\n",
              "    .colab-df-container {\n",
              "      display:flex;\n",
              "      flex-wrap:wrap;\n",
              "      gap: 12px;\n",
              "    }\n",
              "\n",
              "    .colab-df-convert {\n",
              "      background-color: #E8F0FE;\n",
              "      border: none;\n",
              "      border-radius: 50%;\n",
              "      cursor: pointer;\n",
              "      display: none;\n",
              "      fill: #1967D2;\n",
              "      height: 32px;\n",
              "      padding: 0 0 0 0;\n",
              "      width: 32px;\n",
              "    }\n",
              "\n",
              "    .colab-df-convert:hover {\n",
              "      background-color: #E2EBFA;\n",
              "      box-shadow: 0px 1px 2px rgba(60, 64, 67, 0.3), 0px 1px 3px 1px rgba(60, 64, 67, 0.15);\n",
              "      fill: #174EA6;\n",
              "    }\n",
              "\n",
              "    [theme=dark] .colab-df-convert {\n",
              "      background-color: #3B4455;\n",
              "      fill: #D2E3FC;\n",
              "    }\n",
              "\n",
              "    [theme=dark] .colab-df-convert:hover {\n",
              "      background-color: #434B5C;\n",
              "      box-shadow: 0px 1px 3px 1px rgba(0, 0, 0, 0.15);\n",
              "      filter: drop-shadow(0px 1px 2px rgba(0, 0, 0, 0.3));\n",
              "      fill: #FFFFFF;\n",
              "    }\n",
              "  </style>\n",
              "\n",
              "      <script>\n",
              "        const buttonEl =\n",
              "          document.querySelector('#df-0e0487c3-8755-4896-8571-328327d7ef59 button.colab-df-convert');\n",
              "        buttonEl.style.display =\n",
              "          google.colab.kernel.accessAllowed ? 'block' : 'none';\n",
              "\n",
              "        async function convertToInteractive(key) {\n",
              "          const element = document.querySelector('#df-0e0487c3-8755-4896-8571-328327d7ef59');\n",
              "          const dataTable =\n",
              "            await google.colab.kernel.invokeFunction('convertToInteractive',\n",
              "                                                     [key], {});\n",
              "          if (!dataTable) return;\n",
              "\n",
              "          const docLinkHtml = 'Like what you see? Visit the ' +\n",
              "            '<a target=\"_blank\" href=https://colab.research.google.com/notebooks/data_table.ipynb>data table notebook</a>'\n",
              "            + ' to learn more about interactive tables.';\n",
              "          element.innerHTML = '';\n",
              "          dataTable['output_type'] = 'display_data';\n",
              "          await google.colab.output.renderOutput(dataTable, element);\n",
              "          const docLink = document.createElement('div');\n",
              "          docLink.innerHTML = docLinkHtml;\n",
              "          element.appendChild(docLink);\n",
              "        }\n",
              "      </script>\n",
              "    </div>\n",
              "  </div>\n",
              "  "
            ]
          },
          "metadata": {},
          "execution_count": 97
        }
      ]
    },
    {
      "cell_type": "code",
      "source": [
        "# Show training data information\n",
        "train_data_df.info()"
      ],
      "metadata": {
        "colab": {
          "base_uri": "https://localhost:8080/"
        },
        "id": "IefqD0t5FxUL",
        "outputId": "68be5c41-b0ec-46ff-9c0d-c5a9abd2b599"
      },
      "execution_count": null,
      "outputs": [
        {
          "output_type": "stream",
          "name": "stdout",
          "text": [
            "<class 'pandas.core.frame.DataFrame'>\n",
            "Int64Index: 712 entries, 0 to 890\n",
            "Data columns (total 10 columns):\n",
            " #   Column       Non-Null Count  Dtype  \n",
            "---  ------       --------------  -----  \n",
            " 0   PassengerId  712 non-null    int64  \n",
            " 1   Survived     712 non-null    int64  \n",
            " 2   Pclass       712 non-null    int64  \n",
            " 3   Sex          712 non-null    int64  \n",
            " 4   Age          712 non-null    float64\n",
            " 5   SibSp        712 non-null    int64  \n",
            " 6   Parch        712 non-null    int64  \n",
            " 7   Fare         712 non-null    float64\n",
            " 8   Embarked     712 non-null    int64  \n",
            " 9   Title        712 non-null    int64  \n",
            "dtypes: float64(2), int64(8)\n",
            "memory usage: 61.2 KB\n"
          ]
        }
      ]
    },
    {
      "cell_type": "code",
      "source": [
        "# Show training data description\n",
        "train_data_df.describe()"
      ],
      "metadata": {
        "colab": {
          "base_uri": "https://localhost:8080/",
          "height": 297
        },
        "id": "3fScKiznJk8O",
        "outputId": "acca8d09-8a97-4a37-89c5-d44b54364cfa"
      },
      "execution_count": null,
      "outputs": [
        {
          "output_type": "execute_result",
          "data": {
            "text/plain": [
              "       PassengerId    Survived      Pclass         Sex         Age  \\\n",
              "count   712.000000  712.000000  712.000000  712.000000  712.000000   \n",
              "mean    448.589888    0.404494    2.240169    0.636236    0.367204   \n",
              "std     258.683191    0.491139    0.836854    0.481420    0.182118   \n",
              "min       1.000000    0.000000    1.000000    0.000000    0.000000   \n",
              "25%     222.750000    0.000000    1.000000    0.000000    0.246042   \n",
              "50%     445.000000    0.000000    2.000000    1.000000    0.346569   \n",
              "75%     677.250000    1.000000    3.000000    1.000000    0.472229   \n",
              "max     891.000000    1.000000    3.000000    1.000000    1.000000   \n",
              "\n",
              "            SibSp       Parch        Fare    Embarked       Title  \n",
              "count  712.000000  712.000000  712.000000  712.000000  712.000000  \n",
              "mean     0.514045    0.432584    0.067471    0.261236    0.794944  \n",
              "std      0.930692    0.854181    0.103329    0.521561    1.095998  \n",
              "min      0.000000    0.000000    0.000000    0.000000    0.000000  \n",
              "25%      0.000000    0.000000    0.015713    0.000000    0.000000  \n",
              "50%      0.000000    0.000000    0.030539    0.000000    0.000000  \n",
              "75%      1.000000    1.000000    0.064412    0.000000    1.000000  \n",
              "max      5.000000    6.000000    1.000000    2.000000    5.000000  "
            ],
            "text/html": [
              "\n",
              "  <div id=\"df-0a49a5dd-1605-4ca8-9a89-91b095b5ac3a\">\n",
              "    <div class=\"colab-df-container\">\n",
              "      <div>\n",
              "<style scoped>\n",
              "    .dataframe tbody tr th:only-of-type {\n",
              "        vertical-align: middle;\n",
              "    }\n",
              "\n",
              "    .dataframe tbody tr th {\n",
              "        vertical-align: top;\n",
              "    }\n",
              "\n",
              "    .dataframe thead th {\n",
              "        text-align: right;\n",
              "    }\n",
              "</style>\n",
              "<table border=\"1\" class=\"dataframe\">\n",
              "  <thead>\n",
              "    <tr style=\"text-align: right;\">\n",
              "      <th></th>\n",
              "      <th>PassengerId</th>\n",
              "      <th>Survived</th>\n",
              "      <th>Pclass</th>\n",
              "      <th>Sex</th>\n",
              "      <th>Age</th>\n",
              "      <th>SibSp</th>\n",
              "      <th>Parch</th>\n",
              "      <th>Fare</th>\n",
              "      <th>Embarked</th>\n",
              "      <th>Title</th>\n",
              "    </tr>\n",
              "  </thead>\n",
              "  <tbody>\n",
              "    <tr>\n",
              "      <th>count</th>\n",
              "      <td>712.000000</td>\n",
              "      <td>712.000000</td>\n",
              "      <td>712.000000</td>\n",
              "      <td>712.000000</td>\n",
              "      <td>712.000000</td>\n",
              "      <td>712.000000</td>\n",
              "      <td>712.000000</td>\n",
              "      <td>712.000000</td>\n",
              "      <td>712.000000</td>\n",
              "      <td>712.000000</td>\n",
              "    </tr>\n",
              "    <tr>\n",
              "      <th>mean</th>\n",
              "      <td>448.589888</td>\n",
              "      <td>0.404494</td>\n",
              "      <td>2.240169</td>\n",
              "      <td>0.636236</td>\n",
              "      <td>0.367204</td>\n",
              "      <td>0.514045</td>\n",
              "      <td>0.432584</td>\n",
              "      <td>0.067471</td>\n",
              "      <td>0.261236</td>\n",
              "      <td>0.794944</td>\n",
              "    </tr>\n",
              "    <tr>\n",
              "      <th>std</th>\n",
              "      <td>258.683191</td>\n",
              "      <td>0.491139</td>\n",
              "      <td>0.836854</td>\n",
              "      <td>0.481420</td>\n",
              "      <td>0.182118</td>\n",
              "      <td>0.930692</td>\n",
              "      <td>0.854181</td>\n",
              "      <td>0.103329</td>\n",
              "      <td>0.521561</td>\n",
              "      <td>1.095998</td>\n",
              "    </tr>\n",
              "    <tr>\n",
              "      <th>min</th>\n",
              "      <td>1.000000</td>\n",
              "      <td>0.000000</td>\n",
              "      <td>1.000000</td>\n",
              "      <td>0.000000</td>\n",
              "      <td>0.000000</td>\n",
              "      <td>0.000000</td>\n",
              "      <td>0.000000</td>\n",
              "      <td>0.000000</td>\n",
              "      <td>0.000000</td>\n",
              "      <td>0.000000</td>\n",
              "    </tr>\n",
              "    <tr>\n",
              "      <th>25%</th>\n",
              "      <td>222.750000</td>\n",
              "      <td>0.000000</td>\n",
              "      <td>1.000000</td>\n",
              "      <td>0.000000</td>\n",
              "      <td>0.246042</td>\n",
              "      <td>0.000000</td>\n",
              "      <td>0.000000</td>\n",
              "      <td>0.015713</td>\n",
              "      <td>0.000000</td>\n",
              "      <td>0.000000</td>\n",
              "    </tr>\n",
              "    <tr>\n",
              "      <th>50%</th>\n",
              "      <td>445.000000</td>\n",
              "      <td>0.000000</td>\n",
              "      <td>2.000000</td>\n",
              "      <td>1.000000</td>\n",
              "      <td>0.346569</td>\n",
              "      <td>0.000000</td>\n",
              "      <td>0.000000</td>\n",
              "      <td>0.030539</td>\n",
              "      <td>0.000000</td>\n",
              "      <td>0.000000</td>\n",
              "    </tr>\n",
              "    <tr>\n",
              "      <th>75%</th>\n",
              "      <td>677.250000</td>\n",
              "      <td>1.000000</td>\n",
              "      <td>3.000000</td>\n",
              "      <td>1.000000</td>\n",
              "      <td>0.472229</td>\n",
              "      <td>1.000000</td>\n",
              "      <td>1.000000</td>\n",
              "      <td>0.064412</td>\n",
              "      <td>0.000000</td>\n",
              "      <td>1.000000</td>\n",
              "    </tr>\n",
              "    <tr>\n",
              "      <th>max</th>\n",
              "      <td>891.000000</td>\n",
              "      <td>1.000000</td>\n",
              "      <td>3.000000</td>\n",
              "      <td>1.000000</td>\n",
              "      <td>1.000000</td>\n",
              "      <td>5.000000</td>\n",
              "      <td>6.000000</td>\n",
              "      <td>1.000000</td>\n",
              "      <td>2.000000</td>\n",
              "      <td>5.000000</td>\n",
              "    </tr>\n",
              "  </tbody>\n",
              "</table>\n",
              "</div>\n",
              "      <button class=\"colab-df-convert\" onclick=\"convertToInteractive('df-0a49a5dd-1605-4ca8-9a89-91b095b5ac3a')\"\n",
              "              title=\"Convert this dataframe to an interactive table.\"\n",
              "              style=\"display:none;\">\n",
              "        \n",
              "  <svg xmlns=\"http://www.w3.org/2000/svg\" height=\"24px\"viewBox=\"0 0 24 24\"\n",
              "       width=\"24px\">\n",
              "    <path d=\"M0 0h24v24H0V0z\" fill=\"none\"/>\n",
              "    <path d=\"M18.56 5.44l.94 2.06.94-2.06 2.06-.94-2.06-.94-.94-2.06-.94 2.06-2.06.94zm-11 1L8.5 8.5l.94-2.06 2.06-.94-2.06-.94L8.5 2.5l-.94 2.06-2.06.94zm10 10l.94 2.06.94-2.06 2.06-.94-2.06-.94-.94-2.06-.94 2.06-2.06.94z\"/><path d=\"M17.41 7.96l-1.37-1.37c-.4-.4-.92-.59-1.43-.59-.52 0-1.04.2-1.43.59L10.3 9.45l-7.72 7.72c-.78.78-.78 2.05 0 2.83L4 21.41c.39.39.9.59 1.41.59.51 0 1.02-.2 1.41-.59l7.78-7.78 2.81-2.81c.8-.78.8-2.07 0-2.86zM5.41 20L4 18.59l7.72-7.72 1.47 1.35L5.41 20z\"/>\n",
              "  </svg>\n",
              "      </button>\n",
              "      \n",
              "  <style>\n",
              "    .colab-df-container {\n",
              "      display:flex;\n",
              "      flex-wrap:wrap;\n",
              "      gap: 12px;\n",
              "    }\n",
              "\n",
              "    .colab-df-convert {\n",
              "      background-color: #E8F0FE;\n",
              "      border: none;\n",
              "      border-radius: 50%;\n",
              "      cursor: pointer;\n",
              "      display: none;\n",
              "      fill: #1967D2;\n",
              "      height: 32px;\n",
              "      padding: 0 0 0 0;\n",
              "      width: 32px;\n",
              "    }\n",
              "\n",
              "    .colab-df-convert:hover {\n",
              "      background-color: #E2EBFA;\n",
              "      box-shadow: 0px 1px 2px rgba(60, 64, 67, 0.3), 0px 1px 3px 1px rgba(60, 64, 67, 0.15);\n",
              "      fill: #174EA6;\n",
              "    }\n",
              "\n",
              "    [theme=dark] .colab-df-convert {\n",
              "      background-color: #3B4455;\n",
              "      fill: #D2E3FC;\n",
              "    }\n",
              "\n",
              "    [theme=dark] .colab-df-convert:hover {\n",
              "      background-color: #434B5C;\n",
              "      box-shadow: 0px 1px 3px 1px rgba(0, 0, 0, 0.15);\n",
              "      filter: drop-shadow(0px 1px 2px rgba(0, 0, 0, 0.3));\n",
              "      fill: #FFFFFF;\n",
              "    }\n",
              "  </style>\n",
              "\n",
              "      <script>\n",
              "        const buttonEl =\n",
              "          document.querySelector('#df-0a49a5dd-1605-4ca8-9a89-91b095b5ac3a button.colab-df-convert');\n",
              "        buttonEl.style.display =\n",
              "          google.colab.kernel.accessAllowed ? 'block' : 'none';\n",
              "\n",
              "        async function convertToInteractive(key) {\n",
              "          const element = document.querySelector('#df-0a49a5dd-1605-4ca8-9a89-91b095b5ac3a');\n",
              "          const dataTable =\n",
              "            await google.colab.kernel.invokeFunction('convertToInteractive',\n",
              "                                                     [key], {});\n",
              "          if (!dataTable) return;\n",
              "\n",
              "          const docLinkHtml = 'Like what you see? Visit the ' +\n",
              "            '<a target=\"_blank\" href=https://colab.research.google.com/notebooks/data_table.ipynb>data table notebook</a>'\n",
              "            + ' to learn more about interactive tables.';\n",
              "          element.innerHTML = '';\n",
              "          dataTable['output_type'] = 'display_data';\n",
              "          await google.colab.output.renderOutput(dataTable, element);\n",
              "          const docLink = document.createElement('div');\n",
              "          docLink.innerHTML = docLinkHtml;\n",
              "          element.appendChild(docLink);\n",
              "        }\n",
              "      </script>\n",
              "    </div>\n",
              "  </div>\n",
              "  "
            ]
          },
          "metadata": {},
          "execution_count": 99
        }
      ]
    },
    {
      "cell_type": "code",
      "source": [
        "# SHow first 5 rows of test data\n",
        "test_data_df.head()"
      ],
      "metadata": {
        "colab": {
          "base_uri": "https://localhost:8080/",
          "height": 204
        },
        "id": "dWzE8NIKEvWz",
        "outputId": "34af8853-d28a-429d-8408-d5f6fb4e60ac"
      },
      "execution_count": null,
      "outputs": [
        {
          "output_type": "execute_result",
          "data": {
            "text/plain": [
              "   PassengerId  Pclass  Sex       Age  SibSp  Parch      Fare  Embarked  Title\n",
              "0          892       3    1  0.452723      0      0  0.015282         2    0.0\n",
              "1          893       3    0  0.617566      1      0  0.013663         0    2.0\n",
              "2          894       2    1  0.815377      0      0  0.018909         2    0.0\n",
              "3          895       3    1  0.353818      0      0  0.016908         0    0.0\n",
              "4          896       3    0  0.287881      1      1  0.023984         0    2.0"
            ],
            "text/html": [
              "\n",
              "  <div id=\"df-cbf6b74d-da40-40cf-aca5-93ffa775e70f\">\n",
              "    <div class=\"colab-df-container\">\n",
              "      <div>\n",
              "<style scoped>\n",
              "    .dataframe tbody tr th:only-of-type {\n",
              "        vertical-align: middle;\n",
              "    }\n",
              "\n",
              "    .dataframe tbody tr th {\n",
              "        vertical-align: top;\n",
              "    }\n",
              "\n",
              "    .dataframe thead th {\n",
              "        text-align: right;\n",
              "    }\n",
              "</style>\n",
              "<table border=\"1\" class=\"dataframe\">\n",
              "  <thead>\n",
              "    <tr style=\"text-align: right;\">\n",
              "      <th></th>\n",
              "      <th>PassengerId</th>\n",
              "      <th>Pclass</th>\n",
              "      <th>Sex</th>\n",
              "      <th>Age</th>\n",
              "      <th>SibSp</th>\n",
              "      <th>Parch</th>\n",
              "      <th>Fare</th>\n",
              "      <th>Embarked</th>\n",
              "      <th>Title</th>\n",
              "    </tr>\n",
              "  </thead>\n",
              "  <tbody>\n",
              "    <tr>\n",
              "      <th>0</th>\n",
              "      <td>892</td>\n",
              "      <td>3</td>\n",
              "      <td>1</td>\n",
              "      <td>0.452723</td>\n",
              "      <td>0</td>\n",
              "      <td>0</td>\n",
              "      <td>0.015282</td>\n",
              "      <td>2</td>\n",
              "      <td>0.0</td>\n",
              "    </tr>\n",
              "    <tr>\n",
              "      <th>1</th>\n",
              "      <td>893</td>\n",
              "      <td>3</td>\n",
              "      <td>0</td>\n",
              "      <td>0.617566</td>\n",
              "      <td>1</td>\n",
              "      <td>0</td>\n",
              "      <td>0.013663</td>\n",
              "      <td>0</td>\n",
              "      <td>2.0</td>\n",
              "    </tr>\n",
              "    <tr>\n",
              "      <th>2</th>\n",
              "      <td>894</td>\n",
              "      <td>2</td>\n",
              "      <td>1</td>\n",
              "      <td>0.815377</td>\n",
              "      <td>0</td>\n",
              "      <td>0</td>\n",
              "      <td>0.018909</td>\n",
              "      <td>2</td>\n",
              "      <td>0.0</td>\n",
              "    </tr>\n",
              "    <tr>\n",
              "      <th>3</th>\n",
              "      <td>895</td>\n",
              "      <td>3</td>\n",
              "      <td>1</td>\n",
              "      <td>0.353818</td>\n",
              "      <td>0</td>\n",
              "      <td>0</td>\n",
              "      <td>0.016908</td>\n",
              "      <td>0</td>\n",
              "      <td>0.0</td>\n",
              "    </tr>\n",
              "    <tr>\n",
              "      <th>4</th>\n",
              "      <td>896</td>\n",
              "      <td>3</td>\n",
              "      <td>0</td>\n",
              "      <td>0.287881</td>\n",
              "      <td>1</td>\n",
              "      <td>1</td>\n",
              "      <td>0.023984</td>\n",
              "      <td>0</td>\n",
              "      <td>2.0</td>\n",
              "    </tr>\n",
              "  </tbody>\n",
              "</table>\n",
              "</div>\n",
              "      <button class=\"colab-df-convert\" onclick=\"convertToInteractive('df-cbf6b74d-da40-40cf-aca5-93ffa775e70f')\"\n",
              "              title=\"Convert this dataframe to an interactive table.\"\n",
              "              style=\"display:none;\">\n",
              "        \n",
              "  <svg xmlns=\"http://www.w3.org/2000/svg\" height=\"24px\"viewBox=\"0 0 24 24\"\n",
              "       width=\"24px\">\n",
              "    <path d=\"M0 0h24v24H0V0z\" fill=\"none\"/>\n",
              "    <path d=\"M18.56 5.44l.94 2.06.94-2.06 2.06-.94-2.06-.94-.94-2.06-.94 2.06-2.06.94zm-11 1L8.5 8.5l.94-2.06 2.06-.94-2.06-.94L8.5 2.5l-.94 2.06-2.06.94zm10 10l.94 2.06.94-2.06 2.06-.94-2.06-.94-.94-2.06-.94 2.06-2.06.94z\"/><path d=\"M17.41 7.96l-1.37-1.37c-.4-.4-.92-.59-1.43-.59-.52 0-1.04.2-1.43.59L10.3 9.45l-7.72 7.72c-.78.78-.78 2.05 0 2.83L4 21.41c.39.39.9.59 1.41.59.51 0 1.02-.2 1.41-.59l7.78-7.78 2.81-2.81c.8-.78.8-2.07 0-2.86zM5.41 20L4 18.59l7.72-7.72 1.47 1.35L5.41 20z\"/>\n",
              "  </svg>\n",
              "      </button>\n",
              "      \n",
              "  <style>\n",
              "    .colab-df-container {\n",
              "      display:flex;\n",
              "      flex-wrap:wrap;\n",
              "      gap: 12px;\n",
              "    }\n",
              "\n",
              "    .colab-df-convert {\n",
              "      background-color: #E8F0FE;\n",
              "      border: none;\n",
              "      border-radius: 50%;\n",
              "      cursor: pointer;\n",
              "      display: none;\n",
              "      fill: #1967D2;\n",
              "      height: 32px;\n",
              "      padding: 0 0 0 0;\n",
              "      width: 32px;\n",
              "    }\n",
              "\n",
              "    .colab-df-convert:hover {\n",
              "      background-color: #E2EBFA;\n",
              "      box-shadow: 0px 1px 2px rgba(60, 64, 67, 0.3), 0px 1px 3px 1px rgba(60, 64, 67, 0.15);\n",
              "      fill: #174EA6;\n",
              "    }\n",
              "\n",
              "    [theme=dark] .colab-df-convert {\n",
              "      background-color: #3B4455;\n",
              "      fill: #D2E3FC;\n",
              "    }\n",
              "\n",
              "    [theme=dark] .colab-df-convert:hover {\n",
              "      background-color: #434B5C;\n",
              "      box-shadow: 0px 1px 3px 1px rgba(0, 0, 0, 0.15);\n",
              "      filter: drop-shadow(0px 1px 2px rgba(0, 0, 0, 0.3));\n",
              "      fill: #FFFFFF;\n",
              "    }\n",
              "  </style>\n",
              "\n",
              "      <script>\n",
              "        const buttonEl =\n",
              "          document.querySelector('#df-cbf6b74d-da40-40cf-aca5-93ffa775e70f button.colab-df-convert');\n",
              "        buttonEl.style.display =\n",
              "          google.colab.kernel.accessAllowed ? 'block' : 'none';\n",
              "\n",
              "        async function convertToInteractive(key) {\n",
              "          const element = document.querySelector('#df-cbf6b74d-da40-40cf-aca5-93ffa775e70f');\n",
              "          const dataTable =\n",
              "            await google.colab.kernel.invokeFunction('convertToInteractive',\n",
              "                                                     [key], {});\n",
              "          if (!dataTable) return;\n",
              "\n",
              "          const docLinkHtml = 'Like what you see? Visit the ' +\n",
              "            '<a target=\"_blank\" href=https://colab.research.google.com/notebooks/data_table.ipynb>data table notebook</a>'\n",
              "            + ' to learn more about interactive tables.';\n",
              "          element.innerHTML = '';\n",
              "          dataTable['output_type'] = 'display_data';\n",
              "          await google.colab.output.renderOutput(dataTable, element);\n",
              "          const docLink = document.createElement('div');\n",
              "          docLink.innerHTML = docLinkHtml;\n",
              "          element.appendChild(docLink);\n",
              "        }\n",
              "      </script>\n",
              "    </div>\n",
              "  </div>\n",
              "  "
            ]
          },
          "metadata": {},
          "execution_count": 100
        }
      ]
    },
    {
      "cell_type": "code",
      "source": [
        "# Show test data information\n",
        "test_data_df.info()"
      ],
      "metadata": {
        "colab": {
          "base_uri": "https://localhost:8080/"
        },
        "id": "KXPF_Z9PF5-v",
        "outputId": "7c50c4e8-a7bd-4188-ce10-38664d537c2b"
      },
      "execution_count": null,
      "outputs": [
        {
          "output_type": "stream",
          "name": "stdout",
          "text": [
            "<class 'pandas.core.frame.DataFrame'>\n",
            "RangeIndex: 418 entries, 0 to 417\n",
            "Data columns (total 9 columns):\n",
            " #   Column       Non-Null Count  Dtype  \n",
            "---  ------       --------------  -----  \n",
            " 0   PassengerId  418 non-null    int64  \n",
            " 1   Pclass       418 non-null    int64  \n",
            " 2   Sex          418 non-null    int64  \n",
            " 3   Age          418 non-null    float64\n",
            " 4   SibSp        418 non-null    int64  \n",
            " 5   Parch        418 non-null    int64  \n",
            " 6   Fare         418 non-null    float64\n",
            " 7   Embarked     418 non-null    int64  \n",
            " 8   Title        418 non-null    float64\n",
            "dtypes: float64(3), int64(6)\n",
            "memory usage: 29.5 KB\n"
          ]
        }
      ]
    },
    {
      "cell_type": "code",
      "source": [
        "# Show test data description\n",
        "test_data_df.describe()"
      ],
      "metadata": {
        "colab": {
          "base_uri": "https://localhost:8080/",
          "height": 297
        },
        "id": "41rYRvr9J4SW",
        "outputId": "164f8542-349e-4eb3-c549-fbb25b6e06b8"
      },
      "execution_count": null,
      "outputs": [
        {
          "output_type": "execute_result",
          "data": {
            "text/plain": [
              "       PassengerId      Pclass         Sex         Age       SibSp  \\\n",
              "count   418.000000  418.000000  418.000000  418.000000  418.000000   \n",
              "mean   1100.500000    2.265550    0.636364    0.396968    0.447368   \n",
              "std     120.810458    0.841838    0.481622    0.166617    0.896760   \n",
              "min     892.000000    1.000000    0.000000    0.000000    0.000000   \n",
              "25%     996.250000    1.000000    0.000000    0.301068    0.000000   \n",
              "50%    1100.500000    3.000000    1.000000    0.396941    0.000000   \n",
              "75%    1204.750000    3.000000    1.000000    0.469207    1.000000   \n",
              "max    1309.000000    3.000000    1.000000    1.000000    8.000000   \n",
              "\n",
              "            Parch        Fare    Embarked       Title  \n",
              "count  418.000000  418.000000  418.000000  418.000000  \n",
              "mean     0.392344    0.069540    0.464115    0.739234  \n",
              "std      0.981429    0.108993    0.685516    0.997090  \n",
              "min      0.000000    0.000000    0.000000    0.000000  \n",
              "25%      0.000000    0.015412    0.000000    0.000000  \n",
              "50%      0.000000    0.028213    0.000000    0.000000  \n",
              "75%      0.000000    0.061484    1.000000    1.000000  \n",
              "max      9.000000    1.000000    2.000000    4.000000  "
            ],
            "text/html": [
              "\n",
              "  <div id=\"df-ba9c9b64-aa01-4981-b34d-95b2cf79793a\">\n",
              "    <div class=\"colab-df-container\">\n",
              "      <div>\n",
              "<style scoped>\n",
              "    .dataframe tbody tr th:only-of-type {\n",
              "        vertical-align: middle;\n",
              "    }\n",
              "\n",
              "    .dataframe tbody tr th {\n",
              "        vertical-align: top;\n",
              "    }\n",
              "\n",
              "    .dataframe thead th {\n",
              "        text-align: right;\n",
              "    }\n",
              "</style>\n",
              "<table border=\"1\" class=\"dataframe\">\n",
              "  <thead>\n",
              "    <tr style=\"text-align: right;\">\n",
              "      <th></th>\n",
              "      <th>PassengerId</th>\n",
              "      <th>Pclass</th>\n",
              "      <th>Sex</th>\n",
              "      <th>Age</th>\n",
              "      <th>SibSp</th>\n",
              "      <th>Parch</th>\n",
              "      <th>Fare</th>\n",
              "      <th>Embarked</th>\n",
              "      <th>Title</th>\n",
              "    </tr>\n",
              "  </thead>\n",
              "  <tbody>\n",
              "    <tr>\n",
              "      <th>count</th>\n",
              "      <td>418.000000</td>\n",
              "      <td>418.000000</td>\n",
              "      <td>418.000000</td>\n",
              "      <td>418.000000</td>\n",
              "      <td>418.000000</td>\n",
              "      <td>418.000000</td>\n",
              "      <td>418.000000</td>\n",
              "      <td>418.000000</td>\n",
              "      <td>418.000000</td>\n",
              "    </tr>\n",
              "    <tr>\n",
              "      <th>mean</th>\n",
              "      <td>1100.500000</td>\n",
              "      <td>2.265550</td>\n",
              "      <td>0.636364</td>\n",
              "      <td>0.396968</td>\n",
              "      <td>0.447368</td>\n",
              "      <td>0.392344</td>\n",
              "      <td>0.069540</td>\n",
              "      <td>0.464115</td>\n",
              "      <td>0.739234</td>\n",
              "    </tr>\n",
              "    <tr>\n",
              "      <th>std</th>\n",
              "      <td>120.810458</td>\n",
              "      <td>0.841838</td>\n",
              "      <td>0.481622</td>\n",
              "      <td>0.166617</td>\n",
              "      <td>0.896760</td>\n",
              "      <td>0.981429</td>\n",
              "      <td>0.108993</td>\n",
              "      <td>0.685516</td>\n",
              "      <td>0.997090</td>\n",
              "    </tr>\n",
              "    <tr>\n",
              "      <th>min</th>\n",
              "      <td>892.000000</td>\n",
              "      <td>1.000000</td>\n",
              "      <td>0.000000</td>\n",
              "      <td>0.000000</td>\n",
              "      <td>0.000000</td>\n",
              "      <td>0.000000</td>\n",
              "      <td>0.000000</td>\n",
              "      <td>0.000000</td>\n",
              "      <td>0.000000</td>\n",
              "    </tr>\n",
              "    <tr>\n",
              "      <th>25%</th>\n",
              "      <td>996.250000</td>\n",
              "      <td>1.000000</td>\n",
              "      <td>0.000000</td>\n",
              "      <td>0.301068</td>\n",
              "      <td>0.000000</td>\n",
              "      <td>0.000000</td>\n",
              "      <td>0.015412</td>\n",
              "      <td>0.000000</td>\n",
              "      <td>0.000000</td>\n",
              "    </tr>\n",
              "    <tr>\n",
              "      <th>50%</th>\n",
              "      <td>1100.500000</td>\n",
              "      <td>3.000000</td>\n",
              "      <td>1.000000</td>\n",
              "      <td>0.396941</td>\n",
              "      <td>0.000000</td>\n",
              "      <td>0.000000</td>\n",
              "      <td>0.028213</td>\n",
              "      <td>0.000000</td>\n",
              "      <td>0.000000</td>\n",
              "    </tr>\n",
              "    <tr>\n",
              "      <th>75%</th>\n",
              "      <td>1204.750000</td>\n",
              "      <td>3.000000</td>\n",
              "      <td>1.000000</td>\n",
              "      <td>0.469207</td>\n",
              "      <td>1.000000</td>\n",
              "      <td>0.000000</td>\n",
              "      <td>0.061484</td>\n",
              "      <td>1.000000</td>\n",
              "      <td>1.000000</td>\n",
              "    </tr>\n",
              "    <tr>\n",
              "      <th>max</th>\n",
              "      <td>1309.000000</td>\n",
              "      <td>3.000000</td>\n",
              "      <td>1.000000</td>\n",
              "      <td>1.000000</td>\n",
              "      <td>8.000000</td>\n",
              "      <td>9.000000</td>\n",
              "      <td>1.000000</td>\n",
              "      <td>2.000000</td>\n",
              "      <td>4.000000</td>\n",
              "    </tr>\n",
              "  </tbody>\n",
              "</table>\n",
              "</div>\n",
              "      <button class=\"colab-df-convert\" onclick=\"convertToInteractive('df-ba9c9b64-aa01-4981-b34d-95b2cf79793a')\"\n",
              "              title=\"Convert this dataframe to an interactive table.\"\n",
              "              style=\"display:none;\">\n",
              "        \n",
              "  <svg xmlns=\"http://www.w3.org/2000/svg\" height=\"24px\"viewBox=\"0 0 24 24\"\n",
              "       width=\"24px\">\n",
              "    <path d=\"M0 0h24v24H0V0z\" fill=\"none\"/>\n",
              "    <path d=\"M18.56 5.44l.94 2.06.94-2.06 2.06-.94-2.06-.94-.94-2.06-.94 2.06-2.06.94zm-11 1L8.5 8.5l.94-2.06 2.06-.94-2.06-.94L8.5 2.5l-.94 2.06-2.06.94zm10 10l.94 2.06.94-2.06 2.06-.94-2.06-.94-.94-2.06-.94 2.06-2.06.94z\"/><path d=\"M17.41 7.96l-1.37-1.37c-.4-.4-.92-.59-1.43-.59-.52 0-1.04.2-1.43.59L10.3 9.45l-7.72 7.72c-.78.78-.78 2.05 0 2.83L4 21.41c.39.39.9.59 1.41.59.51 0 1.02-.2 1.41-.59l7.78-7.78 2.81-2.81c.8-.78.8-2.07 0-2.86zM5.41 20L4 18.59l7.72-7.72 1.47 1.35L5.41 20z\"/>\n",
              "  </svg>\n",
              "      </button>\n",
              "      \n",
              "  <style>\n",
              "    .colab-df-container {\n",
              "      display:flex;\n",
              "      flex-wrap:wrap;\n",
              "      gap: 12px;\n",
              "    }\n",
              "\n",
              "    .colab-df-convert {\n",
              "      background-color: #E8F0FE;\n",
              "      border: none;\n",
              "      border-radius: 50%;\n",
              "      cursor: pointer;\n",
              "      display: none;\n",
              "      fill: #1967D2;\n",
              "      height: 32px;\n",
              "      padding: 0 0 0 0;\n",
              "      width: 32px;\n",
              "    }\n",
              "\n",
              "    .colab-df-convert:hover {\n",
              "      background-color: #E2EBFA;\n",
              "      box-shadow: 0px 1px 2px rgba(60, 64, 67, 0.3), 0px 1px 3px 1px rgba(60, 64, 67, 0.15);\n",
              "      fill: #174EA6;\n",
              "    }\n",
              "\n",
              "    [theme=dark] .colab-df-convert {\n",
              "      background-color: #3B4455;\n",
              "      fill: #D2E3FC;\n",
              "    }\n",
              "\n",
              "    [theme=dark] .colab-df-convert:hover {\n",
              "      background-color: #434B5C;\n",
              "      box-shadow: 0px 1px 3px 1px rgba(0, 0, 0, 0.15);\n",
              "      filter: drop-shadow(0px 1px 2px rgba(0, 0, 0, 0.3));\n",
              "      fill: #FFFFFF;\n",
              "    }\n",
              "  </style>\n",
              "\n",
              "      <script>\n",
              "        const buttonEl =\n",
              "          document.querySelector('#df-ba9c9b64-aa01-4981-b34d-95b2cf79793a button.colab-df-convert');\n",
              "        buttonEl.style.display =\n",
              "          google.colab.kernel.accessAllowed ? 'block' : 'none';\n",
              "\n",
              "        async function convertToInteractive(key) {\n",
              "          const element = document.querySelector('#df-ba9c9b64-aa01-4981-b34d-95b2cf79793a');\n",
              "          const dataTable =\n",
              "            await google.colab.kernel.invokeFunction('convertToInteractive',\n",
              "                                                     [key], {});\n",
              "          if (!dataTable) return;\n",
              "\n",
              "          const docLinkHtml = 'Like what you see? Visit the ' +\n",
              "            '<a target=\"_blank\" href=https://colab.research.google.com/notebooks/data_table.ipynb>data table notebook</a>'\n",
              "            + ' to learn more about interactive tables.';\n",
              "          element.innerHTML = '';\n",
              "          dataTable['output_type'] = 'display_data';\n",
              "          await google.colab.output.renderOutput(dataTable, element);\n",
              "          const docLink = document.createElement('div');\n",
              "          docLink.innerHTML = docLinkHtml;\n",
              "          element.appendChild(docLink);\n",
              "        }\n",
              "      </script>\n",
              "    </div>\n",
              "  </div>\n",
              "  "
            ]
          },
          "metadata": {},
          "execution_count": 102
        }
      ]
    },
    {
      "cell_type": "markdown",
      "source": [
        "### Split data into train and validation sets"
      ],
      "metadata": {
        "id": "GZNh-akhHiEN"
      }
    },
    {
      "cell_type": "code",
      "source": [
        "# Split data into train and validation set\n",
        "x_train, x_val, y_train, y_val = train_test_split(\n",
        "    train_data_df.drop(['Survived'], axis=1),\n",
        "    train_data_df.Survived,\n",
        "    test_size= 0.2,\n",
        "    random_state=0,\n",
        "    stratify=train_data_df.Survived\n",
        ")"
      ],
      "metadata": {
        "id": "7grA1zzGHrJY"
      },
      "execution_count": null,
      "outputs": []
    },
    {
      "cell_type": "code",
      "source": [
        "# Scale data\n",
        "scaler = StandardScaler()\n",
        "train_data = scaler.fit_transform(x_train)\n",
        "validation_data = scaler.transform(x_val)\n",
        "test_dataset = scaler.transform(test_data_df)"
      ],
      "metadata": {
        "id": "EH1V5IVNPZsW"
      },
      "execution_count": null,
      "outputs": []
    },
    {
      "cell_type": "markdown",
      "source": [
        "## Train and predict using a Logistic Regression Model"
      ],
      "metadata": {
        "id": "37H68ML2N1yC"
      }
    },
    {
      "cell_type": "code",
      "source": [
        "# Build and train a logistic regression model\n",
        "\n",
        "clf = LogisticRegression(max_iter=30)\n",
        "train_history = clf.fit(train_data, y_train)\n",
        "\n",
        "# Obtain accuracy with validation data predictions\n",
        "\n",
        "y_pred = clf.predict(validation_data)\n",
        "accuracy_score(y_val, y_pred)"
      ],
      "metadata": {
        "colab": {
          "base_uri": "https://localhost:8080/"
        },
        "id": "qwHBTV5LVNfd",
        "outputId": "82332fe7-318a-42d7-886a-8c844dd1e844"
      },
      "execution_count": null,
      "outputs": [
        {
          "output_type": "execute_result",
          "data": {
            "text/plain": [
              "0.8601398601398601"
            ]
          },
          "metadata": {},
          "execution_count": 105
        }
      ]
    },
    {
      "cell_type": "code",
      "source": [
        "# Create and plot a confussion matrix with classifcation results\n",
        "plt.figure(figsize=(15, 10))\n",
        "cm=confusion_matrix(y_val, y_pred)\n",
        "sns.heatmap(cm,annot=True, cmap= 'Blues', annot_kws={'size': 20})"
      ],
      "metadata": {
        "colab": {
          "base_uri": "https://localhost:8080/",
          "height": 105
        },
        "id": "0wB2GfFbLbAV",
        "outputId": "60bb51d8-b783-4dd1-ff90-dc91eb1cedc7"
      },
      "execution_count": null,
      "outputs": [
        {
          "output_type": "execute_result",
          "data": {
            "text/plain": [
              "<matplotlib.axes._subplots.AxesSubplot at 0x7efebb960790>"
            ]
          },
          "metadata": {},
          "execution_count": 106
        },
        {
          "output_type": "display_data",
          "data": {
            "text/plain": [
              "<Figure size 1080x720 with 2 Axes>"
            ],
            "image/png": "[encoded data removed]"
          },
          "metadata": {
            "needs_background": "light"
          }
        }
      ]
    },
    {
      "cell_type": "markdown",
      "source": [
        "## Train and predict using MLP (3 hidden layers)"
      ],
      "metadata": {
        "id": "FhncV8KMOhMY"
      }
    },
    {
      "cell_type": "markdown",
      "source": [
        "### Without regularization"
      ],
      "metadata": {
        "id": "hQK6sGSGG5D0"
      }
    },
    {
      "cell_type": "code",
      "source": [
        "from keras.backend import clear_session\n",
        "clear_session()"
      ],
      "metadata": {
        "id": "KBQARs0zOjhL"
      },
      "execution_count": null,
      "outputs": []
    },
    {
      "cell_type": "code",
      "source": [
        "# Set font size for all plots to 18\n",
        "plt.rcParams.update({'font.size': 18})"
      ],
      "metadata": {
        "id": "Ia6889qwtIae"
      },
      "execution_count": null,
      "outputs": []
    },
    {
      "cell_type": "code",
      "source": [
        "# Define the model\n",
        "model = Sequential()\n",
        "model.add(Dense(32, activation='relu', input_shape=(9,)))\n",
        "model.add(Dense(16, activation='relu'))\n",
        "model.add(Dense(1, activation='sigmoid'))\n",
        "\n",
        "# Compile the model\n",
        "model.compile(optimizer='adam', loss='binary_crossentropy', metrics=['accuracy'])\n",
        "#model.summary()"
      ],
      "metadata": {
        "id": "GKw5EzwxocZN"
      },
      "execution_count": null,
      "outputs": []
    },
    {
      "cell_type": "code",
      "source": [
        "# Train the model\n",
        "train_history = model.fit(train_data, y_train, batch_size=32, epochs=50, \n",
        "                          validation_data=(validation_data, y_val)\n",
        "                          )"
      ],
      "metadata": {
        "colab": {
          "base_uri": "https://localhost:8080/"
        },
        "id": "4aIbeFvqoiqP",
        "outputId": "3259a6ef-5d82-484a-db23-1e6bcdadfb6f"
      },
      "execution_count": null,
      "outputs": [
        {
          "output_type": "stream",
          "name": "stdout",
          "text": [
            "Epoch 1/50\n",
            "18/18 [==============================] - 1s 11ms/step - loss: 0.6353 - accuracy: 0.6538 - val_loss: 0.5453 - val_accuracy: 0.7343\n",
            "Epoch 2/50\n",
            "18/18 [==============================] - 0s 2ms/step - loss: 0.5572 - accuracy: 0.7329 - val_loss: 0.4805 - val_accuracy: 0.7902\n",
            "Epoch 3/50\n",
            "18/18 [==============================] - 0s 2ms/step - loss: 0.5175 - accuracy: 0.7838 - val_loss: 0.4305 - val_accuracy: 0.8392\n",
            "Epoch 4/50\n",
            "18/18 [==============================] - 0s 3ms/step - loss: 0.4854 - accuracy: 0.8067 - val_loss: 0.3989 - val_accuracy: 0.8741\n",
            "Epoch 5/50\n",
            "18/18 [==============================] - 0s 3ms/step - loss: 0.4646 - accuracy: 0.8137 - val_loss: 0.3808 - val_accuracy: 0.8811\n",
            "Epoch 6/50\n",
            "18/18 [==============================] - 0s 3ms/step - loss: 0.4500 - accuracy: 0.8120 - val_loss: 0.3677 - val_accuracy: 0.8671\n",
            "Epoch 7/50\n",
            "18/18 [==============================] - 0s 2ms/step - loss: 0.4386 - accuracy: 0.8172 - val_loss: 0.3637 - val_accuracy: 0.8671\n",
            "Epoch 8/50\n",
            "18/18 [==============================] - 0s 4ms/step - loss: 0.4311 - accuracy: 0.8155 - val_loss: 0.3600 - val_accuracy: 0.8671\n",
            "Epoch 9/50\n",
            "18/18 [==============================] - 0s 3ms/step - loss: 0.4248 - accuracy: 0.8172 - val_loss: 0.3627 - val_accuracy: 0.8671\n",
            "Epoch 10/50\n",
            "18/18 [==============================] - 0s 3ms/step - loss: 0.4197 - accuracy: 0.8190 - val_loss: 0.3620 - val_accuracy: 0.8671\n",
            "Epoch 11/50\n",
            "18/18 [==============================] - 0s 3ms/step - loss: 0.4152 - accuracy: 0.8225 - val_loss: 0.3601 - val_accuracy: 0.8601\n",
            "Epoch 12/50\n",
            "18/18 [==============================] - 0s 2ms/step - loss: 0.4113 - accuracy: 0.8260 - val_loss: 0.3603 - val_accuracy: 0.8601\n",
            "Epoch 13/50\n",
            "18/18 [==============================] - 0s 3ms/step - loss: 0.4100 - accuracy: 0.8278 - val_loss: 0.3651 - val_accuracy: 0.8601\n",
            "Epoch 14/50\n",
            "18/18 [==============================] - 0s 2ms/step - loss: 0.4044 - accuracy: 0.8278 - val_loss: 0.3526 - val_accuracy: 0.8811\n",
            "Epoch 15/50\n",
            "18/18 [==============================] - 0s 2ms/step - loss: 0.4023 - accuracy: 0.8330 - val_loss: 0.3620 - val_accuracy: 0.8741\n",
            "Epoch 16/50\n",
            "18/18 [==============================] - 0s 3ms/step - loss: 0.3994 - accuracy: 0.8366 - val_loss: 0.3683 - val_accuracy: 0.8601\n",
            "Epoch 17/50\n",
            "18/18 [==============================] - 0s 3ms/step - loss: 0.3959 - accuracy: 0.8348 - val_loss: 0.3675 - val_accuracy: 0.8741\n",
            "Epoch 18/50\n",
            "18/18 [==============================] - 0s 2ms/step - loss: 0.3954 - accuracy: 0.8366 - val_loss: 0.3658 - val_accuracy: 0.8741\n",
            "Epoch 19/50\n",
            "18/18 [==============================] - 0s 2ms/step - loss: 0.3910 - accuracy: 0.8418 - val_loss: 0.3730 - val_accuracy: 0.8601\n",
            "Epoch 20/50\n",
            "18/18 [==============================] - 0s 3ms/step - loss: 0.3897 - accuracy: 0.8401 - val_loss: 0.3731 - val_accuracy: 0.8601\n",
            "Epoch 21/50\n",
            "18/18 [==============================] - 0s 2ms/step - loss: 0.3872 - accuracy: 0.8436 - val_loss: 0.3770 - val_accuracy: 0.8531\n",
            "Epoch 22/50\n",
            "18/18 [==============================] - 0s 4ms/step - loss: 0.3841 - accuracy: 0.8436 - val_loss: 0.3689 - val_accuracy: 0.8531\n",
            "Epoch 23/50\n",
            "18/18 [==============================] - 0s 4ms/step - loss: 0.3831 - accuracy: 0.8436 - val_loss: 0.3714 - val_accuracy: 0.8601\n",
            "Epoch 24/50\n",
            "18/18 [==============================] - 0s 3ms/step - loss: 0.3814 - accuracy: 0.8489 - val_loss: 0.3753 - val_accuracy: 0.8531\n",
            "Epoch 25/50\n",
            "18/18 [==============================] - 0s 3ms/step - loss: 0.3797 - accuracy: 0.8489 - val_loss: 0.3694 - val_accuracy: 0.8671\n",
            "Epoch 26/50\n",
            "18/18 [==============================] - 0s 2ms/step - loss: 0.3781 - accuracy: 0.8471 - val_loss: 0.3785 - val_accuracy: 0.8531\n",
            "Epoch 27/50\n",
            "18/18 [==============================] - 0s 4ms/step - loss: 0.3793 - accuracy: 0.8453 - val_loss: 0.3951 - val_accuracy: 0.8531\n",
            "Epoch 28/50\n",
            "18/18 [==============================] - 0s 4ms/step - loss: 0.3732 - accuracy: 0.8541 - val_loss: 0.3781 - val_accuracy: 0.8601\n",
            "Epoch 29/50\n",
            "18/18 [==============================] - 0s 3ms/step - loss: 0.3714 - accuracy: 0.8541 - val_loss: 0.3791 - val_accuracy: 0.8601\n",
            "Epoch 30/50\n",
            "18/18 [==============================] - 0s 3ms/step - loss: 0.3712 - accuracy: 0.8489 - val_loss: 0.3757 - val_accuracy: 0.8601\n",
            "Epoch 31/50\n",
            "18/18 [==============================] - 0s 3ms/step - loss: 0.3689 - accuracy: 0.8524 - val_loss: 0.3860 - val_accuracy: 0.8531\n",
            "Epoch 32/50\n",
            "18/18 [==============================] - 0s 2ms/step - loss: 0.3680 - accuracy: 0.8594 - val_loss: 0.3910 - val_accuracy: 0.8531\n",
            "Epoch 33/50\n",
            "18/18 [==============================] - 0s 2ms/step - loss: 0.3655 - accuracy: 0.8576 - val_loss: 0.3886 - val_accuracy: 0.8531\n",
            "Epoch 34/50\n",
            "18/18 [==============================] - 0s 3ms/step - loss: 0.3650 - accuracy: 0.8524 - val_loss: 0.3881 - val_accuracy: 0.8601\n",
            "Epoch 35/50\n",
            "18/18 [==============================] - 0s 2ms/step - loss: 0.3629 - accuracy: 0.8629 - val_loss: 0.3947 - val_accuracy: 0.8531\n",
            "Epoch 36/50\n",
            "18/18 [==============================] - 0s 3ms/step - loss: 0.3599 - accuracy: 0.8612 - val_loss: 0.3905 - val_accuracy: 0.8531\n",
            "Epoch 37/50\n",
            "18/18 [==============================] - 0s 3ms/step - loss: 0.3595 - accuracy: 0.8576 - val_loss: 0.3858 - val_accuracy: 0.8601\n",
            "Epoch 38/50\n",
            "18/18 [==============================] - 0s 3ms/step - loss: 0.3582 - accuracy: 0.8559 - val_loss: 0.3913 - val_accuracy: 0.8601\n",
            "Epoch 39/50\n",
            "18/18 [==============================] - 0s 3ms/step - loss: 0.3564 - accuracy: 0.8594 - val_loss: 0.4015 - val_accuracy: 0.8601\n",
            "Epoch 40/50\n",
            "18/18 [==============================] - 0s 3ms/step - loss: 0.3559 - accuracy: 0.8541 - val_loss: 0.3913 - val_accuracy: 0.8601\n",
            "Epoch 41/50\n",
            "18/18 [==============================] - 0s 3ms/step - loss: 0.3539 - accuracy: 0.8594 - val_loss: 0.4002 - val_accuracy: 0.8601\n",
            "Epoch 42/50\n",
            "18/18 [==============================] - 0s 2ms/step - loss: 0.3521 - accuracy: 0.8629 - val_loss: 0.4018 - val_accuracy: 0.8531\n",
            "Epoch 43/50\n",
            "18/18 [==============================] - 0s 3ms/step - loss: 0.3513 - accuracy: 0.8524 - val_loss: 0.3946 - val_accuracy: 0.8601\n",
            "Epoch 44/50\n",
            "18/18 [==============================] - 0s 3ms/step - loss: 0.3492 - accuracy: 0.8664 - val_loss: 0.3956 - val_accuracy: 0.8601\n",
            "Epoch 45/50\n",
            "18/18 [==============================] - 0s 2ms/step - loss: 0.3491 - accuracy: 0.8664 - val_loss: 0.4069 - val_accuracy: 0.8601\n",
            "Epoch 46/50\n",
            "18/18 [==============================] - 0s 2ms/step - loss: 0.3468 - accuracy: 0.8629 - val_loss: 0.3934 - val_accuracy: 0.8601\n",
            "Epoch 47/50\n",
            "18/18 [==============================] - 0s 3ms/step - loss: 0.3458 - accuracy: 0.8629 - val_loss: 0.4030 - val_accuracy: 0.8601\n",
            "Epoch 48/50\n",
            "18/18 [==============================] - 0s 3ms/step - loss: 0.3438 - accuracy: 0.8629 - val_loss: 0.4047 - val_accuracy: 0.8601\n",
            "Epoch 49/50\n",
            "18/18 [==============================] - 0s 3ms/step - loss: 0.3441 - accuracy: 0.8647 - val_loss: 0.4059 - val_accuracy: 0.8601\n",
            "Epoch 50/50\n",
            "18/18 [==============================] - 0s 3ms/step - loss: 0.3418 - accuracy: 0.8664 - val_loss: 0.4036 - val_accuracy: 0.8601\n"
          ]
        }
      ]
    },
    {
      "cell_type": "code",
      "source": [
        "# Obtain training results\n",
        "train_loss, accuracy, val_loss, val_accuracy = train_history.history['loss'], train_history.history['accuracy'], train_history.history['val_loss'], train_history.history['val_accuracy']"
      ],
      "metadata": {
        "id": "-Zdm12Reol_9"
      },
      "execution_count": null,
      "outputs": []
    },
    {
      "cell_type": "code",
      "source": [
        "# Plot training and validation loss results\n",
        "plt.figure(figsize=(10,10))\n",
        "plt.plot(train_loss, label = \"training loss\")\n",
        "plt.plot(val_loss, label = \"validation loss\")\n",
        "plt.ylabel(\"loss\")\n",
        "plt.xlabel(\"epoch\")\n",
        "plt.legend()\n",
        "plt.show()"
      ],
      "metadata": {
        "colab": {
          "base_uri": "https://localhost:8080/",
          "height": 54
        },
        "id": "46UwH61Lon8u",
        "outputId": "c6049e8e-d87a-4544-944b-25bfaba4df12"
      },
      "execution_count": null,
      "outputs": [
        {
          "output_type": "display_data",
          "data": {
            "text/plain": [
              "<Figure size 720x720 with 1 Axes>"
            ],
            "image/png": "[encoded data removed]"
          },
          "metadata": {
            "needs_background": "light"
          }
        }
      ]
    },
    {
      "cell_type": "code",
      "source": [
        "# Plot training and validation accuracy results\n",
        "plt.figure(figsize=(10,10))\n",
        "plt.plot(accuracy, label = \"training accuracy\")\n",
        "plt.plot(val_accuracy, label = \"validation accuracy\")\n",
        "plt.ylabel(\"accuracy\")\n",
        "plt.xlabel(\"epoch\")\n",
        "plt.legend()\n",
        "plt.show()"
      ],
      "metadata": {
        "colab": {
          "base_uri": "https://localhost:8080/",
          "height": 54
        },
        "id": "z2biM7pBoxFh",
        "outputId": "0d593ccc-5527-4d30-e151-101299bfb30f"
      },
      "execution_count": null,
      "outputs": [
        {
          "output_type": "display_data",
          "data": {
            "text/plain": [
              "<Figure size 720x720 with 1 Axes>"
            ],
            "image/png": "[encoded data removed]"
          },
          "metadata": {
            "needs_background": "light"
          }
        }
      ]
    },
    {
      "cell_type": "markdown",
      "source": [
        "### With Dropout regularization"
      ],
      "metadata": {
        "id": "CUmOFDMaoeXH"
      }
    },
    {
      "cell_type": "code",
      "source": [
        "# Define the model\n",
        "model = Sequential()\n",
        "model.add(Dense(32, activation='relu', input_shape=(9,)))\n",
        "model.add(Dropout(0.5))\n",
        "model.add(Dense(16, activation='relu'))\n",
        "model.add(Dense(1, activation='sigmoid'))\n",
        "\n",
        "# Compile the model\n",
        "model.compile(optimizer='adam', loss='binary_crossentropy', metrics=['accuracy'])\n",
        "#model.summary()\n"
      ],
      "metadata": {
        "id": "omcG-xseOnAg"
      },
      "execution_count": 145,
      "outputs": []
    },
    {
      "cell_type": "code",
      "source": [
        "# Train the model\n",
        "train_history = model.fit(train_data, y_train, batch_size=32, epochs=50, \n",
        "                          validation_data=(validation_data, y_val)\n",
        "                          )"
      ],
      "metadata": {
        "colab": {
          "base_uri": "https://localhost:8080/"
        },
        "id": "4pCL9w0eOqwC",
        "outputId": "e0953298-9970-41d5-c755-021c4c000356"
      },
      "execution_count": 146,
      "outputs": [
        {
          "output_type": "stream",
          "name": "stdout",
          "text": [
            "Epoch 1/50\n",
            "18/18 [==============================] - 1s 9ms/step - loss: 0.6687 - accuracy: 0.6134 - val_loss: 0.5618 - val_accuracy: 0.8462\n",
            "Epoch 2/50\n",
            "18/18 [==============================] - 0s 3ms/step - loss: 0.6205 - accuracy: 0.6749 - val_loss: 0.5194 - val_accuracy: 0.8601\n",
            "Epoch 3/50\n",
            "18/18 [==============================] - 0s 3ms/step - loss: 0.5959 - accuracy: 0.6889 - val_loss: 0.4904 - val_accuracy: 0.8462\n",
            "Epoch 4/50\n",
            "18/18 [==============================] - 0s 4ms/step - loss: 0.5570 - accuracy: 0.7311 - val_loss: 0.4634 - val_accuracy: 0.8462\n",
            "Epoch 5/50\n",
            "18/18 [==============================] - 0s 3ms/step - loss: 0.5552 - accuracy: 0.7364 - val_loss: 0.4395 - val_accuracy: 0.8462\n",
            "Epoch 6/50\n",
            "18/18 [==============================] - 0s 3ms/step - loss: 0.5394 - accuracy: 0.7346 - val_loss: 0.4248 - val_accuracy: 0.8531\n",
            "Epoch 7/50\n",
            "18/18 [==============================] - 0s 4ms/step - loss: 0.5309 - accuracy: 0.7680 - val_loss: 0.4087 - val_accuracy: 0.8462\n",
            "Epoch 8/50\n",
            "18/18 [==============================] - 0s 2ms/step - loss: 0.5418 - accuracy: 0.7469 - val_loss: 0.4005 - val_accuracy: 0.8531\n",
            "Epoch 9/50\n",
            "18/18 [==============================] - 0s 2ms/step - loss: 0.5099 - accuracy: 0.7575 - val_loss: 0.3924 - val_accuracy: 0.8531\n",
            "Epoch 10/50\n",
            "18/18 [==============================] - 0s 3ms/step - loss: 0.4906 - accuracy: 0.7873 - val_loss: 0.3798 - val_accuracy: 0.8531\n",
            "Epoch 11/50\n",
            "18/18 [==============================] - 0s 3ms/step - loss: 0.5166 - accuracy: 0.7540 - val_loss: 0.3777 - val_accuracy: 0.8531\n",
            "Epoch 12/50\n",
            "18/18 [==============================] - 0s 3ms/step - loss: 0.4831 - accuracy: 0.7803 - val_loss: 0.3724 - val_accuracy: 0.8531\n",
            "Epoch 13/50\n",
            "18/18 [==============================] - 0s 3ms/step - loss: 0.5090 - accuracy: 0.7575 - val_loss: 0.3717 - val_accuracy: 0.8531\n",
            "Epoch 14/50\n",
            "18/18 [==============================] - 0s 2ms/step - loss: 0.4756 - accuracy: 0.7803 - val_loss: 0.3666 - val_accuracy: 0.8531\n",
            "Epoch 15/50\n",
            "18/18 [==============================] - 0s 4ms/step - loss: 0.4999 - accuracy: 0.7715 - val_loss: 0.3615 - val_accuracy: 0.8462\n",
            "Epoch 16/50\n",
            "18/18 [==============================] - 0s 3ms/step - loss: 0.4807 - accuracy: 0.7838 - val_loss: 0.3592 - val_accuracy: 0.8462\n",
            "Epoch 17/50\n",
            "18/18 [==============================] - 0s 3ms/step - loss: 0.4965 - accuracy: 0.7733 - val_loss: 0.3676 - val_accuracy: 0.8462\n",
            "Epoch 18/50\n",
            "18/18 [==============================] - 0s 2ms/step - loss: 0.4818 - accuracy: 0.7715 - val_loss: 0.3654 - val_accuracy: 0.8392\n",
            "Epoch 19/50\n",
            "18/18 [==============================] - 0s 2ms/step - loss: 0.4605 - accuracy: 0.7873 - val_loss: 0.3622 - val_accuracy: 0.8392\n",
            "Epoch 20/50\n",
            "18/18 [==============================] - 0s 3ms/step - loss: 0.4903 - accuracy: 0.7873 - val_loss: 0.3618 - val_accuracy: 0.8392\n",
            "Epoch 21/50\n",
            "18/18 [==============================] - 0s 4ms/step - loss: 0.4653 - accuracy: 0.7856 - val_loss: 0.3560 - val_accuracy: 0.8601\n",
            "Epoch 22/50\n",
            "18/18 [==============================] - 0s 3ms/step - loss: 0.4414 - accuracy: 0.8102 - val_loss: 0.3539 - val_accuracy: 0.8601\n",
            "Epoch 23/50\n",
            "18/18 [==============================] - 0s 3ms/step - loss: 0.4824 - accuracy: 0.8049 - val_loss: 0.3585 - val_accuracy: 0.8601\n",
            "Epoch 24/50\n",
            "18/18 [==============================] - 0s 3ms/step - loss: 0.4737 - accuracy: 0.7926 - val_loss: 0.3561 - val_accuracy: 0.8601\n",
            "Epoch 25/50\n",
            "18/18 [==============================] - 0s 3ms/step - loss: 0.4701 - accuracy: 0.7873 - val_loss: 0.3581 - val_accuracy: 0.8531\n",
            "Epoch 26/50\n",
            "18/18 [==============================] - 0s 3ms/step - loss: 0.4616 - accuracy: 0.8014 - val_loss: 0.3533 - val_accuracy: 0.8531\n",
            "Epoch 27/50\n",
            "18/18 [==============================] - 0s 4ms/step - loss: 0.4548 - accuracy: 0.8120 - val_loss: 0.3554 - val_accuracy: 0.8601\n",
            "Epoch 28/50\n",
            "18/18 [==============================] - 0s 3ms/step - loss: 0.4507 - accuracy: 0.8067 - val_loss: 0.3593 - val_accuracy: 0.8671\n",
            "Epoch 29/50\n",
            "18/18 [==============================] - 0s 3ms/step - loss: 0.4470 - accuracy: 0.8084 - val_loss: 0.3555 - val_accuracy: 0.8671\n",
            "Epoch 30/50\n",
            "18/18 [==============================] - 0s 4ms/step - loss: 0.4657 - accuracy: 0.8137 - val_loss: 0.3557 - val_accuracy: 0.8601\n",
            "Epoch 31/50\n",
            "18/18 [==============================] - 0s 2ms/step - loss: 0.4595 - accuracy: 0.8049 - val_loss: 0.3551 - val_accuracy: 0.8601\n",
            "Epoch 32/50\n",
            "18/18 [==============================] - 0s 3ms/step - loss: 0.4725 - accuracy: 0.8032 - val_loss: 0.3581 - val_accuracy: 0.8671\n",
            "Epoch 33/50\n",
            "18/18 [==============================] - 0s 4ms/step - loss: 0.4545 - accuracy: 0.8014 - val_loss: 0.3600 - val_accuracy: 0.8671\n",
            "Epoch 34/50\n",
            "18/18 [==============================] - 0s 3ms/step - loss: 0.4573 - accuracy: 0.8120 - val_loss: 0.3600 - val_accuracy: 0.8741\n",
            "Epoch 35/50\n",
            "18/18 [==============================] - 0s 4ms/step - loss: 0.4361 - accuracy: 0.8084 - val_loss: 0.3642 - val_accuracy: 0.8671\n",
            "Epoch 36/50\n",
            "18/18 [==============================] - 0s 2ms/step - loss: 0.4500 - accuracy: 0.8120 - val_loss: 0.3634 - val_accuracy: 0.8671\n",
            "Epoch 37/50\n",
            "18/18 [==============================] - 0s 4ms/step - loss: 0.4393 - accuracy: 0.8120 - val_loss: 0.3633 - val_accuracy: 0.8741\n",
            "Epoch 38/50\n",
            "18/18 [==============================] - 0s 4ms/step - loss: 0.4468 - accuracy: 0.7944 - val_loss: 0.3654 - val_accuracy: 0.8741\n",
            "Epoch 39/50\n",
            "18/18 [==============================] - 0s 4ms/step - loss: 0.4521 - accuracy: 0.8032 - val_loss: 0.3666 - val_accuracy: 0.8741\n",
            "Epoch 40/50\n",
            "18/18 [==============================] - 0s 3ms/step - loss: 0.4472 - accuracy: 0.8067 - val_loss: 0.3599 - val_accuracy: 0.8811\n",
            "Epoch 41/50\n",
            "18/18 [==============================] - 0s 3ms/step - loss: 0.4589 - accuracy: 0.8032 - val_loss: 0.3596 - val_accuracy: 0.8671\n",
            "Epoch 42/50\n",
            "18/18 [==============================] - 0s 2ms/step - loss: 0.4656 - accuracy: 0.8067 - val_loss: 0.3585 - val_accuracy: 0.8671\n",
            "Epoch 43/50\n",
            "18/18 [==============================] - 0s 3ms/step - loss: 0.4556 - accuracy: 0.8137 - val_loss: 0.3582 - val_accuracy: 0.8671\n",
            "Epoch 44/50\n",
            "18/18 [==============================] - 0s 2ms/step - loss: 0.4461 - accuracy: 0.8102 - val_loss: 0.3541 - val_accuracy: 0.8671\n",
            "Epoch 45/50\n",
            "18/18 [==============================] - 0s 2ms/step - loss: 0.4459 - accuracy: 0.8102 - val_loss: 0.3543 - val_accuracy: 0.8671\n",
            "Epoch 46/50\n",
            "18/18 [==============================] - 0s 3ms/step - loss: 0.4368 - accuracy: 0.8207 - val_loss: 0.3550 - val_accuracy: 0.8741\n",
            "Epoch 47/50\n",
            "18/18 [==============================] - 0s 2ms/step - loss: 0.4274 - accuracy: 0.8278 - val_loss: 0.3558 - val_accuracy: 0.8741\n",
            "Epoch 48/50\n",
            "18/18 [==============================] - 0s 4ms/step - loss: 0.4519 - accuracy: 0.7926 - val_loss: 0.3543 - val_accuracy: 0.8601\n",
            "Epoch 49/50\n",
            "18/18 [==============================] - 0s 3ms/step - loss: 0.4204 - accuracy: 0.8155 - val_loss: 0.3521 - val_accuracy: 0.8741\n",
            "Epoch 50/50\n",
            "18/18 [==============================] - 0s 3ms/step - loss: 0.4350 - accuracy: 0.8225 - val_loss: 0.3518 - val_accuracy: 0.8671\n"
          ]
        }
      ]
    },
    {
      "cell_type": "code",
      "source": [
        "# Obtain training results\n",
        "train_loss, accuracy, val_loss, val_accuracy = train_history.history['loss'], train_history.history['accuracy'], train_history.history['val_loss'], train_history.history['val_accuracy']"
      ],
      "metadata": {
        "id": "SFbWJFpfO_yF"
      },
      "execution_count": null,
      "outputs": []
    },
    {
      "cell_type": "code",
      "source": [
        "# Plot training and validation loss results\n",
        "plt.figure(figsize=(10,10))\n",
        "plt.plot(train_loss, label = \"training loss\")\n",
        "plt.plot(val_loss, label = \"validation loss\")\n",
        "plt.ylabel(\"loss\")\n",
        "plt.xlabel(\"epoch\")\n",
        "plt.legend()\n",
        "plt.show()"
      ],
      "metadata": {
        "colab": {
          "base_uri": "https://localhost:8080/",
          "height": 622
        },
        "id": "adglkUDmPI2t",
        "outputId": "74ca96b7-095e-4d45-9f89-a5f665a1d919"
      },
      "execution_count": null,
      "outputs": [
        {
          "output_type": "display_data",
          "data": {
            "text/plain": [
              "<Figure size 720x720 with 1 Axes>"
            ],
            "image/png": "[encoded data removed]"
          },
          "metadata": {
            "needs_background": "light"
          }
        }
      ]
    },
    {
      "cell_type": "code",
      "source": [
        "# Plot training and validation accuracy results\n",
        "plt.figure(figsize=(10,10))\n",
        "plt.plot(accuracy, label = \"training accuracy\")\n",
        "plt.plot(val_accuracy, label = \"validation accuracy\")\n",
        "plt.ylabel(\"accuracy\")\n",
        "plt.xlabel(\"epoch\")\n",
        "plt.legend()\n",
        "plt.show()"
      ],
      "metadata": {
        "colab": {
          "base_uri": "https://localhost:8080/",
          "height": 622
        },
        "id": "aGEfm1BkPOiP",
        "outputId": "619907be-bb56-4854-c5a8-1b21caf07e07"
      },
      "execution_count": null,
      "outputs": [
        {
          "output_type": "display_data",
          "data": {
            "text/plain": [
              "<Figure size 720x720 with 1 Axes>"
            ],
            "image/png": "[encoded data removed]"
          },
          "metadata": {
            "needs_background": "light"
          }
        }
      ]
    },
    {
      "cell_type": "markdown",
      "source": [
        "### With L2 regularization"
      ],
      "metadata": {
        "id": "6E61txrmG-J2"
      }
    },
    {
      "cell_type": "code",
      "source": [
        "from keras.regularizers import l2\n",
        "\n",
        "# Create a sequential model\n",
        "model = Sequential()\n",
        "\n",
        "# Add the first hidden layer with L2 regularization\n",
        "model.add(Dense(units=32, activation='relu', kernel_regularizer=l2(0.01), input_dim=9))\n",
        "\n",
        "# Add the second hidden layer with L2 regularization\n",
        "model.add(Dense(units=16, activation='relu', kernel_regularizer=l2(0.01)))\n",
        "\n",
        "# Add the third hidden layer with L2 regularization\n",
        "model.add(Dense(units=8, activation='relu', kernel_regularizer=l2(0.01)))\n",
        "\n",
        "# Add the output layer\n",
        "model.add(Dense(units=1, activation='sigmoid'))\n",
        "\n",
        "# Compile the model\n",
        "model.compile(optimizer='adam', loss='binary_crossentropy', metrics=['accuracy'])\n",
        "\n",
        "# Train the model\n",
        "train_history = model.fit(train_data, y_train, batch_size=32, epochs=50, \n",
        "                          validation_data=(validation_data, y_val)\n",
        "                          )\n"
      ],
      "metadata": {
        "id": "VU_wdvlBHCOf",
        "colab": {
          "base_uri": "https://localhost:8080/"
        },
        "outputId": "429f0804-7f79-4196-cf47-5fc8108784a3"
      },
      "execution_count": null,
      "outputs": [
        {
          "output_type": "stream",
          "name": "stdout",
          "text": [
            "Epoch 1/50\n",
            "18/18 [==============================] - 1s 9ms/step - loss: 1.0846 - accuracy: 0.5958 - val_loss: 1.0154 - val_accuracy: 0.6014\n",
            "Epoch 2/50\n",
            "18/18 [==============================] - 0s 2ms/step - loss: 1.0208 - accuracy: 0.5958 - val_loss: 0.9487 - val_accuracy: 0.6014\n",
            "Epoch 3/50\n",
            "18/18 [==============================] - 0s 2ms/step - loss: 0.9700 - accuracy: 0.5975 - val_loss: 0.8939 - val_accuracy: 0.6084\n",
            "Epoch 4/50\n",
            "18/18 [==============================] - 0s 3ms/step - loss: 0.9246 - accuracy: 0.6221 - val_loss: 0.8513 - val_accuracy: 0.6503\n",
            "Epoch 5/50\n",
            "18/18 [==============================] - 0s 2ms/step - loss: 0.8846 - accuracy: 0.6837 - val_loss: 0.8154 - val_accuracy: 0.6923\n",
            "Epoch 6/50\n",
            "18/18 [==============================] - 0s 3ms/step - loss: 0.8501 - accuracy: 0.7206 - val_loss: 0.7857 - val_accuracy: 0.7762\n",
            "Epoch 7/50\n",
            "18/18 [==============================] - 0s 3ms/step - loss: 0.8192 - accuracy: 0.7592 - val_loss: 0.7604 - val_accuracy: 0.7762\n",
            "Epoch 8/50\n",
            "18/18 [==============================] - 0s 2ms/step - loss: 0.7923 - accuracy: 0.7733 - val_loss: 0.7344 - val_accuracy: 0.7832\n",
            "Epoch 9/50\n",
            "18/18 [==============================] - 0s 4ms/step - loss: 0.7682 - accuracy: 0.7803 - val_loss: 0.7104 - val_accuracy: 0.8112\n",
            "Epoch 10/50\n",
            "18/18 [==============================] - 0s 2ms/step - loss: 0.7464 - accuracy: 0.7944 - val_loss: 0.6919 - val_accuracy: 0.8182\n",
            "Epoch 11/50\n",
            "18/18 [==============================] - 0s 4ms/step - loss: 0.7261 - accuracy: 0.8067 - val_loss: 0.6715 - val_accuracy: 0.8112\n",
            "Epoch 12/50\n",
            "18/18 [==============================] - 0s 2ms/step - loss: 0.7076 - accuracy: 0.8137 - val_loss: 0.6546 - val_accuracy: 0.8042\n",
            "Epoch 13/50\n",
            "18/18 [==============================] - 0s 2ms/step - loss: 0.6907 - accuracy: 0.8084 - val_loss: 0.6375 - val_accuracy: 0.8112\n",
            "Epoch 14/50\n",
            "18/18 [==============================] - 0s 2ms/step - loss: 0.6726 - accuracy: 0.8155 - val_loss: 0.6174 - val_accuracy: 0.8182\n",
            "Epoch 15/50\n",
            "18/18 [==============================] - 0s 2ms/step - loss: 0.6547 - accuracy: 0.8225 - val_loss: 0.5989 - val_accuracy: 0.8322\n",
            "Epoch 16/50\n",
            "18/18 [==============================] - 0s 2ms/step - loss: 0.6385 - accuracy: 0.8225 - val_loss: 0.5812 - val_accuracy: 0.8322\n",
            "Epoch 17/50\n",
            "18/18 [==============================] - 0s 2ms/step - loss: 0.6220 - accuracy: 0.8260 - val_loss: 0.5602 - val_accuracy: 0.8392\n",
            "Epoch 18/50\n",
            "18/18 [==============================] - 0s 2ms/step - loss: 0.6063 - accuracy: 0.8260 - val_loss: 0.5450 - val_accuracy: 0.8322\n",
            "Epoch 19/50\n",
            "18/18 [==============================] - 0s 2ms/step - loss: 0.5914 - accuracy: 0.8207 - val_loss: 0.5303 - val_accuracy: 0.8392\n",
            "Epoch 20/50\n",
            "18/18 [==============================] - 0s 2ms/step - loss: 0.5785 - accuracy: 0.8190 - val_loss: 0.5169 - val_accuracy: 0.8601\n",
            "Epoch 21/50\n",
            "18/18 [==============================] - 0s 2ms/step - loss: 0.5671 - accuracy: 0.8155 - val_loss: 0.5062 - val_accuracy: 0.8462\n",
            "Epoch 22/50\n",
            "18/18 [==============================] - 0s 2ms/step - loss: 0.5557 - accuracy: 0.8190 - val_loss: 0.4924 - val_accuracy: 0.8671\n",
            "Epoch 23/50\n",
            "18/18 [==============================] - 0s 4ms/step - loss: 0.5477 - accuracy: 0.8190 - val_loss: 0.4855 - val_accuracy: 0.8601\n",
            "Epoch 24/50\n",
            "18/18 [==============================] - 0s 2ms/step - loss: 0.5390 - accuracy: 0.8172 - val_loss: 0.4802 - val_accuracy: 0.8671\n",
            "Epoch 25/50\n",
            "18/18 [==============================] - 0s 2ms/step - loss: 0.5337 - accuracy: 0.8207 - val_loss: 0.4696 - val_accuracy: 0.8671\n",
            "Epoch 26/50\n",
            "18/18 [==============================] - 0s 3ms/step - loss: 0.5270 - accuracy: 0.8243 - val_loss: 0.4667 - val_accuracy: 0.8671\n",
            "Epoch 27/50\n",
            "18/18 [==============================] - 0s 4ms/step - loss: 0.5234 - accuracy: 0.8278 - val_loss: 0.4640 - val_accuracy: 0.8671\n",
            "Epoch 28/50\n",
            "18/18 [==============================] - 0s 2ms/step - loss: 0.5197 - accuracy: 0.8207 - val_loss: 0.4661 - val_accuracy: 0.8601\n",
            "Epoch 29/50\n",
            "18/18 [==============================] - 0s 3ms/step - loss: 0.5134 - accuracy: 0.8243 - val_loss: 0.4624 - val_accuracy: 0.8671\n",
            "Epoch 30/50\n",
            "18/18 [==============================] - 0s 3ms/step - loss: 0.5096 - accuracy: 0.8313 - val_loss: 0.4587 - val_accuracy: 0.8741\n",
            "Epoch 31/50\n",
            "18/18 [==============================] - 0s 3ms/step - loss: 0.5061 - accuracy: 0.8295 - val_loss: 0.4512 - val_accuracy: 0.8671\n",
            "Epoch 32/50\n",
            "18/18 [==============================] - 0s 3ms/step - loss: 0.5055 - accuracy: 0.8260 - val_loss: 0.4621 - val_accuracy: 0.8741\n",
            "Epoch 33/50\n",
            "18/18 [==============================] - 0s 2ms/step - loss: 0.5044 - accuracy: 0.8243 - val_loss: 0.4525 - val_accuracy: 0.8741\n",
            "Epoch 34/50\n",
            "18/18 [==============================] - 0s 2ms/step - loss: 0.4985 - accuracy: 0.8278 - val_loss: 0.4553 - val_accuracy: 0.8741\n",
            "Epoch 35/50\n",
            "18/18 [==============================] - 0s 3ms/step - loss: 0.4948 - accuracy: 0.8295 - val_loss: 0.4483 - val_accuracy: 0.8671\n",
            "Epoch 36/50\n",
            "18/18 [==============================] - 0s 3ms/step - loss: 0.4932 - accuracy: 0.8313 - val_loss: 0.4436 - val_accuracy: 0.8741\n",
            "Epoch 37/50\n",
            "18/18 [==============================] - 0s 2ms/step - loss: 0.4906 - accuracy: 0.8383 - val_loss: 0.4487 - val_accuracy: 0.8671\n",
            "Epoch 38/50\n",
            "18/18 [==============================] - 0s 3ms/step - loss: 0.4892 - accuracy: 0.8366 - val_loss: 0.4512 - val_accuracy: 0.8741\n",
            "Epoch 39/50\n",
            "18/18 [==============================] - 0s 2ms/step - loss: 0.4882 - accuracy: 0.8383 - val_loss: 0.4428 - val_accuracy: 0.8741\n",
            "Epoch 40/50\n",
            "18/18 [==============================] - 0s 3ms/step - loss: 0.4870 - accuracy: 0.8313 - val_loss: 0.4373 - val_accuracy: 0.8671\n",
            "Epoch 41/50\n",
            "18/18 [==============================] - 0s 3ms/step - loss: 0.4846 - accuracy: 0.8330 - val_loss: 0.4572 - val_accuracy: 0.8671\n",
            "Epoch 42/50\n",
            "18/18 [==============================] - 0s 3ms/step - loss: 0.4820 - accuracy: 0.8348 - val_loss: 0.4390 - val_accuracy: 0.8741\n",
            "Epoch 43/50\n",
            "18/18 [==============================] - 0s 3ms/step - loss: 0.4808 - accuracy: 0.8401 - val_loss: 0.4422 - val_accuracy: 0.8671\n",
            "Epoch 44/50\n",
            "18/18 [==============================] - 0s 3ms/step - loss: 0.4795 - accuracy: 0.8313 - val_loss: 0.4399 - val_accuracy: 0.8741\n",
            "Epoch 45/50\n",
            "18/18 [==============================] - 0s 2ms/step - loss: 0.4786 - accuracy: 0.8418 - val_loss: 0.4453 - val_accuracy: 0.8741\n",
            "Epoch 46/50\n",
            "18/18 [==============================] - 0s 3ms/step - loss: 0.4768 - accuracy: 0.8436 - val_loss: 0.4435 - val_accuracy: 0.8671\n",
            "Epoch 47/50\n",
            "18/18 [==============================] - 0s 3ms/step - loss: 0.4753 - accuracy: 0.8436 - val_loss: 0.4404 - val_accuracy: 0.8741\n",
            "Epoch 48/50\n",
            "18/18 [==============================] - 0s 3ms/step - loss: 0.4751 - accuracy: 0.8436 - val_loss: 0.4381 - val_accuracy: 0.8671\n",
            "Epoch 49/50\n",
            "18/18 [==============================] - 0s 3ms/step - loss: 0.4744 - accuracy: 0.8401 - val_loss: 0.4395 - val_accuracy: 0.8601\n",
            "Epoch 50/50\n",
            "18/18 [==============================] - 0s 2ms/step - loss: 0.4721 - accuracy: 0.8366 - val_loss: 0.4447 - val_accuracy: 0.8671\n"
          ]
        }
      ]
    },
    {
      "cell_type": "code",
      "source": [
        "# Obtain training results\n",
        "train_loss, accuracy, val_loss, val_accuracy = train_history.history['loss'], train_history.history['accuracy'], train_history.history['val_loss'], train_history.history['val_accuracy']"
      ],
      "metadata": {
        "id": "oA77FaZ9HSsn"
      },
      "execution_count": null,
      "outputs": []
    },
    {
      "cell_type": "code",
      "source": [
        "# Plot training and validation loss results\n",
        "plt.figure(figsize=(10,10))\n",
        "plt.plot(train_loss, label = \"training loss\")\n",
        "plt.ylabel(\"loss\")\n",
        "plt.xlabel(\"epoch\")\n",
        "plt.plot(val_loss, label = \"validation loss\")\n",
        "plt.legend()\n",
        "plt.show()"
      ],
      "metadata": {
        "colab": {
          "base_uri": "https://localhost:8080/",
          "height": 622
        },
        "id": "LhTgLQpiHUlB",
        "outputId": "83e932f1-0ca4-4120-a8ca-228806447a4b"
      },
      "execution_count": null,
      "outputs": [
        {
          "output_type": "display_data",
          "data": {
            "text/plain": [
              "<Figure size 720x720 with 1 Axes>"
            ],
            "image/png": "[encoded data removed]"
          },
          "metadata": {
            "needs_background": "light"
          }
        }
      ]
    },
    {
      "cell_type": "code",
      "source": [
        "# Plot training and validation accuracy results\n",
        "plt.figure(figsize=(10,10))\n",
        "plt.plot(accuracy, label = \"training accuracy\")\n",
        "plt.plot(val_accuracy, label = \"validation accuracy\")\n",
        "plt.ylabel(\"accuracy\")\n",
        "plt.xlabel(\"epoch\")\n",
        "plt.legend()\n",
        "plt.show()"
      ],
      "metadata": {
        "colab": {
          "base_uri": "https://localhost:8080/",
          "height": 622
        },
        "id": "LBK7mpJcHVy9",
        "outputId": "60272414-88ad-4cd9-a42c-8158a461f201"
      },
      "execution_count": null,
      "outputs": [
        {
          "output_type": "display_data",
          "data": {
            "text/plain": [
              "<Figure size 720x720 with 1 Axes>"
            ],
            "image/png": "[encoded data removed]"
          },
          "metadata": {
            "needs_background": "light"
          }
        }
      ]
    },
    {
      "cell_type": "markdown",
      "source": [
        "## Train and predict using MLP (6 hidden layers)"
      ],
      "metadata": {
        "id": "CJPr1sJ6XP-B"
      }
    },
    {
      "cell_type": "markdown",
      "source": [
        "### Without regularization"
      ],
      "metadata": {
        "id": "6jw1SH5FtX0k"
      }
    },
    {
      "cell_type": "code",
      "source": [
        "# Define the model\n",
        "model = Sequential()\n",
        "model.add(Dense(256, activation='relu', input_shape=(9,)))\n",
        "model.add(Dense(128, activation='relu'))\n",
        "model.add(Dense(64, activation='relu'))\n",
        "model.add(Dense(32, activation='relu'))\n",
        "model.add(Dense(16, activation='relu'))\n",
        "model.add(Dense(8, activation='relu'))\n",
        "model.add(Dense(1, activation='sigmoid'))\n",
        "\n",
        "# Compile the model\n",
        "model.compile(optimizer='adam', loss='binary_crossentropy', metrics=['accuracy'])\n",
        "#model.summary()"
      ],
      "metadata": {
        "id": "zez7XyE-te71"
      },
      "execution_count": null,
      "outputs": []
    },
    {
      "cell_type": "code",
      "source": [
        "# Train the model\n",
        "train_history = model.fit(train_data, y_train, batch_size=32, epochs=50, \n",
        "                          validation_data=(validation_data, y_val)\n",
        "                          )"
      ],
      "metadata": {
        "colab": {
          "base_uri": "https://localhost:8080/"
        },
        "id": "SOKHqT-Ttha1",
        "outputId": "98518dff-ae4c-4218-d7e1-dde2406c37a3"
      },
      "execution_count": null,
      "outputs": [
        {
          "output_type": "stream",
          "name": "stdout",
          "text": [
            "Epoch 1/50\n",
            "18/18 [==============================] - 1s 10ms/step - loss: 0.6100 - accuracy: 0.7417 - val_loss: 0.4385 - val_accuracy: 0.8671\n",
            "Epoch 2/50\n",
            "18/18 [==============================] - 0s 4ms/step - loss: 0.4624 - accuracy: 0.7979 - val_loss: 0.3249 - val_accuracy: 0.8741\n",
            "Epoch 3/50\n",
            "18/18 [==============================] - 0s 4ms/step - loss: 0.4214 - accuracy: 0.8313 - val_loss: 0.3344 - val_accuracy: 0.8671\n",
            "Epoch 4/50\n",
            "18/18 [==============================] - 0s 3ms/step - loss: 0.4234 - accuracy: 0.8172 - val_loss: 0.3286 - val_accuracy: 0.8671\n",
            "Epoch 5/50\n",
            "18/18 [==============================] - 0s 4ms/step - loss: 0.4038 - accuracy: 0.8278 - val_loss: 0.3856 - val_accuracy: 0.8392\n",
            "Epoch 6/50\n",
            "18/18 [==============================] - 0s 4ms/step - loss: 0.3930 - accuracy: 0.8436 - val_loss: 0.3343 - val_accuracy: 0.8671\n",
            "Epoch 7/50\n",
            "18/18 [==============================] - 0s 3ms/step - loss: 0.3821 - accuracy: 0.8401 - val_loss: 0.3975 - val_accuracy: 0.8531\n",
            "Epoch 8/50\n",
            "18/18 [==============================] - 0s 3ms/step - loss: 0.3786 - accuracy: 0.8418 - val_loss: 0.4245 - val_accuracy: 0.8392\n",
            "Epoch 9/50\n",
            "18/18 [==============================] - 0s 3ms/step - loss: 0.3556 - accuracy: 0.8612 - val_loss: 0.3228 - val_accuracy: 0.8951\n",
            "Epoch 10/50\n",
            "18/18 [==============================] - 0s 3ms/step - loss: 0.3603 - accuracy: 0.8541 - val_loss: 0.3615 - val_accuracy: 0.8601\n",
            "Epoch 11/50\n",
            "18/18 [==============================] - 0s 3ms/step - loss: 0.3425 - accuracy: 0.8629 - val_loss: 0.4063 - val_accuracy: 0.8462\n",
            "Epoch 12/50\n",
            "18/18 [==============================] - 0s 5ms/step - loss: 0.3406 - accuracy: 0.8576 - val_loss: 0.4216 - val_accuracy: 0.8252\n",
            "Epoch 13/50\n",
            "18/18 [==============================] - 0s 4ms/step - loss: 0.3243 - accuracy: 0.8699 - val_loss: 0.4076 - val_accuracy: 0.8601\n",
            "Epoch 14/50\n",
            "18/18 [==============================] - 0s 3ms/step - loss: 0.3162 - accuracy: 0.8735 - val_loss: 0.3552 - val_accuracy: 0.8811\n",
            "Epoch 15/50\n",
            "18/18 [==============================] - 0s 3ms/step - loss: 0.3178 - accuracy: 0.8699 - val_loss: 0.3585 - val_accuracy: 0.8881\n",
            "Epoch 16/50\n",
            "18/18 [==============================] - 0s 3ms/step - loss: 0.3076 - accuracy: 0.8805 - val_loss: 0.4231 - val_accuracy: 0.8741\n",
            "Epoch 17/50\n",
            "18/18 [==============================] - 0s 3ms/step - loss: 0.2971 - accuracy: 0.8787 - val_loss: 0.3700 - val_accuracy: 0.8881\n",
            "Epoch 18/50\n",
            "18/18 [==============================] - 0s 3ms/step - loss: 0.2877 - accuracy: 0.8840 - val_loss: 0.4125 - val_accuracy: 0.8462\n",
            "Epoch 19/50\n",
            "18/18 [==============================] - 0s 3ms/step - loss: 0.3060 - accuracy: 0.8699 - val_loss: 0.4756 - val_accuracy: 0.8531\n",
            "Epoch 20/50\n",
            "18/18 [==============================] - 0s 4ms/step - loss: 0.2942 - accuracy: 0.8805 - val_loss: 0.4068 - val_accuracy: 0.8811\n",
            "Epoch 21/50\n",
            "18/18 [==============================] - 0s 3ms/step - loss: 0.2856 - accuracy: 0.8717 - val_loss: 0.3663 - val_accuracy: 0.8671\n",
            "Epoch 22/50\n",
            "18/18 [==============================] - 0s 4ms/step - loss: 0.2808 - accuracy: 0.8840 - val_loss: 0.4694 - val_accuracy: 0.8881\n",
            "Epoch 23/50\n",
            "18/18 [==============================] - 0s 4ms/step - loss: 0.2525 - accuracy: 0.8928 - val_loss: 0.4178 - val_accuracy: 0.8741\n",
            "Epoch 24/50\n",
            "18/18 [==============================] - 0s 3ms/step - loss: 0.2470 - accuracy: 0.8893 - val_loss: 0.4884 - val_accuracy: 0.8601\n",
            "Epoch 25/50\n",
            "18/18 [==============================] - 0s 4ms/step - loss: 0.2617 - accuracy: 0.8910 - val_loss: 0.5163 - val_accuracy: 0.8462\n",
            "Epoch 26/50\n",
            "18/18 [==============================] - 0s 3ms/step - loss: 0.2367 - accuracy: 0.8998 - val_loss: 0.5474 - val_accuracy: 0.8462\n",
            "Epoch 27/50\n",
            "18/18 [==============================] - 0s 3ms/step - loss: 0.2427 - accuracy: 0.9033 - val_loss: 0.6346 - val_accuracy: 0.8112\n",
            "Epoch 28/50\n",
            "18/18 [==============================] - 0s 3ms/step - loss: 0.2491 - accuracy: 0.8893 - val_loss: 0.4571 - val_accuracy: 0.8741\n",
            "Epoch 29/50\n",
            "18/18 [==============================] - 0s 3ms/step - loss: 0.2198 - accuracy: 0.9016 - val_loss: 0.4896 - val_accuracy: 0.8741\n",
            "Epoch 30/50\n",
            "18/18 [==============================] - 0s 3ms/step - loss: 0.2261 - accuracy: 0.8946 - val_loss: 0.4992 - val_accuracy: 0.8252\n",
            "Epoch 31/50\n",
            "18/18 [==============================] - 0s 4ms/step - loss: 0.2135 - accuracy: 0.9069 - val_loss: 0.5575 - val_accuracy: 0.8601\n",
            "Epoch 32/50\n",
            "18/18 [==============================] - 0s 3ms/step - loss: 0.1976 - accuracy: 0.9139 - val_loss: 0.5799 - val_accuracy: 0.8531\n",
            "Epoch 33/50\n",
            "18/18 [==============================] - 0s 4ms/step - loss: 0.1973 - accuracy: 0.9121 - val_loss: 0.6491 - val_accuracy: 0.8462\n",
            "Epoch 34/50\n",
            "18/18 [==============================] - 0s 3ms/step - loss: 0.1997 - accuracy: 0.9227 - val_loss: 0.4977 - val_accuracy: 0.8252\n",
            "Epoch 35/50\n",
            "18/18 [==============================] - 0s 3ms/step - loss: 0.1890 - accuracy: 0.9262 - val_loss: 0.7709 - val_accuracy: 0.8042\n",
            "Epoch 36/50\n",
            "18/18 [==============================] - 0s 3ms/step - loss: 0.2180 - accuracy: 0.9086 - val_loss: 0.6537 - val_accuracy: 0.8182\n",
            "Epoch 37/50\n",
            "18/18 [==============================] - 0s 4ms/step - loss: 0.1856 - accuracy: 0.9156 - val_loss: 0.6540 - val_accuracy: 0.8112\n",
            "Epoch 38/50\n",
            "18/18 [==============================] - 0s 4ms/step - loss: 0.1888 - accuracy: 0.9262 - val_loss: 0.6472 - val_accuracy: 0.8531\n",
            "Epoch 39/50\n",
            "18/18 [==============================] - 0s 4ms/step - loss: 0.1793 - accuracy: 0.9209 - val_loss: 0.6141 - val_accuracy: 0.8462\n",
            "Epoch 40/50\n",
            "18/18 [==============================] - 0s 4ms/step - loss: 0.1902 - accuracy: 0.9156 - val_loss: 0.6949 - val_accuracy: 0.8531\n",
            "Epoch 41/50\n",
            "18/18 [==============================] - 0s 4ms/step - loss: 0.1868 - accuracy: 0.9104 - val_loss: 0.6627 - val_accuracy: 0.8322\n",
            "Epoch 42/50\n",
            "18/18 [==============================] - 0s 5ms/step - loss: 0.1710 - accuracy: 0.9262 - val_loss: 0.7212 - val_accuracy: 0.8322\n",
            "Epoch 43/50\n",
            "18/18 [==============================] - 0s 3ms/step - loss: 0.1609 - accuracy: 0.9350 - val_loss: 0.6848 - val_accuracy: 0.8182\n",
            "Epoch 44/50\n",
            "18/18 [==============================] - 0s 3ms/step - loss: 0.1502 - accuracy: 0.9385 - val_loss: 0.6921 - val_accuracy: 0.8322\n",
            "Epoch 45/50\n",
            "18/18 [==============================] - 0s 3ms/step - loss: 0.1641 - accuracy: 0.9332 - val_loss: 0.6792 - val_accuracy: 0.7902\n",
            "Epoch 46/50\n",
            "18/18 [==============================] - 0s 4ms/step - loss: 0.1760 - accuracy: 0.9174 - val_loss: 0.7182 - val_accuracy: 0.8182\n",
            "Epoch 47/50\n",
            "18/18 [==============================] - 0s 4ms/step - loss: 0.1882 - accuracy: 0.9139 - val_loss: 0.8536 - val_accuracy: 0.8182\n",
            "Epoch 48/50\n",
            "18/18 [==============================] - 0s 4ms/step - loss: 0.1825 - accuracy: 0.9262 - val_loss: 0.9237 - val_accuracy: 0.7972\n",
            "Epoch 49/50\n",
            "18/18 [==============================] - 0s 3ms/step - loss: 0.1922 - accuracy: 0.9227 - val_loss: 0.7116 - val_accuracy: 0.8322\n",
            "Epoch 50/50\n",
            "18/18 [==============================] - 0s 3ms/step - loss: 0.1689 - accuracy: 0.9297 - val_loss: 0.6291 - val_accuracy: 0.8322\n"
          ]
        }
      ]
    },
    {
      "cell_type": "code",
      "source": [
        "# Obtain training results\n",
        "train_loss, accuracy, val_loss, val_accuracy = train_history.history['loss'], train_history.history['accuracy'], train_history.history['val_loss'], train_history.history['val_accuracy']"
      ],
      "metadata": {
        "id": "cskACgykti23"
      },
      "execution_count": null,
      "outputs": []
    },
    {
      "cell_type": "code",
      "source": [
        "# Plot training and validation loss results\n",
        "plt.figure(figsize=(10,10))\n",
        "plt.plot(train_loss, label = \"training loss\")\n",
        "plt.plot(val_loss, label = \"validation loss\")\n",
        "plt.ylabel(\"loss\")\n",
        "plt.xlabel(\"epoch\")\n",
        "plt.legend()\n",
        "plt.show()"
      ],
      "metadata": {
        "colab": {
          "base_uri": "https://localhost:8080/",
          "height": 54
        },
        "id": "TTP3PB_6tkWq",
        "outputId": "08362242-3268-4436-c9f1-be3900349cf0"
      },
      "execution_count": null,
      "outputs": [
        {
          "output_type": "display_data",
          "data": {
            "text/plain": [
              "<Figure size 720x720 with 1 Axes>"
            ],
            "image/png": "[encoded data removed]"
          },
          "metadata": {
            "needs_background": "light"
          }
        }
      ]
    },
    {
      "cell_type": "code",
      "source": [
        "# Plot training and validation accuracy results\n",
        "plt.figure(figsize=(10,10))\n",
        "plt.plot(accuracy, label = \"training accuracy\")\n",
        "plt.plot(val_accuracy, label = \"validation accuracy\")\n",
        "plt.ylabel(\"accuracy\")\n",
        "plt.xlabel(\"epoch\")\n",
        "plt.legend()\n",
        "plt.show()"
      ],
      "metadata": {
        "colab": {
          "base_uri": "https://localhost:8080/",
          "height": 54
        },
        "id": "1cRhL7jntmDP",
        "outputId": "600a41fa-471b-4b3e-d71f-192bfb5fef14"
      },
      "execution_count": null,
      "outputs": [
        {
          "output_type": "display_data",
          "data": {
            "text/plain": [
              "<Figure size 720x720 with 1 Axes>"
            ],
            "image/png": "[encoded data removed]"
          },
          "metadata": {
            "needs_background": "light"
          }
        }
      ]
    },
    {
      "cell_type": "markdown",
      "source": [
        "### With dropout regularization"
      ],
      "metadata": {
        "id": "UbBKaBr_tao2"
      }
    },
    {
      "cell_type": "code",
      "source": [
        "# Define the model\n",
        "model = Sequential()\n",
        "model.add(Dense(256, activation='relu', input_shape=(9,)))\n",
        "model.add(Dropout(0.5))\n",
        "model.add(Dense(128, activation='relu'))\n",
        "model.add(Dense(64, activation='relu'))\n",
        "model.add(Dense(32, activation='relu'))\n",
        "model.add(Dense(16, activation='relu'))\n",
        "model.add(Dense(8, activation='relu'))\n",
        "model.add(Dense(1, activation='sigmoid'))\n",
        "\n",
        "# Compile the model\n",
        "model.compile(optimizer='adam', loss='binary_crossentropy', metrics=['accuracy'])\n",
        "#model.summary()\n"
      ],
      "metadata": {
        "id": "B1QlzqTWXViQ"
      },
      "execution_count": null,
      "outputs": []
    },
    {
      "cell_type": "code",
      "source": [
        "# Train the model\n",
        "train_history = model.fit(train_data, y_train, batch_size=32, epochs=50, \n",
        "                          validation_data=(validation_data, y_val)\n",
        "                          )"
      ],
      "metadata": {
        "colab": {
          "base_uri": "https://localhost:8080/"
        },
        "id": "GH_v0otgXlsF",
        "outputId": "6da0e26f-bff5-4c90-f17e-d6c6791ff86b"
      },
      "execution_count": null,
      "outputs": [
        {
          "output_type": "stream",
          "name": "stdout",
          "text": [
            "Epoch 1/50\n",
            "18/18 [==============================] - 1s 11ms/step - loss: 0.6730 - accuracy: 0.5817 - val_loss: 0.5972 - val_accuracy: 0.7133\n",
            "Epoch 2/50\n",
            "18/18 [==============================] - 0s 3ms/step - loss: 0.5766 - accuracy: 0.7188 - val_loss: 0.4541 - val_accuracy: 0.8671\n",
            "Epoch 3/50\n",
            "18/18 [==============================] - 0s 3ms/step - loss: 0.5123 - accuracy: 0.7944 - val_loss: 0.3953 - val_accuracy: 0.8531\n",
            "Epoch 4/50\n",
            "18/18 [==============================] - 0s 4ms/step - loss: 0.4788 - accuracy: 0.7961 - val_loss: 0.3730 - val_accuracy: 0.8671\n",
            "Epoch 5/50\n",
            "18/18 [==============================] - 0s 4ms/step - loss: 0.4585 - accuracy: 0.8032 - val_loss: 0.3467 - val_accuracy: 0.8811\n",
            "Epoch 6/50\n",
            "18/18 [==============================] - 0s 4ms/step - loss: 0.4150 - accuracy: 0.8313 - val_loss: 0.3345 - val_accuracy: 0.8741\n",
            "Epoch 7/50\n",
            "18/18 [==============================] - 0s 3ms/step - loss: 0.4216 - accuracy: 0.8225 - val_loss: 0.3508 - val_accuracy: 0.8811\n",
            "Epoch 8/50\n",
            "18/18 [==============================] - 0s 3ms/step - loss: 0.4327 - accuracy: 0.8190 - val_loss: 0.3414 - val_accuracy: 0.8741\n",
            "Epoch 9/50\n",
            "18/18 [==============================] - 0s 3ms/step - loss: 0.4176 - accuracy: 0.8225 - val_loss: 0.4345 - val_accuracy: 0.8322\n",
            "Epoch 10/50\n",
            "18/18 [==============================] - 0s 3ms/step - loss: 0.4355 - accuracy: 0.8155 - val_loss: 0.3392 - val_accuracy: 0.8811\n",
            "Epoch 11/50\n",
            "18/18 [==============================] - 0s 4ms/step - loss: 0.4134 - accuracy: 0.8172 - val_loss: 0.3679 - val_accuracy: 0.8531\n",
            "Epoch 12/50\n",
            "18/18 [==============================] - 0s 3ms/step - loss: 0.4085 - accuracy: 0.8401 - val_loss: 0.3593 - val_accuracy: 0.8671\n",
            "Epoch 13/50\n",
            "18/18 [==============================] - 0s 3ms/step - loss: 0.4132 - accuracy: 0.8243 - val_loss: 0.3506 - val_accuracy: 0.8601\n",
            "Epoch 14/50\n",
            "18/18 [==============================] - 0s 4ms/step - loss: 0.3913 - accuracy: 0.8418 - val_loss: 0.3639 - val_accuracy: 0.8531\n",
            "Epoch 15/50\n",
            "18/18 [==============================] - 0s 5ms/step - loss: 0.3954 - accuracy: 0.8366 - val_loss: 0.3844 - val_accuracy: 0.8531\n",
            "Epoch 16/50\n",
            "18/18 [==============================] - 0s 3ms/step - loss: 0.4154 - accuracy: 0.8330 - val_loss: 0.3503 - val_accuracy: 0.8671\n",
            "Epoch 17/50\n",
            "18/18 [==============================] - 0s 3ms/step - loss: 0.3793 - accuracy: 0.8489 - val_loss: 0.4026 - val_accuracy: 0.8392\n",
            "Epoch 18/50\n",
            "18/18 [==============================] - 0s 5ms/step - loss: 0.4066 - accuracy: 0.8348 - val_loss: 0.3756 - val_accuracy: 0.8531\n",
            "Epoch 19/50\n",
            "18/18 [==============================] - 0s 3ms/step - loss: 0.3854 - accuracy: 0.8436 - val_loss: 0.3703 - val_accuracy: 0.8671\n",
            "Epoch 20/50\n",
            "18/18 [==============================] - 0s 5ms/step - loss: 0.3926 - accuracy: 0.8489 - val_loss: 0.3628 - val_accuracy: 0.8811\n",
            "Epoch 21/50\n",
            "18/18 [==============================] - 0s 5ms/step - loss: 0.3971 - accuracy: 0.8348 - val_loss: 0.4036 - val_accuracy: 0.8392\n",
            "Epoch 22/50\n",
            "18/18 [==============================] - 0s 3ms/step - loss: 0.3790 - accuracy: 0.8418 - val_loss: 0.3637 - val_accuracy: 0.8601\n",
            "Epoch 23/50\n",
            "18/18 [==============================] - 0s 4ms/step - loss: 0.3798 - accuracy: 0.8330 - val_loss: 0.3514 - val_accuracy: 0.8671\n",
            "Epoch 24/50\n",
            "18/18 [==============================] - 0s 3ms/step - loss: 0.3794 - accuracy: 0.8453 - val_loss: 0.3918 - val_accuracy: 0.8462\n",
            "Epoch 25/50\n",
            "18/18 [==============================] - 0s 4ms/step - loss: 0.3740 - accuracy: 0.8418 - val_loss: 0.3777 - val_accuracy: 0.8531\n",
            "Epoch 26/50\n",
            "18/18 [==============================] - 0s 3ms/step - loss: 0.3935 - accuracy: 0.8418 - val_loss: 0.3769 - val_accuracy: 0.8531\n",
            "Epoch 27/50\n",
            "18/18 [==============================] - 0s 4ms/step - loss: 0.3777 - accuracy: 0.8453 - val_loss: 0.3865 - val_accuracy: 0.8531\n",
            "Epoch 28/50\n",
            "18/18 [==============================] - 0s 3ms/step - loss: 0.3581 - accuracy: 0.8524 - val_loss: 0.4055 - val_accuracy: 0.8462\n",
            "Epoch 29/50\n",
            "18/18 [==============================] - 0s 4ms/step - loss: 0.3744 - accuracy: 0.8453 - val_loss: 0.3907 - val_accuracy: 0.8601\n",
            "Epoch 30/50\n",
            "18/18 [==============================] - 0s 3ms/step - loss: 0.3523 - accuracy: 0.8541 - val_loss: 0.3834 - val_accuracy: 0.8531\n",
            "Epoch 31/50\n",
            "18/18 [==============================] - 0s 3ms/step - loss: 0.3781 - accuracy: 0.8418 - val_loss: 0.4141 - val_accuracy: 0.8601\n",
            "Epoch 32/50\n",
            "18/18 [==============================] - 0s 3ms/step - loss: 0.3711 - accuracy: 0.8436 - val_loss: 0.3761 - val_accuracy: 0.8601\n",
            "Epoch 33/50\n",
            "18/18 [==============================] - 0s 3ms/step - loss: 0.3530 - accuracy: 0.8541 - val_loss: 0.3621 - val_accuracy: 0.8531\n",
            "Epoch 34/50\n",
            "18/18 [==============================] - 0s 4ms/step - loss: 0.3494 - accuracy: 0.8559 - val_loss: 0.3906 - val_accuracy: 0.8462\n",
            "Epoch 35/50\n",
            "18/18 [==============================] - 0s 4ms/step - loss: 0.3754 - accuracy: 0.8436 - val_loss: 0.3698 - val_accuracy: 0.8741\n",
            "Epoch 36/50\n",
            "18/18 [==============================] - 0s 4ms/step - loss: 0.3624 - accuracy: 0.8489 - val_loss: 0.3518 - val_accuracy: 0.8741\n",
            "Epoch 37/50\n",
            "18/18 [==============================] - 0s 3ms/step - loss: 0.3581 - accuracy: 0.8471 - val_loss: 0.3503 - val_accuracy: 0.8741\n",
            "Epoch 38/50\n",
            "18/18 [==============================] - 0s 3ms/step - loss: 0.3677 - accuracy: 0.8453 - val_loss: 0.3949 - val_accuracy: 0.8462\n",
            "Epoch 39/50\n",
            "18/18 [==============================] - 0s 4ms/step - loss: 0.3664 - accuracy: 0.8471 - val_loss: 0.3825 - val_accuracy: 0.8392\n",
            "Epoch 40/50\n",
            "18/18 [==============================] - 0s 5ms/step - loss: 0.3535 - accuracy: 0.8559 - val_loss: 0.3632 - val_accuracy: 0.8671\n",
            "Epoch 41/50\n",
            "18/18 [==============================] - 0s 4ms/step - loss: 0.3575 - accuracy: 0.8471 - val_loss: 0.4277 - val_accuracy: 0.8392\n",
            "Epoch 42/50\n",
            "18/18 [==============================] - 0s 4ms/step - loss: 0.3611 - accuracy: 0.8559 - val_loss: 0.3777 - val_accuracy: 0.8741\n",
            "Epoch 43/50\n",
            "18/18 [==============================] - 0s 3ms/step - loss: 0.3497 - accuracy: 0.8524 - val_loss: 0.3709 - val_accuracy: 0.8531\n",
            "Epoch 44/50\n",
            "18/18 [==============================] - 0s 4ms/step - loss: 0.3561 - accuracy: 0.8471 - val_loss: 0.3713 - val_accuracy: 0.8601\n",
            "Epoch 45/50\n",
            "18/18 [==============================] - 0s 3ms/step - loss: 0.3372 - accuracy: 0.8576 - val_loss: 0.3690 - val_accuracy: 0.8462\n",
            "Epoch 46/50\n",
            "18/18 [==============================] - 0s 4ms/step - loss: 0.3314 - accuracy: 0.8647 - val_loss: 0.3657 - val_accuracy: 0.8531\n",
            "Epoch 47/50\n",
            "18/18 [==============================] - 0s 3ms/step - loss: 0.3291 - accuracy: 0.8682 - val_loss: 0.3663 - val_accuracy: 0.8811\n",
            "Epoch 48/50\n",
            "18/18 [==============================] - 0s 5ms/step - loss: 0.3395 - accuracy: 0.8559 - val_loss: 0.3778 - val_accuracy: 0.8811\n",
            "Epoch 49/50\n",
            "18/18 [==============================] - 0s 3ms/step - loss: 0.3352 - accuracy: 0.8664 - val_loss: 0.3709 - val_accuracy: 0.8601\n",
            "Epoch 50/50\n",
            "18/18 [==============================] - 0s 3ms/step - loss: 0.3154 - accuracy: 0.8735 - val_loss: 0.3838 - val_accuracy: 0.8671\n"
          ]
        }
      ]
    },
    {
      "cell_type": "code",
      "source": [
        "# Obtain training results\n",
        "train_loss, accuracy, val_loss, val_accuracy = train_history.history['loss'], train_history.history['accuracy'], train_history.history['val_loss'], train_history.history['val_accuracy']"
      ],
      "metadata": {
        "id": "F006gGfIXoVI"
      },
      "execution_count": null,
      "outputs": []
    },
    {
      "cell_type": "code",
      "source": [
        "# Plot training and validation loss results\n",
        "plt.figure(figsize=(10,10))\n",
        "plt.plot(train_loss, label = \"training loss\")\n",
        "plt.plot(val_loss, label = \"validation loss\")\n",
        "plt.ylabel(\"loss\")\n",
        "plt.xlabel(\"epoch\")\n",
        "plt.legend()\n",
        "plt.show()"
      ],
      "metadata": {
        "colab": {
          "base_uri": "https://localhost:8080/",
          "height": 54
        },
        "id": "Sunm6CMYXq0u",
        "outputId": "7cbd7e0e-8903-453d-de4f-0baee17e9b29"
      },
      "execution_count": null,
      "outputs": [
        {
          "output_type": "display_data",
          "data": {
            "text/plain": [
              "<Figure size 720x720 with 1 Axes>"
            ],
            "image/png": "[encoded data removed]"
          },
          "metadata": {
            "needs_background": "light"
          }
        }
      ]
    },
    {
      "cell_type": "code",
      "source": [
        "# Plot training and validation accuracy results\n",
        "plt.figure(figsize=(10,10))\n",
        "plt.plot(accuracy, label = \"training accuracy\")\n",
        "plt.plot(val_accuracy, label = \"validation accuracy\")\n",
        "plt.ylabel(\"accuracy\")\n",
        "plt.xlabel(\"epoch\")\n",
        "plt.legend()\n",
        "plt.show()"
      ],
      "metadata": {
        "colab": {
          "base_uri": "https://localhost:8080/",
          "height": 54
        },
        "id": "QbY4iJMJXtYE",
        "outputId": "20a2284a-4daf-4116-dc4f-6d779fa29283"
      },
      "execution_count": null,
      "outputs": [
        {
          "output_type": "display_data",
          "data": {
            "text/plain": [
              "<Figure size 720x720 with 1 Axes>"
            ],
            "image/png": "[encoded data removed]"
          },
          "metadata": {
            "needs_background": "light"
          }
        }
      ]
    },
    {
      "cell_type": "markdown",
      "source": [
        "### With L2 regularization"
      ],
      "metadata": {
        "id": "aF1bezkVYMtC"
      }
    },
    {
      "cell_type": "code",
      "source": [
        "from keras.regularizers import l2\n",
        "\n",
        "# Create a sequential model\n",
        "model = Sequential()\n",
        "\n",
        "# Add the first hidden layer with L2 regularization\n",
        "model.add(Dense(units=256, activation='relu', kernel_regularizer=l2(0.01), input_dim=9))\n",
        "\n",
        "# Add the second hidden layer with L2 regularization\n",
        "model.add(Dense(units=128, activation='relu', kernel_regularizer=l2(0.01)))\n",
        "\n",
        "# Add the second hidden layer with L2 regularization\n",
        "model.add(Dense(units=64, activation='relu', kernel_regularizer=l2(0.01)))\n",
        "\n",
        "# Add the second hidden layer with L2 regularization\n",
        "model.add(Dense(units=32, activation='relu', kernel_regularizer=l2(0.01)))\n",
        "\n",
        "# Add the second hidden layer with L2 regularization\n",
        "model.add(Dense(units=16, activation='relu', kernel_regularizer=l2(0.01)))\n",
        "\n",
        "# Add the third hidden layer with L2 regularization\n",
        "model.add(Dense(units=8, activation='relu', kernel_regularizer=l2(0.01)))\n",
        "\n",
        "# Add the output layer\n",
        "model.add(Dense(units=1, activation='sigmoid'))\n",
        "\n",
        "# Compile the model\n",
        "model.compile(optimizer='adam', loss='binary_crossentropy', metrics=['accuracy'])\n",
        "\n",
        "# Train the model\n",
        "train_history = model.fit(train_data, y_train, batch_size=32, epochs=50, \n",
        "                          validation_data=(validation_data, y_val)\n",
        "                          )\n"
      ],
      "metadata": {
        "colab": {
          "base_uri": "https://localhost:8080/"
        },
        "id": "H5v0Uf5RYMN6",
        "outputId": "d977a842-8edc-4980-cffc-1653266dc752"
      },
      "execution_count": null,
      "outputs": [
        {
          "output_type": "stream",
          "name": "stdout",
          "text": [
            "Epoch 1/50\n",
            "18/18 [==============================] - 1s 12ms/step - loss: 3.6777 - accuracy: 0.5870 - val_loss: 3.1496 - val_accuracy: 0.5944\n",
            "Epoch 2/50\n",
            "18/18 [==============================] - 0s 4ms/step - loss: 2.7755 - accuracy: 0.6380 - val_loss: 2.3501 - val_accuracy: 0.7552\n",
            "Epoch 3/50\n",
            "18/18 [==============================] - 0s 4ms/step - loss: 2.1193 - accuracy: 0.7856 - val_loss: 1.7981 - val_accuracy: 0.8601\n",
            "Epoch 4/50\n",
            "18/18 [==============================] - 0s 3ms/step - loss: 1.6809 - accuracy: 0.8084 - val_loss: 1.4520 - val_accuracy: 0.8182\n",
            "Epoch 5/50\n",
            "18/18 [==============================] - 0s 3ms/step - loss: 1.3701 - accuracy: 0.8155 - val_loss: 1.1831 - val_accuracy: 0.8601\n",
            "Epoch 6/50\n",
            "18/18 [==============================] - 0s 4ms/step - loss: 1.1555 - accuracy: 0.8225 - val_loss: 0.9896 - val_accuracy: 0.8741\n",
            "Epoch 7/50\n",
            "18/18 [==============================] - 0s 5ms/step - loss: 1.0010 - accuracy: 0.8067 - val_loss: 0.8664 - val_accuracy: 0.8671\n",
            "Epoch 8/50\n",
            "18/18 [==============================] - 0s 4ms/step - loss: 0.8843 - accuracy: 0.8207 - val_loss: 0.7740 - val_accuracy: 0.8601\n",
            "Epoch 9/50\n",
            "18/18 [==============================] - 0s 4ms/step - loss: 0.8132 - accuracy: 0.8243 - val_loss: 0.7487 - val_accuracy: 0.8322\n",
            "Epoch 10/50\n",
            "18/18 [==============================] - 0s 4ms/step - loss: 0.7595 - accuracy: 0.8313 - val_loss: 0.6762 - val_accuracy: 0.8531\n",
            "Epoch 11/50\n",
            "18/18 [==============================] - 0s 3ms/step - loss: 0.7163 - accuracy: 0.8278 - val_loss: 0.6671 - val_accuracy: 0.8322\n",
            "Epoch 12/50\n",
            "18/18 [==============================] - 0s 4ms/step - loss: 0.6854 - accuracy: 0.8260 - val_loss: 0.6225 - val_accuracy: 0.8671\n",
            "Epoch 13/50\n",
            "18/18 [==============================] - 0s 3ms/step - loss: 0.6674 - accuracy: 0.8295 - val_loss: 0.6189 - val_accuracy: 0.8252\n",
            "Epoch 14/50\n",
            "18/18 [==============================] - 0s 4ms/step - loss: 0.6452 - accuracy: 0.8260 - val_loss: 0.5817 - val_accuracy: 0.8531\n",
            "Epoch 15/50\n",
            "18/18 [==============================] - 0s 4ms/step - loss: 0.6297 - accuracy: 0.8330 - val_loss: 0.5503 - val_accuracy: 0.8881\n",
            "Epoch 16/50\n",
            "18/18 [==============================] - 0s 3ms/step - loss: 0.6149 - accuracy: 0.8366 - val_loss: 0.5789 - val_accuracy: 0.8531\n",
            "Epoch 17/50\n",
            "18/18 [==============================] - 0s 4ms/step - loss: 0.6058 - accuracy: 0.8383 - val_loss: 0.5272 - val_accuracy: 0.8811\n",
            "Epoch 18/50\n",
            "18/18 [==============================] - 0s 3ms/step - loss: 0.6074 - accuracy: 0.8225 - val_loss: 0.5397 - val_accuracy: 0.8881\n",
            "Epoch 19/50\n",
            "18/18 [==============================] - 0s 3ms/step - loss: 0.6009 - accuracy: 0.8278 - val_loss: 0.5207 - val_accuracy: 0.8741\n",
            "Epoch 20/50\n",
            "18/18 [==============================] - 0s 3ms/step - loss: 0.5863 - accuracy: 0.8366 - val_loss: 0.5187 - val_accuracy: 0.8601\n",
            "Epoch 21/50\n",
            "18/18 [==============================] - 0s 3ms/step - loss: 0.5761 - accuracy: 0.8453 - val_loss: 0.5374 - val_accuracy: 0.8531\n",
            "Epoch 22/50\n",
            "18/18 [==============================] - 0s 3ms/step - loss: 0.5681 - accuracy: 0.8524 - val_loss: 0.5007 - val_accuracy: 0.8741\n",
            "Epoch 23/50\n",
            "18/18 [==============================] - 0s 4ms/step - loss: 0.5870 - accuracy: 0.8207 - val_loss: 0.5092 - val_accuracy: 0.8671\n",
            "Epoch 24/50\n",
            "18/18 [==============================] - 0s 3ms/step - loss: 0.5624 - accuracy: 0.8383 - val_loss: 0.5104 - val_accuracy: 0.8531\n",
            "Epoch 25/50\n",
            "18/18 [==============================] - 0s 3ms/step - loss: 0.5558 - accuracy: 0.8418 - val_loss: 0.5034 - val_accuracy: 0.8671\n",
            "Epoch 26/50\n",
            "18/18 [==============================] - 0s 3ms/step - loss: 0.5560 - accuracy: 0.8366 - val_loss: 0.5130 - val_accuracy: 0.8531\n",
            "Epoch 27/50\n",
            "18/18 [==============================] - 0s 4ms/step - loss: 0.5613 - accuracy: 0.8383 - val_loss: 0.5173 - val_accuracy: 0.8462\n",
            "Epoch 28/50\n",
            "18/18 [==============================] - 0s 4ms/step - loss: 0.5604 - accuracy: 0.8207 - val_loss: 0.4897 - val_accuracy: 0.8811\n",
            "Epoch 29/50\n",
            "18/18 [==============================] - 0s 3ms/step - loss: 0.5503 - accuracy: 0.8278 - val_loss: 0.4958 - val_accuracy: 0.8741\n",
            "Epoch 30/50\n",
            "18/18 [==============================] - 0s 3ms/step - loss: 0.5435 - accuracy: 0.8401 - val_loss: 0.4805 - val_accuracy: 0.8881\n",
            "Epoch 31/50\n",
            "18/18 [==============================] - 0s 3ms/step - loss: 0.5487 - accuracy: 0.8278 - val_loss: 0.4950 - val_accuracy: 0.8531\n",
            "Epoch 32/50\n",
            "18/18 [==============================] - 0s 3ms/step - loss: 0.5449 - accuracy: 0.8401 - val_loss: 0.5156 - val_accuracy: 0.8531\n",
            "Epoch 33/50\n",
            "18/18 [==============================] - 0s 4ms/step - loss: 0.5426 - accuracy: 0.8330 - val_loss: 0.4944 - val_accuracy: 0.8531\n",
            "Epoch 34/50\n",
            "18/18 [==============================] - 0s 4ms/step - loss: 0.5367 - accuracy: 0.8471 - val_loss: 0.4873 - val_accuracy: 0.8601\n",
            "Epoch 35/50\n",
            "18/18 [==============================] - 0s 3ms/step - loss: 0.5316 - accuracy: 0.8524 - val_loss: 0.4781 - val_accuracy: 0.8671\n",
            "Epoch 36/50\n",
            "18/18 [==============================] - 0s 4ms/step - loss: 0.5293 - accuracy: 0.8436 - val_loss: 0.4935 - val_accuracy: 0.8531\n",
            "Epoch 37/50\n",
            "18/18 [==============================] - 0s 4ms/step - loss: 0.5350 - accuracy: 0.8383 - val_loss: 0.4866 - val_accuracy: 0.8531\n",
            "Epoch 38/50\n",
            "18/18 [==============================] - 0s 3ms/step - loss: 0.5290 - accuracy: 0.8471 - val_loss: 0.4667 - val_accuracy: 0.8741\n",
            "Epoch 39/50\n",
            "18/18 [==============================] - 0s 3ms/step - loss: 0.5396 - accuracy: 0.8295 - val_loss: 0.5123 - val_accuracy: 0.8462\n",
            "Epoch 40/50\n",
            "18/18 [==============================] - 0s 4ms/step - loss: 0.5294 - accuracy: 0.8436 - val_loss: 0.4791 - val_accuracy: 0.8671\n",
            "Epoch 41/50\n",
            "18/18 [==============================] - 0s 5ms/step - loss: 0.5247 - accuracy: 0.8471 - val_loss: 0.4874 - val_accuracy: 0.8531\n",
            "Epoch 42/50\n",
            "18/18 [==============================] - 0s 3ms/step - loss: 0.5284 - accuracy: 0.8383 - val_loss: 0.4936 - val_accuracy: 0.8531\n",
            "Epoch 43/50\n",
            "18/18 [==============================] - 0s 3ms/step - loss: 0.5199 - accuracy: 0.8418 - val_loss: 0.4623 - val_accuracy: 0.8601\n",
            "Epoch 44/50\n",
            "18/18 [==============================] - 0s 3ms/step - loss: 0.5204 - accuracy: 0.8541 - val_loss: 0.4768 - val_accuracy: 0.8601\n",
            "Epoch 45/50\n",
            "18/18 [==============================] - 0s 4ms/step - loss: 0.5147 - accuracy: 0.8541 - val_loss: 0.4785 - val_accuracy: 0.8601\n",
            "Epoch 46/50\n",
            "18/18 [==============================] - 0s 4ms/step - loss: 0.5186 - accuracy: 0.8471 - val_loss: 0.4951 - val_accuracy: 0.8462\n",
            "Epoch 47/50\n",
            "18/18 [==============================] - 0s 3ms/step - loss: 0.5164 - accuracy: 0.8541 - val_loss: 0.4748 - val_accuracy: 0.8601\n",
            "Epoch 48/50\n",
            "18/18 [==============================] - 0s 4ms/step - loss: 0.5141 - accuracy: 0.8524 - val_loss: 0.4814 - val_accuracy: 0.8531\n",
            "Epoch 49/50\n",
            "18/18 [==============================] - 0s 3ms/step - loss: 0.5189 - accuracy: 0.8524 - val_loss: 0.4612 - val_accuracy: 0.8671\n",
            "Epoch 50/50\n",
            "18/18 [==============================] - 0s 4ms/step - loss: 0.5221 - accuracy: 0.8383 - val_loss: 0.4940 - val_accuracy: 0.8601\n"
          ]
        }
      ]
    },
    {
      "cell_type": "code",
      "source": [
        "# Obtain training results\n",
        "train_loss, accuracy, val_loss, val_accuracy = train_history.history['loss'], train_history.history['accuracy'], train_history.history['val_loss'], train_history.history['val_accuracy']"
      ],
      "metadata": {
        "id": "ZaBtvVrIYakx"
      },
      "execution_count": null,
      "outputs": []
    },
    {
      "cell_type": "code",
      "source": [
        "# Plot training and validation loss results\n",
        "plt.figure(figsize=(10,10))\n",
        "plt.plot(train_loss, label = \"training loss\")\n",
        "plt.plot(val_loss, label = \"validation loss\")\n",
        "plt.ylabel(\"loss\")\n",
        "plt.xlabel(\"epoch\")\n",
        "plt.legend()\n",
        "plt.show()"
      ],
      "metadata": {
        "colab": {
          "base_uri": "https://localhost:8080/",
          "height": 54
        },
        "id": "C_5W0IvEYcWC",
        "outputId": "3cd82c16-c94d-4275-95f3-cd1118387cef"
      },
      "execution_count": null,
      "outputs": [
        {
          "output_type": "display_data",
          "data": {
            "text/plain": [
              "<Figure size 720x720 with 1 Axes>"
            ],
            "image/png": "[encoded data removed]"
          },
          "metadata": {
            "needs_background": "light"
          }
        }
      ]
    },
    {
      "cell_type": "code",
      "source": [
        "# Plot training and validation accuracy results\n",
        "plt.figure(figsize=(10,10))\n",
        "plt.plot(accuracy, label = \"training accuracy\")\n",
        "plt.plot(val_accuracy, label = \"validation accuracy\")\n",
        "plt.ylabel(\"accuracy\")\n",
        "plt.xlabel(\"epoch\")\n",
        "plt.legend()\n",
        "plt.show()"
      ],
      "metadata": {
        "colab": {
          "base_uri": "https://localhost:8080/",
          "height": 54
        },
        "id": "uYdCxPotYetb",
        "outputId": "56bb0c4a-f236-4b18-9ea1-0819ae4a7105"
      },
      "execution_count": null,
      "outputs": [
        {
          "output_type": "display_data",
          "data": {
            "text/plain": [
              "<Figure size 720x720 with 1 Axes>"
            ],
            "image/png": "[encoded data removed]"
          },
          "metadata": {
            "needs_background": "light"
          }
        }
      ]
    },
    {
      "cell_type": "markdown",
      "source": [
        "## Predict test data with best model"
      ],
      "metadata": {
        "id": "1GoCA_1XICG3"
      }
    },
    {
      "cell_type": "code",
      "source": [
        "# Define best model\n",
        "# 3 hidden layer model with Dropout regularization\n",
        "model = Sequential()\n",
        "model.add(Dense(32, activation='relu', input_shape=(9,)))\n",
        "model.add(Dropout(0.5))\n",
        "model.add(Dense(16, activation='relu'))\n",
        "model.add(Dense(1, activation='sigmoid'))\n",
        "\n",
        "# Compile the model\n",
        "model.compile(optimizer='adam', loss='binary_crossentropy', metrics=['accuracy'])\n",
        "\n",
        "# Train the model\n",
        "train_history = model.fit(train_data, y_train, batch_size=32, epochs=50, \n",
        "                          validation_data=(validation_data, y_val)\n",
        "                          )"
      ],
      "metadata": {
        "colab": {
          "base_uri": "https://localhost:8080/"
        },
        "id": "g7UM4nzJow7W",
        "outputId": "4d7fc716-7988-4052-8145-073415e0f125"
      },
      "execution_count": null,
      "outputs": [
        {
          "output_type": "stream",
          "name": "stdout",
          "text": [
            "Epoch 1/50\n",
            "18/18 [==============================] - 0s 8ms/step - loss: 0.7749 - accuracy: 0.4499 - val_loss: 0.6843 - val_accuracy: 0.5315\n",
            "Epoch 2/50\n",
            "18/18 [==============================] - 0s 2ms/step - loss: 0.6802 - accuracy: 0.5923 - val_loss: 0.6147 - val_accuracy: 0.7203\n",
            "Epoch 3/50\n",
            "18/18 [==============================] - 0s 3ms/step - loss: 0.6368 - accuracy: 0.6661 - val_loss: 0.5546 - val_accuracy: 0.7552\n",
            "Epoch 4/50\n",
            "18/18 [==============================] - 0s 2ms/step - loss: 0.5822 - accuracy: 0.7170 - val_loss: 0.5102 - val_accuracy: 0.8182\n",
            "Epoch 5/50\n",
            "18/18 [==============================] - 0s 2ms/step - loss: 0.5586 - accuracy: 0.7610 - val_loss: 0.4665 - val_accuracy: 0.8531\n",
            "Epoch 6/50\n",
            "18/18 [==============================] - 0s 2ms/step - loss: 0.5093 - accuracy: 0.7838 - val_loss: 0.4286 - val_accuracy: 0.8601\n",
            "Epoch 7/50\n",
            "18/18 [==============================] - 0s 2ms/step - loss: 0.5324 - accuracy: 0.7698 - val_loss: 0.4070 - val_accuracy: 0.8601\n",
            "Epoch 8/50\n",
            "18/18 [==============================] - 0s 2ms/step - loss: 0.5081 - accuracy: 0.7698 - val_loss: 0.3945 - val_accuracy: 0.8601\n",
            "Epoch 9/50\n",
            "18/18 [==============================] - 0s 2ms/step - loss: 0.4976 - accuracy: 0.7856 - val_loss: 0.3816 - val_accuracy: 0.8671\n",
            "Epoch 10/50\n",
            "18/18 [==============================] - 0s 3ms/step - loss: 0.5106 - accuracy: 0.7680 - val_loss: 0.3755 - val_accuracy: 0.8671\n",
            "Epoch 11/50\n",
            "18/18 [==============================] - 0s 2ms/step - loss: 0.4893 - accuracy: 0.7715 - val_loss: 0.3732 - val_accuracy: 0.8601\n",
            "Epoch 12/50\n",
            "18/18 [==============================] - 0s 2ms/step - loss: 0.4758 - accuracy: 0.7891 - val_loss: 0.3731 - val_accuracy: 0.8531\n",
            "Epoch 13/50\n",
            "18/18 [==============================] - 0s 2ms/step - loss: 0.4923 - accuracy: 0.7909 - val_loss: 0.3672 - val_accuracy: 0.8671\n",
            "Epoch 14/50\n",
            "18/18 [==============================] - 0s 3ms/step - loss: 0.4872 - accuracy: 0.7944 - val_loss: 0.3609 - val_accuracy: 0.8531\n",
            "Epoch 15/50\n",
            "18/18 [==============================] - 0s 2ms/step - loss: 0.4909 - accuracy: 0.7803 - val_loss: 0.3638 - val_accuracy: 0.8531\n",
            "Epoch 16/50\n",
            "18/18 [==============================] - 0s 2ms/step - loss: 0.4908 - accuracy: 0.7698 - val_loss: 0.3670 - val_accuracy: 0.8601\n",
            "Epoch 17/50\n",
            "18/18 [==============================] - 0s 3ms/step - loss: 0.4905 - accuracy: 0.7926 - val_loss: 0.3650 - val_accuracy: 0.8531\n",
            "Epoch 18/50\n",
            "18/18 [==============================] - 0s 3ms/step - loss: 0.4779 - accuracy: 0.7909 - val_loss: 0.3608 - val_accuracy: 0.8601\n",
            "Epoch 19/50\n",
            "18/18 [==============================] - 0s 4ms/step - loss: 0.4932 - accuracy: 0.7838 - val_loss: 0.3662 - val_accuracy: 0.8741\n",
            "Epoch 20/50\n",
            "18/18 [==============================] - 0s 3ms/step - loss: 0.4738 - accuracy: 0.7926 - val_loss: 0.3580 - val_accuracy: 0.8671\n",
            "Epoch 21/50\n",
            "18/18 [==============================] - 0s 3ms/step - loss: 0.4612 - accuracy: 0.7926 - val_loss: 0.3572 - val_accuracy: 0.8671\n",
            "Epoch 22/50\n",
            "18/18 [==============================] - 0s 3ms/step - loss: 0.4776 - accuracy: 0.7856 - val_loss: 0.3629 - val_accuracy: 0.8671\n",
            "Epoch 23/50\n",
            "18/18 [==============================] - 0s 2ms/step - loss: 0.4695 - accuracy: 0.7873 - val_loss: 0.3584 - val_accuracy: 0.8462\n",
            "Epoch 24/50\n",
            "18/18 [==============================] - 0s 2ms/step - loss: 0.4779 - accuracy: 0.7627 - val_loss: 0.3571 - val_accuracy: 0.8531\n",
            "Epoch 25/50\n",
            "18/18 [==============================] - 0s 2ms/step - loss: 0.4627 - accuracy: 0.8049 - val_loss: 0.3542 - val_accuracy: 0.8601\n",
            "Epoch 26/50\n",
            "18/18 [==============================] - 0s 3ms/step - loss: 0.4682 - accuracy: 0.7873 - val_loss: 0.3543 - val_accuracy: 0.8531\n",
            "Epoch 27/50\n",
            "18/18 [==============================] - 0s 2ms/step - loss: 0.4769 - accuracy: 0.7996 - val_loss: 0.3513 - val_accuracy: 0.8531\n",
            "Epoch 28/50\n",
            "18/18 [==============================] - 0s 2ms/step - loss: 0.4669 - accuracy: 0.8155 - val_loss: 0.3556 - val_accuracy: 0.8601\n",
            "Epoch 29/50\n",
            "18/18 [==============================] - 0s 4ms/step - loss: 0.4677 - accuracy: 0.7979 - val_loss: 0.3482 - val_accuracy: 0.8601\n",
            "Epoch 30/50\n",
            "18/18 [==============================] - 0s 2ms/step - loss: 0.4483 - accuracy: 0.8032 - val_loss: 0.3483 - val_accuracy: 0.8671\n",
            "Epoch 31/50\n",
            "18/18 [==============================] - 0s 2ms/step - loss: 0.4556 - accuracy: 0.7873 - val_loss: 0.3485 - val_accuracy: 0.8601\n",
            "Epoch 32/50\n",
            "18/18 [==============================] - 0s 3ms/step - loss: 0.4542 - accuracy: 0.7961 - val_loss: 0.3468 - val_accuracy: 0.8671\n",
            "Epoch 33/50\n",
            "18/18 [==============================] - 0s 2ms/step - loss: 0.4523 - accuracy: 0.8049 - val_loss: 0.3509 - val_accuracy: 0.8601\n",
            "Epoch 34/50\n",
            "18/18 [==============================] - 0s 2ms/step - loss: 0.4685 - accuracy: 0.7961 - val_loss: 0.3527 - val_accuracy: 0.8601\n",
            "Epoch 35/50\n",
            "18/18 [==============================] - 0s 3ms/step - loss: 0.4683 - accuracy: 0.8049 - val_loss: 0.3509 - val_accuracy: 0.8601\n",
            "Epoch 36/50\n",
            "18/18 [==============================] - 0s 4ms/step - loss: 0.4562 - accuracy: 0.8014 - val_loss: 0.3513 - val_accuracy: 0.8601\n",
            "Epoch 37/50\n",
            "18/18 [==============================] - 0s 2ms/step - loss: 0.4629 - accuracy: 0.7961 - val_loss: 0.3530 - val_accuracy: 0.8601\n",
            "Epoch 38/50\n",
            "18/18 [==============================] - 0s 2ms/step - loss: 0.4421 - accuracy: 0.8102 - val_loss: 0.3501 - val_accuracy: 0.8601\n",
            "Epoch 39/50\n",
            "18/18 [==============================] - 0s 3ms/step - loss: 0.4655 - accuracy: 0.7961 - val_loss: 0.3541 - val_accuracy: 0.8601\n",
            "Epoch 40/50\n",
            "18/18 [==============================] - 0s 2ms/step - loss: 0.4480 - accuracy: 0.8120 - val_loss: 0.3569 - val_accuracy: 0.8531\n",
            "Epoch 41/50\n",
            "18/18 [==============================] - 0s 2ms/step - loss: 0.4676 - accuracy: 0.7979 - val_loss: 0.3556 - val_accuracy: 0.8531\n",
            "Epoch 42/50\n",
            "18/18 [==============================] - 0s 3ms/step - loss: 0.4409 - accuracy: 0.8155 - val_loss: 0.3517 - val_accuracy: 0.8601\n",
            "Epoch 43/50\n",
            "18/18 [==============================] - 0s 4ms/step - loss: 0.4458 - accuracy: 0.8172 - val_loss: 0.3513 - val_accuracy: 0.8601\n",
            "Epoch 44/50\n",
            "18/18 [==============================] - 0s 4ms/step - loss: 0.4448 - accuracy: 0.8137 - val_loss: 0.3473 - val_accuracy: 0.8601\n",
            "Epoch 45/50\n",
            "18/18 [==============================] - 0s 2ms/step - loss: 0.4472 - accuracy: 0.8120 - val_loss: 0.3513 - val_accuracy: 0.8601\n",
            "Epoch 46/50\n",
            "18/18 [==============================] - 0s 2ms/step - loss: 0.4412 - accuracy: 0.8049 - val_loss: 0.3505 - val_accuracy: 0.8601\n",
            "Epoch 47/50\n",
            "18/18 [==============================] - 0s 4ms/step - loss: 0.4552 - accuracy: 0.8032 - val_loss: 0.3536 - val_accuracy: 0.8601\n",
            "Epoch 48/50\n",
            "18/18 [==============================] - 0s 3ms/step - loss: 0.4362 - accuracy: 0.8049 - val_loss: 0.3577 - val_accuracy: 0.8531\n",
            "Epoch 49/50\n",
            "18/18 [==============================] - 0s 2ms/step - loss: 0.4350 - accuracy: 0.8155 - val_loss: 0.3537 - val_accuracy: 0.8531\n",
            "Epoch 50/50\n",
            "18/18 [==============================] - 0s 3ms/step - loss: 0.4356 - accuracy: 0.8067 - val_loss: 0.3513 - val_accuracy: 0.8531\n"
          ]
        }
      ]
    },
    {
      "cell_type": "code",
      "source": [
        "# Predict outputs for test data\n",
        "pred = model.predict(test_dataset)"
      ],
      "metadata": {
        "colab": {
          "base_uri": "https://localhost:8080/"
        },
        "id": "SUd_g34GIUFc",
        "outputId": "3ae32593-5ed1-482f-abee-c944a8e51e85"
      },
      "execution_count": null,
      "outputs": [
        {
          "output_type": "stream",
          "name": "stdout",
          "text": [
            "14/14 [==============================] - 0s 1ms/step\n"
          ]
        }
      ]
    },
    {
      "cell_type": "code",
      "source": [
        "# Convert predictions probabilities into binary array\n",
        "preds = [1 if p[0] >= 0.5 else 0 for p in pred]"
      ],
      "metadata": {
        "id": "EN6INBBZq-hz"
      },
      "execution_count": null,
      "outputs": []
    },
    {
      "cell_type": "code",
      "source": [
        "# Prepare submission data\n",
        "submission = pd.DataFrame({\n",
        "        \"PassengerId\": test_data_df[\"PassengerId\"],\n",
        "        \"Survived\": preds\n",
        "    })\n",
        "submission.to_csv('submissionDropout.csv', index=False)"
      ],
      "metadata": {
        "id": "3Zd8YX9faXWI"
      },
      "execution_count": null,
      "outputs": []
    },
    {
      "cell_type": "code",
      "source": [
        "# Define best model\n",
        "# 3 hidden layer model with L2 regularization\n",
        "# Create a sequential model\n",
        "model = Sequential()\n",
        "\n",
        "# Add the first hidden layer with L2 regularization\n",
        "model.add(Dense(units=32, activation='relu', kernel_regularizer=l2(0.01), input_dim=9))\n",
        "\n",
        "# Add the second hidden layer with L2 regularization\n",
        "model.add(Dense(units=16, activation='relu', kernel_regularizer=l2(0.01)))\n",
        "\n",
        "# Add the third hidden layer with L2 regularization\n",
        "model.add(Dense(units=8, activation='relu', kernel_regularizer=l2(0.01)))\n",
        "\n",
        "# Add the output layer\n",
        "model.add(Dense(units=1, activation='sigmoid'))\n",
        "\n",
        "# Compile the model\n",
        "model.compile(optimizer='adam', loss='binary_crossentropy', metrics=['accuracy'])\n",
        "\n",
        "# Train the model\n",
        "train_history = model.fit(train_data, y_train, batch_size=32, epochs=50, \n",
        "                          validation_data=(validation_data, y_val)\n",
        "                          )"
      ],
      "metadata": {
        "colab": {
          "base_uri": "https://localhost:8080/"
        },
        "id": "36iipAwOQ7OB",
        "outputId": "4784e07c-6189-4599-d152-39e4958c3381"
      },
      "execution_count": null,
      "outputs": [
        {
          "output_type": "stream",
          "name": "stdout",
          "text": [
            "Epoch 1/50\n",
            "18/18 [==============================] - 1s 10ms/step - loss: 1.1129 - accuracy: 0.5993 - val_loss: 1.0812 - val_accuracy: 0.6573\n",
            "Epoch 2/50\n",
            "18/18 [==============================] - 0s 3ms/step - loss: 1.0515 - accuracy: 0.6714 - val_loss: 1.0107 - val_accuracy: 0.7972\n",
            "Epoch 3/50\n",
            "18/18 [==============================] - 0s 3ms/step - loss: 0.9888 - accuracy: 0.7487 - val_loss: 0.9407 - val_accuracy: 0.8322\n",
            "Epoch 4/50\n",
            "18/18 [==============================] - 0s 3ms/step - loss: 0.9306 - accuracy: 0.7522 - val_loss: 0.8758 - val_accuracy: 0.8252\n",
            "Epoch 5/50\n",
            "18/18 [==============================] - 0s 2ms/step - loss: 0.8750 - accuracy: 0.7645 - val_loss: 0.8159 - val_accuracy: 0.8322\n",
            "Epoch 6/50\n",
            "18/18 [==============================] - 0s 2ms/step - loss: 0.8237 - accuracy: 0.7645 - val_loss: 0.7536 - val_accuracy: 0.8322\n",
            "Epoch 7/50\n",
            "18/18 [==============================] - 0s 3ms/step - loss: 0.7706 - accuracy: 0.7803 - val_loss: 0.6928 - val_accuracy: 0.8531\n",
            "Epoch 8/50\n",
            "18/18 [==============================] - 0s 3ms/step - loss: 0.7256 - accuracy: 0.7838 - val_loss: 0.6430 - val_accuracy: 0.8601\n",
            "Epoch 9/50\n",
            "18/18 [==============================] - 0s 2ms/step - loss: 0.6922 - accuracy: 0.7944 - val_loss: 0.6027 - val_accuracy: 0.8671\n",
            "Epoch 10/50\n",
            "18/18 [==============================] - 0s 3ms/step - loss: 0.6663 - accuracy: 0.8014 - val_loss: 0.5776 - val_accuracy: 0.8671\n",
            "Epoch 11/50\n",
            "18/18 [==============================] - 0s 3ms/step - loss: 0.6460 - accuracy: 0.7996 - val_loss: 0.5563 - val_accuracy: 0.8671\n",
            "Epoch 12/50\n",
            "18/18 [==============================] - 0s 4ms/step - loss: 0.6276 - accuracy: 0.8084 - val_loss: 0.5394 - val_accuracy: 0.8601\n",
            "Epoch 13/50\n",
            "18/18 [==============================] - 0s 3ms/step - loss: 0.6123 - accuracy: 0.8120 - val_loss: 0.5270 - val_accuracy: 0.8601\n",
            "Epoch 14/50\n",
            "18/18 [==============================] - 0s 4ms/step - loss: 0.5987 - accuracy: 0.8102 - val_loss: 0.5181 - val_accuracy: 0.8531\n",
            "Epoch 15/50\n",
            "18/18 [==============================] - 0s 3ms/step - loss: 0.5884 - accuracy: 0.8120 - val_loss: 0.5063 - val_accuracy: 0.8601\n",
            "Epoch 16/50\n",
            "18/18 [==============================] - 0s 3ms/step - loss: 0.5775 - accuracy: 0.8137 - val_loss: 0.4974 - val_accuracy: 0.8671\n",
            "Epoch 17/50\n",
            "18/18 [==============================] - 0s 2ms/step - loss: 0.5694 - accuracy: 0.8155 - val_loss: 0.4910 - val_accuracy: 0.8601\n",
            "Epoch 18/50\n",
            "18/18 [==============================] - 0s 2ms/step - loss: 0.5602 - accuracy: 0.8155 - val_loss: 0.4808 - val_accuracy: 0.8671\n",
            "Epoch 19/50\n",
            "18/18 [==============================] - 0s 2ms/step - loss: 0.5536 - accuracy: 0.8207 - val_loss: 0.4758 - val_accuracy: 0.8671\n",
            "Epoch 20/50\n",
            "18/18 [==============================] - 0s 3ms/step - loss: 0.5480 - accuracy: 0.8207 - val_loss: 0.4772 - val_accuracy: 0.8601\n",
            "Epoch 21/50\n",
            "18/18 [==============================] - 0s 2ms/step - loss: 0.5411 - accuracy: 0.8243 - val_loss: 0.4673 - val_accuracy: 0.8741\n",
            "Epoch 22/50\n",
            "18/18 [==============================] - 0s 2ms/step - loss: 0.5370 - accuracy: 0.8243 - val_loss: 0.4639 - val_accuracy: 0.8741\n",
            "Epoch 23/50\n",
            "18/18 [==============================] - 0s 3ms/step - loss: 0.5320 - accuracy: 0.8313 - val_loss: 0.4612 - val_accuracy: 0.8671\n",
            "Epoch 24/50\n",
            "18/18 [==============================] - 0s 2ms/step - loss: 0.5281 - accuracy: 0.8278 - val_loss: 0.4547 - val_accuracy: 0.8741\n",
            "Epoch 25/50\n",
            "18/18 [==============================] - 0s 2ms/step - loss: 0.5247 - accuracy: 0.8278 - val_loss: 0.4532 - val_accuracy: 0.8671\n",
            "Epoch 26/50\n",
            "18/18 [==============================] - 0s 2ms/step - loss: 0.5212 - accuracy: 0.8260 - val_loss: 0.4503 - val_accuracy: 0.8671\n",
            "Epoch 27/50\n",
            "18/18 [==============================] - 0s 2ms/step - loss: 0.5186 - accuracy: 0.8243 - val_loss: 0.4510 - val_accuracy: 0.8601\n",
            "Epoch 28/50\n",
            "18/18 [==============================] - 0s 2ms/step - loss: 0.5151 - accuracy: 0.8278 - val_loss: 0.4465 - val_accuracy: 0.8671\n",
            "Epoch 29/50\n",
            "18/18 [==============================] - 0s 2ms/step - loss: 0.5140 - accuracy: 0.8278 - val_loss: 0.4474 - val_accuracy: 0.8671\n",
            "Epoch 30/50\n",
            "18/18 [==============================] - 0s 3ms/step - loss: 0.5113 - accuracy: 0.8295 - val_loss: 0.4448 - val_accuracy: 0.8462\n",
            "Epoch 31/50\n",
            "18/18 [==============================] - 0s 2ms/step - loss: 0.5099 - accuracy: 0.8313 - val_loss: 0.4354 - val_accuracy: 0.8811\n",
            "Epoch 32/50\n",
            "18/18 [==============================] - 0s 2ms/step - loss: 0.5065 - accuracy: 0.8348 - val_loss: 0.4455 - val_accuracy: 0.8462\n",
            "Epoch 33/50\n",
            "18/18 [==============================] - 0s 2ms/step - loss: 0.5043 - accuracy: 0.8295 - val_loss: 0.4367 - val_accuracy: 0.8601\n",
            "Epoch 34/50\n",
            "18/18 [==============================] - 0s 3ms/step - loss: 0.5028 - accuracy: 0.8330 - val_loss: 0.4399 - val_accuracy: 0.8601\n",
            "Epoch 35/50\n",
            "18/18 [==============================] - 0s 3ms/step - loss: 0.5007 - accuracy: 0.8313 - val_loss: 0.4346 - val_accuracy: 0.8671\n",
            "Epoch 36/50\n",
            "18/18 [==============================] - 0s 4ms/step - loss: 0.4985 - accuracy: 0.8401 - val_loss: 0.4342 - val_accuracy: 0.8531\n",
            "Epoch 37/50\n",
            "18/18 [==============================] - 0s 3ms/step - loss: 0.4974 - accuracy: 0.8330 - val_loss: 0.4321 - val_accuracy: 0.8601\n",
            "Epoch 38/50\n",
            "18/18 [==============================] - 0s 3ms/step - loss: 0.4973 - accuracy: 0.8348 - val_loss: 0.4323 - val_accuracy: 0.8601\n",
            "Epoch 39/50\n",
            "18/18 [==============================] - 0s 2ms/step - loss: 0.4947 - accuracy: 0.8383 - val_loss: 0.4337 - val_accuracy: 0.8671\n",
            "Epoch 40/50\n",
            "18/18 [==============================] - 0s 2ms/step - loss: 0.4933 - accuracy: 0.8383 - val_loss: 0.4334 - val_accuracy: 0.8601\n",
            "Epoch 41/50\n",
            "18/18 [==============================] - 0s 3ms/step - loss: 0.4918 - accuracy: 0.8313 - val_loss: 0.4316 - val_accuracy: 0.8671\n",
            "Epoch 42/50\n",
            "18/18 [==============================] - 0s 3ms/step - loss: 0.4908 - accuracy: 0.8348 - val_loss: 0.4291 - val_accuracy: 0.8671\n",
            "Epoch 43/50\n",
            "18/18 [==============================] - 0s 2ms/step - loss: 0.4897 - accuracy: 0.8295 - val_loss: 0.4286 - val_accuracy: 0.8671\n",
            "Epoch 44/50\n",
            "18/18 [==============================] - 0s 3ms/step - loss: 0.4895 - accuracy: 0.8366 - val_loss: 0.4282 - val_accuracy: 0.8671\n",
            "Epoch 45/50\n",
            "18/18 [==============================] - 0s 3ms/step - loss: 0.4883 - accuracy: 0.8366 - val_loss: 0.4245 - val_accuracy: 0.8601\n",
            "Epoch 46/50\n",
            "18/18 [==============================] - 0s 2ms/step - loss: 0.4867 - accuracy: 0.8330 - val_loss: 0.4276 - val_accuracy: 0.8601\n",
            "Epoch 47/50\n",
            "18/18 [==============================] - 0s 3ms/step - loss: 0.4868 - accuracy: 0.8401 - val_loss: 0.4243 - val_accuracy: 0.8671\n",
            "Epoch 48/50\n",
            "18/18 [==============================] - 0s 3ms/step - loss: 0.4844 - accuracy: 0.8401 - val_loss: 0.4285 - val_accuracy: 0.8601\n",
            "Epoch 49/50\n",
            "18/18 [==============================] - 0s 2ms/step - loss: 0.4832 - accuracy: 0.8348 - val_loss: 0.4231 - val_accuracy: 0.8671\n",
            "Epoch 50/50\n",
            "18/18 [==============================] - 0s 3ms/step - loss: 0.4826 - accuracy: 0.8330 - val_loss: 0.4214 - val_accuracy: 0.8601\n"
          ]
        }
      ]
    },
    {
      "cell_type": "code",
      "source": [
        "# Predict outputs for test data\n",
        "pred = model.predict(test_dataset)"
      ],
      "metadata": {
        "colab": {
          "base_uri": "https://localhost:8080/"
        },
        "id": "xWnDFBv5RDSZ",
        "outputId": "2c12124e-fd3c-4b33-e549-343859f3b4b0"
      },
      "execution_count": null,
      "outputs": [
        {
          "output_type": "stream",
          "name": "stdout",
          "text": [
            "14/14 [==============================] - 0s 1ms/step\n"
          ]
        }
      ]
    },
    {
      "cell_type": "code",
      "source": [
        "# Convert predictions probabilities into binary array\n",
        "preds = [1 if p[0] >= 0.5 else 0 for p in pred]"
      ],
      "metadata": {
        "id": "Re9rMdcAREum"
      },
      "execution_count": null,
      "outputs": []
    },
    {
      "cell_type": "code",
      "source": [
        "# Prepare submission data\n",
        "submission = pd.DataFrame({\n",
        "        \"PassengerId\": test_data_df[\"PassengerId\"],\n",
        "        \"Survived\": preds\n",
        "    })\n",
        "submission.to_csv('submissionL2.csv', index=False)"
      ],
      "metadata": {
        "id": "KEjSyk4bRMas"
      },
      "execution_count": null,
      "outputs": []
    }
  ]
}